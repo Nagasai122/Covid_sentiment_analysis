{
  "nbformat": 4,
  "nbformat_minor": 0,
  "metadata": {
    "colab": {
      "private_outputs": true,
      "provenance": [],
      "collapsed_sections": [
        "qBMux9mC6MCf",
        "ArJBuiUVfxKd",
        "4qY1EAkEfxKe",
        "PiV4Ypx8fxKe",
        "TfvqoZmBfxKf",
        "dJ2tPlVmpsJ0",
        "JWYfwnehpsJ1",
        "-jK_YjpMpsJ2",
        "HAih1iBOpsJ2",
        "zVGeBEFhpsJ2",
        "bmKjuQ-FpsJ3",
        "Fze-IPXLpx6K",
        "7AN1z2sKpx6M",
        "9PIHJqyupx6M",
        "_-qAgymDpx6N",
        "Z-hykwinpx6N",
        "h_CCil-SKHpo",
        "cBFFvTBNJzUa",
        "HvGl1hHyA_VK",
        "EyNgTHvd2WFk",
        "KH5McJBi2d8v",
        "iW_Lq9qf2h6X",
        "-Kee-DAl2viO",
        "gCX9965dhzqZ",
        "gIfDvo9L0UH2"
      ],
      "include_colab_link": true
    },
    "kernelspec": {
      "name": "python3",
      "display_name": "Python 3"
    },
    "language_info": {
      "name": "python"
    }
  },
  "cells": [
    {
      "cell_type": "markdown",
      "metadata": {
        "id": "view-in-github",
        "colab_type": "text"
      },
      "source": [
        "<a href=\"https://colab.research.google.com/github/Nagasai122/Covid_sentiment_analysis/blob/main/Netflix_movie_suggestion_UnsuvervisedML.ipynb\" target=\"_parent\"><img src=\"https://colab.research.google.com/assets/colab-badge.svg\" alt=\"Open In Colab\"/></a>"
      ]
    },
    {
      "cell_type": "markdown",
      "source": [
        "# **Project Name**    - Netflix Movies and TV shows Clustering"
      ],
      "metadata": {
        "id": "vncDsAP0Gaoa"
      }
    },
    {
      "cell_type": "markdown",
      "source": [
        "##### **Project Type**    - Unsupervised\n",
        "##### **Contribution**    - Individual\n",
        "##### **Member 1 -** Dasari Naga Sai"
      ],
      "metadata": {
        "id": "beRrZCGUAJYm"
      }
    },
    {
      "cell_type": "markdown",
      "source": [
        "# **Project Summary -**"
      ],
      "metadata": {
        "id": "FJNUwmbgGyua"
      }
    },
    {
      "cell_type": "markdown",
      "source": [
        "![2A0025B2-7DA0-45B0-8FD9-BB8550536D15.jpeg](data:image/jpeg;base64,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)"
      ],
      "metadata": {
        "id": "9pVZCZ3X3wHs"
      }
    },
    {
      "cell_type": "markdown",
      "source": [
        "Netflix, the world’s largest on-demand internet streaming media and online DVD movie rental service provider.it Founded August 29, 1997, in Los Gatos, California by Marc and Reed. It has 69 million members in over 60 countries enjoying more than 100 million hours of TV shows and movies per day Netflix is the world’s leading internet entertainment service with enjoying TV series, documentaries, and feature films across a wide variety of genres and languages. I was curious to analyze the content released in Netflix platform which led me to create these simple, interactive, and exciting visualizations and find similar groups of people.\n",
        "\n",
        "This dataset consists of tv shows and movies available on Netflix as of 2019. The dataset is collected from Fixable which is a third-party Netflix search engine. In 2018, they released an interesting report which shows that the number of TV shows on Netflix has nearly tripled since 2010. The streaming service’s number of movies has decreased by more than 2,000 titles since 2010, while its number of TV shows has nearly tripled. It will be interesting to explore what all other insights can be obtained from the same dataset. Integrating this dataset with other external datasets such as IMDB ratings, rotten tomatoes can also provide many interesting findings.\n",
        "\n",
        "In this project, we worked on a text clustering problem where we had to classify/group the Netflix movie/shows into certain clusters such that the shows within a cluster are similar to each other and the shows in different clusters are dissimilar to each other.\n",
        "\n",
        "* The dataset contained about 7787 records, and 11 attributes.\n",
        "\n",
        "* In the initial phase, we have focused more on the data cleaning and analyzed data in various categories and then we did exploratory data analysis (EDA).\n",
        "\n",
        "* We Created cluster using following attributes like director, cast, country, genre, rating and description. These attributes were tokenized, preprocessed, and then vectorized using TFIDF vectorizer.\n",
        "\n",
        "* We used Principal Component Analysis (PCA) to handle the curse of dimensionality.\n",
        "\n",
        "* We built Two types of clusters using the K-Means Clustering and Agglomerative Heirachycal clustering algorithm and find out optimal number of clusters using diffrent technique such as elbow method, silhoutte score and dendogram etc.\n",
        "\n",
        "* A content based recommender system was built using the similarity matrix obtained after using cosine similarity. This recommender system will make 10 recommendations to the user based on the type of show they watched."
      ],
      "metadata": {
        "id": "F6v_1wHtG2nS"
      }
    },
    {
      "cell_type": "markdown",
      "source": [
        "# **GitHub Link -**"
      ],
      "metadata": {
        "id": "w6K7xa23Elo4"
      }
    },
    {
      "cell_type": "markdown",
      "source": [
        "Provide your GitHub Link here."
      ],
      "metadata": {
        "id": "h1o69JH3Eqqn"
      }
    },
    {
      "cell_type": "markdown",
      "source": [
        "# **Problem Statement**\n"
      ],
      "metadata": {
        "id": "yQaldy8SH6Dl"
      }
    },
    {
      "cell_type": "markdown",
      "source": [
        "**This dataset consists of tv shows and movies available on Netflix as of 2019. The dataset is collected from Flixable which is a third-party Netflix search engine.**\n",
        "\n",
        "In 2018, they released an interesting report which shows that the number of TV shows on Netflix has nearly tripled since 2010. The streaming service’s number of movies has decreased by more than 2,000 titles since 2010, while its number of TV shows has nearly tripled. It will be interesting to explore what all other insights can be obtained from the same dataset.\n",
        "\n",
        "Integrating this dataset with other external datasets such as IMDB ratings, rotten tomatoes can also provide many interesting findings."
      ],
      "metadata": {
        "id": "DpeJGUA3kjGy"
      }
    },
    {
      "cell_type": "markdown",
      "source": [
        "# ***Let's Begin !***"
      ],
      "metadata": {
        "id": "O_i_v8NEhb9l"
      }
    },
    {
      "cell_type": "markdown",
      "source": [
        "## ***1. Know Your Data***"
      ],
      "metadata": {
        "id": "HhfV-JJviCcP"
      }
    },
    {
      "cell_type": "markdown",
      "source": [
        "### Import Libraries"
      ],
      "metadata": {
        "id": "Y3lxredqlCYt"
      }
    },
    {
      "cell_type": "code",
      "source": [
        "# Importing Libraries\n",
        "\n",
        "import pandas as pd\n",
        "import numpy as np\n",
        "import matplotlib.pyplot as plt\n",
        "%matplotlib inline\n",
        "import seaborn as sns\n",
        "sns.set(style=\"darkgrid\")\n",
        "import plotly.express as px\n",
        "\n",
        "from datetime import datetime\n",
        "\n",
        "# Word Cloud library\n",
        "from wordcloud import WordCloud, STOPWORDS\n",
        "\n",
        "# library used for textual data prerocessing\n",
        "import string,unicodedata\n",
        "string.punctuation\n",
        "import re\n",
        "import nltk\n",
        "from nltk.corpus import stopwords\n",
        "nltk.download('stopwords')\n",
        "from nltk.stem.snowball import SnowballStemmer\n",
        "from sklearn.feature_extraction.text import CountVectorizer\n",
        "from sklearn.feature_extraction.text import TfidfVectorizer\n",
        "from sklearn.decomposition import PCA\n",
        "\n",
        "# library used for building recommandation system\n",
        "from sklearn.metrics.pairwise import cosine_similarity\n",
        "\n",
        "# library used for Clusters impelementation\n",
        "from sklearn.cluster import KMeans\n",
        "from sklearn.metrics import silhouette_score\n",
        "from sklearn.cluster import AgglomerativeClustering\n",
        "import scipy.cluster.hierarchy as shc\n",
        "\n",
        "\n",
        "import warnings\n",
        "warnings.filterwarnings('ignore')\n",
        "\n",
        "\n"
      ],
      "metadata": {
        "id": "M8Vqi-pPk-HR"
      },
      "execution_count": null,
      "outputs": []
    },
    {
      "cell_type": "markdown",
      "source": [
        "### Dataset Loading"
      ],
      "metadata": {
        "id": "3RnN4peoiCZX"
      }
    },
    {
      "cell_type": "code",
      "source": [
        "# Load Dataset\n",
        "df = pd.read_csv('https://raw.githubusercontent.com/Nagasai122/Netflix_movie_recommedations/main/NETFLIX%20MOVIES%20AND%20TV%20SHOWS%20CLUSTERING.csv')"
      ],
      "metadata": {
        "id": "4CkvbW_SlZ_R"
      },
      "execution_count": null,
      "outputs": []
    },
    {
      "cell_type": "markdown",
      "source": [
        "### Dataset First View"
      ],
      "metadata": {
        "id": "x71ZqKXriCWQ"
      }
    },
    {
      "cell_type": "code",
      "source": [
        "# Dataset First Look\n",
        "df.head()"
      ],
      "metadata": {
        "id": "LWNFOSvLl09H"
      },
      "execution_count": null,
      "outputs": []
    },
    {
      "cell_type": "markdown",
      "source": [
        "### Dataset Rows & Columns count"
      ],
      "metadata": {
        "id": "7hBIi_osiCS2"
      }
    },
    {
      "cell_type": "code",
      "source": [
        "# Dataset Rows & Columns count\n",
        "df.shape"
      ],
      "metadata": {
        "id": "Kllu7SJgmLij"
      },
      "execution_count": null,
      "outputs": []
    },
    {
      "cell_type": "markdown",
      "source": [
        "### Dataset Information"
      ],
      "metadata": {
        "id": "JlHwYmJAmNHm"
      }
    },
    {
      "cell_type": "code",
      "source": [
        "# Dataset Info\n",
        "df.info()"
      ],
      "metadata": {
        "id": "e9hRXRi6meOf"
      },
      "execution_count": null,
      "outputs": []
    },
    {
      "cell_type": "markdown",
      "source": [
        "#### Duplicate Values"
      ],
      "metadata": {
        "id": "35m5QtbWiB9F"
      }
    },
    {
      "cell_type": "code",
      "source": [
        "# Dataset Duplicate Value Count\n",
        "df.duplicated().sum()"
      ],
      "metadata": {
        "id": "1sLdpKYkmox0"
      },
      "execution_count": null,
      "outputs": []
    },
    {
      "cell_type": "markdown",
      "source": [
        "#### Missing Values/Null Values"
      ],
      "metadata": {
        "id": "PoPl-ycgm1ru"
      }
    },
    {
      "cell_type": "code",
      "source": [
        "# Missing Values/Null Values Count\n",
        "df.isna().sum()"
      ],
      "metadata": {
        "id": "GgHWkxvamxVg"
      },
      "execution_count": null,
      "outputs": []
    },
    {
      "cell_type": "code",
      "source": [
        "# missing value percentage\n",
        "columnwise_percent_missing_values = round((df.isna().sum())/len(df)*100,2).sort_values(ascending=False)\n",
        "columnwise_percent_missing_values"
      ],
      "metadata": {
        "id": "Tz8gEJyM9hPy"
      },
      "execution_count": null,
      "outputs": []
    },
    {
      "cell_type": "code",
      "source": [
        "# Visualizing the missing values\n",
        "\n",
        "plt.figure(figsize=(12,6))\n",
        "plt.title(\"Percentage of Missing Values per Column\",fontsize=15)\n",
        "sns.heatmap(df.isnull(),yticklabels=False,cbar=False,cmap='Greens')\n",
        "plt.xlabel('Column name')\n",
        "plt.ylabel('% missing values')\n",
        "plt.xticks(rotation=90)\n",
        "plt.show()"
      ],
      "metadata": {
        "id": "3q5wnI3om9sJ"
      },
      "execution_count": null,
      "outputs": []
    },
    {
      "cell_type": "markdown",
      "source": [
        "### What did you know about your dataset?"
      ],
      "metadata": {
        "id": "H0kj-8xxnORC"
      }
    },
    {
      "cell_type": "markdown",
      "source": [
        "**NaN values are present in the following columns:**\n",
        "\n",
        "*   director\n",
        "*   cast\n",
        "*   country\n",
        "*   date_added\n",
        "*   rating\n",
        "\n",
        "Since data set provided of small size, we can't drop null values. So we will impute NaN values with mode."
      ],
      "metadata": {
        "id": "gfoNAAC-nUe_"
      }
    },
    {
      "cell_type": "markdown",
      "source": [
        "## ***2. Understanding Your Variables***"
      ],
      "metadata": {
        "id": "nA9Y7ga8ng1Z"
      }
    },
    {
      "cell_type": "code",
      "source": [
        "# Dataset Columns\n",
        "df.columns"
      ],
      "metadata": {
        "id": "j7xfkqrt5Ag5"
      },
      "execution_count": null,
      "outputs": []
    },
    {
      "cell_type": "code",
      "source": [
        "# Dataset Describe\n",
        "df.describe(include='all').transpose()"
      ],
      "metadata": {
        "id": "DnOaZdaE5Q5t"
      },
      "execution_count": null,
      "outputs": []
    },
    {
      "cell_type": "markdown",
      "source": [
        "### Variables Description "
      ],
      "metadata": {
        "id": "PBTbrJXOngz2"
      }
    },
    {
      "cell_type": "markdown",
      "source": [
        "\n",
        "*   **show_id**      : Unique ID for every Movie/Show\n",
        "*   **type**         : Identifier - Movie/Show\n",
        "*   **title**        : Title of the Movie/Show\n",
        "*   **director**     : Director of the Movie/Show\n",
        "*   **cast**         : Actors involved in the Movie/Show\n",
        "*   **country**      : Country where the Movie/Show was produced\n",
        "*   **date_added**   : Date it was added on Netflix\n",
        "*   **release_year** : Actual Release year of the Movie/Show\n",
        "*   **rating**       : TV Rating of the Movie/Show\n",
        "*   **duration**     : Total Duration - in minutes or number of seasons\n",
        "*   **listed_in**    : Genre\n",
        "*   **description**  : The Summary description\n",
        "\n",
        "\n",
        "\n"
      ],
      "metadata": {
        "id": "aJV4KIxSnxay"
      }
    },
    {
      "cell_type": "markdown",
      "source": [
        "### Check Unique Values for each variable"
      ],
      "metadata": {
        "id": "u3PMJOP6ngxN"
      }
    },
    {
      "cell_type": "code",
      "source": [
        "# Check Unique Values for each variable.\n",
        "for i in df.columns.tolist():\n",
        "  print(\"No. of unique values in \",i,\"is\",df[i].nunique())"
      ],
      "metadata": {
        "id": "zms12Yq5n-jE"
      },
      "execution_count": null,
      "outputs": []
    },
    {
      "cell_type": "markdown",
      "source": [
        "## 3. ***Data Wrangling***"
      ],
      "metadata": {
        "id": "dauF4eBmngu3"
      }
    },
    {
      "cell_type": "markdown",
      "source": [
        "### Data Wrangling Code"
      ],
      "metadata": {
        "id": "bKJF3rekwFvQ"
      }
    },
    {
      "cell_type": "code",
      "source": [
        "# Write your code to make your dataset analysis ready.\n",
        "df['date_added']= pd.to_datetime(df['date_added'])\n",
        "df.head()"
      ],
      "metadata": {
        "id": "wk-9a2fpoLcV"
      },
      "execution_count": null,
      "outputs": []
    },
    {
      "cell_type": "code",
      "source": [
        "df[\"added_year\"] = df[\"date_added\"].dt.year\n",
        "df[\"added_day_num\"] = df[\"date_added\"].dt.day\n",
        "df[\"added_day\"] = df[\"date_added\"].dt.day_name()\n",
        "df[\"added_month\"] = df[\"date_added\"].dt.month_name()\n",
        "df"
      ],
      "metadata": {
        "id": "eZobq33BRJc9"
      },
      "execution_count": null,
      "outputs": []
    },
    {
      "cell_type": "markdown",
      "source": [
        "### What all manipulations have you done and insights you found?"
      ],
      "metadata": {
        "id": "MSa1f5Uengrz"
      }
    },
    {
      "cell_type": "markdown",
      "source": [
        "Answer Here."
      ],
      "metadata": {
        "id": "LbyXE7I1olp8"
      }
    },
    {
      "cell_type": "markdown",
      "source": [
        "## ***4. Data Vizualization, Storytelling & Experimenting with charts : Understand the relationships between variables***"
      ],
      "metadata": {
        "id": "GF8Ens_Soomf"
      }
    },
    {
      "cell_type": "markdown",
      "source": [
        "#### Chart - 1"
      ],
      "metadata": {
        "id": "0wOQAZs5pc--"
      }
    },
    {
      "cell_type": "code",
      "source": [
        "# Chart - 1 visualization code\n",
        "print(df.type.value_counts())\n",
        "print('-'*150)\n",
        "plt.figure(figsize=(10,8))\n",
        "plt.title('Percentage of Netflix Content type (Movies or TV Shows)')\n",
        "g = plt.pie(df.type.value_counts(),explode=(0.025,0.025), labels=df.type.value_counts().index, colors=['tomato','skyblue'], autopct= '%1.1f%%', startangle=180)\n",
        "plt.show()"
      ],
      "metadata": {
        "id": "7v_ESjsspbW7"
      },
      "execution_count": null,
      "outputs": []
    },
    {
      "cell_type": "code",
      "source": [
        "Monthwise_addition = df['added_month'].value_counts()\n",
        "print(Monthwise_addition)\n",
        "print('-'*150)\n",
        "\n",
        "plt.figure(figsize=(16,8))\n",
        "plt.title('Monthwise Content Added', fontsize=15)\n",
        "Monthwise_addition.plot(kind='bar',color='skyblue')\n",
        "plt.xlabel('Month')\n",
        "plt.ylabel('Count')"
      ],
      "metadata": {
        "id": "GOhOqDzqV9CU"
      },
      "execution_count": null,
      "outputs": []
    },
    {
      "cell_type": "code",
      "source": [
        "# Day wise Content addition\n",
        "\n",
        "daywise_addition = df['added_day'].value_counts()\n",
        "print(daywise_addition)\n",
        "print('-'*150)\n",
        "\n",
        "plt.figure(figsize=(16,8))\n",
        "plt.title('Daywise Content Added', fontsize=15)\n",
        "daywise_addition.plot(kind='bar',color='steelblue')\n",
        "plt.xlabel('Day')\n",
        "plt.ylabel('Count')\n"
      ],
      "metadata": {
        "id": "QcAPG5zZG39p"
      },
      "execution_count": null,
      "outputs": []
    },
    {
      "cell_type": "markdown",
      "source": [
        "* Most of the content was released on Friday followed by Thursday"
      ],
      "metadata": {
        "id": "aXaI5uJUpTDl"
      }
    },
    {
      "cell_type": "code",
      "source": [
        "# count the number of occurences for each genre in the data set\n",
        "\n",
        "counts = dict()\n",
        "for i in df.index:\n",
        "   for g in df.loc[i,'listed_in'].split(','):\n",
        "      if g.strip() not in counts:\n",
        "         counts[g.strip()] = 1\n",
        "      else:\n",
        "         counts[g.strip()] = counts[g.strip()] + 1"
      ],
      "metadata": {
        "id": "Dhevos2IG33J"
      },
      "execution_count": null,
      "outputs": []
    },
    {
      "cell_type": "code",
      "source": [
        "s= pd.DataFrame.from_dict(counts,orient='index',columns=['count'])\n",
        "s =s['count'].sort_values(ascending=False)\n",
        "top20_genres = s[:\n",
        "                 20]\n",
        "print(top20_genres)\n"
      ],
      "metadata": {
        "id": "Y-yQxr58G3wF"
      },
      "execution_count": null,
      "outputs": []
    },
    {
      "cell_type": "code",
      "source": [
        "filtered_genres = df.set_index('title').listed_in.str.split(', ', expand=True).stack().reset_index(level=1, drop=True);\n",
        "plt.figure(figsize=(16,8))\n",
        "g = sns.countplot(y = filtered_genres, order=filtered_genres.value_counts().index[:20])\n",
        "plt.title('Top 20 Genres on Netflix',fontsize=15)\n",
        "plt.xlabel('Titles')\n",
        "plt.ylabel('Genres')\n",
        "plt.show()"
      ],
      "metadata": {
        "id": "Q5vAmqOFEVk2"
      },
      "execution_count": null,
      "outputs": []
    },
    {
      "cell_type": "markdown",
      "source": [
        "The International movie is the most popular genre followed by dramas and comedies."
      ],
      "metadata": {
        "id": "42urxMoWpPY8"
      }
    },
    {
      "cell_type": "code",
      "source": [
        "df['cast']= df['cast'].fillna('Unknown')"
      ],
      "metadata": {
        "id": "Sa9KIDAd46DE"
      },
      "execution_count": null,
      "outputs": []
    },
    {
      "cell_type": "code",
      "source": [
        "# count the number of occurences for each director in the data set\n",
        "\n",
        "cast_counts = dict()\n",
        "for i in df.index:\n",
        "   for g in df.loc[i,'cast'].split(','):\n",
        "      if g.strip() not in cast_counts:\n",
        "         cast_counts[g.strip()] = 1\n",
        "      else:\n",
        "         cast_counts[g.strip()] = cast_counts[g.strip()] + 1"
      ],
      "metadata": {
        "id": "u4ab3bZuG3sn"
      },
      "execution_count": null,
      "outputs": []
    },
    {
      "cell_type": "code",
      "source": [
        "cast= pd.DataFrame.from_dict(cast_counts,orient='index',columns=['count'])\n",
        "cast =cast['count'].sort_values(ascending=False)\n",
        "top30_actress = cast[1:31]\n",
        "print(top30_actress)\n",
        "\n",
        "print('-'*150)\n",
        "\n",
        "\n",
        "# create a bar chart\n",
        "plt.figure(figsize=(20,8))\n",
        "top30_actress.plot(kind='bar',color='olivedrab')\n",
        "plt.xticks(rotation=90)\n",
        "plt.title('Top 30 Actor/Actress with most films', fontsize=15)\n",
        "plt.xlabel('Cast')\n",
        "plt.ylabel('Counts')"
      ],
      "metadata": {
        "id": "s9aSRx505iOM"
      },
      "execution_count": null,
      "outputs": []
    },
    {
      "cell_type": "code",
      "source": [],
      "metadata": {
        "id": "IJOrug8eEznj"
      },
      "execution_count": null,
      "outputs": []
    },
    {
      "cell_type": "code",
      "source": [
        "## Checking ou\n",
        "df[df['cast'].str.contains('Anupam Kher')].shape"
      ],
      "metadata": {
        "id": "skVB8nPh_Wr3"
      },
      "execution_count": null,
      "outputs": []
    },
    {
      "cell_type": "code",
      "source": [
        "df.head()"
      ],
      "metadata": {
        "id": "qIpNq1uY_7IR"
      },
      "execution_count": null,
      "outputs": []
    },
    {
      "cell_type": "code",
      "source": [
        "# Dividing the dataset in to two catogeries : Movies and TV Show\n",
        "movie_df = df[df['type'] == 'Movie']\n",
        "tv_df = df[df['type'] == 'TV Show']"
      ],
      "metadata": {
        "id": "Ivx6KxqQWJsm"
      },
      "execution_count": null,
      "outputs": []
    },
    {
      "cell_type": "code",
      "source": [
        "# MOVIE RATINGS \n",
        "\n",
        "plt.figure(figsize=(16,8))\n",
        "sns.countplot(x=\"rating\", data= movie_df, palette=\"Set2\", order=movie_df['rating'].value_counts().index[0:15])"
      ],
      "metadata": {
        "id": "bSNPhbqSWJpv"
      },
      "execution_count": null,
      "outputs": []
    },
    {
      "cell_type": "markdown",
      "source": [
        "* The largest count of movies are made with the 'TV-MA' rating.\"TV-MA\" is a rating assigned by the TV Parental Guidelines to a television program that was designed for mature audiences only.\n",
        "* Second largest is the 'TV-14' stands for content that may be inappropriate for children younger than 14 years of age.\n",
        "* Third largest is the very popular 'R' rating.An R-rated film is a film that has been assessed as having material which may be unsuitable for children under the age of 17."
      ],
      "metadata": {
        "id": "qVtxH9bxWiok"
      }
    },
    {
      "cell_type": "code",
      "source": [
        "# TV SHOWS RATINGS\n",
        "plt.figure(figsize=(12,10))\n",
        "sns.countplot(x=\"rating\", data=tv_df, palette=\"Accent\", order=tv_df['rating'].value_counts().index[0:15])"
      ],
      "metadata": {
        "id": "AN-inQp_WJm3"
      },
      "execution_count": null,
      "outputs": []
    },
    {
      "cell_type": "markdown",
      "source": [
        "* Most of the TV Shows has 'TV-MA', for which the content is for matured audience only.\n",
        "* Second highest count of ratings is 'TV-14' ratings which stands for the content can be inappropriate for children under 14 years of age.\n",
        "* TV Shows has least amount of counts with 'TV-Y7-FV' ratings."
      ],
      "metadata": {
        "id": "1i3GLy3_WscR"
      }
    },
    {
      "cell_type": "code",
      "source": [
        "# Release year wise Tv Shows Vs Movies released\n",
        "plt.figure(figsize=(12,10))\n",
        "sns.countplot(y=\"release_year\", data= df, palette=\"magma\",hue=df['type'], order= df['release_year'].value_counts().index[0:15])"
      ],
      "metadata": {
        "id": "aI2i9koKWJjv"
      },
      "execution_count": null,
      "outputs": []
    },
    {
      "cell_type": "markdown",
      "source": [
        "* Most of the TV shows & movies were released in the year 2018.\n",
        "* 2017 is the year with most number of movies released.\n",
        "* 2020 is the year with most number of TV shows released (due to covid,demand for OTT content increase rapidly)."
      ],
      "metadata": {
        "id": "Dd38lumSCP11"
      }
    },
    {
      "cell_type": "code",
      "source": [
        "# Movies Duration\n",
        "movie_df['duration']=movie_df['duration'].str.replace(' min','')\n",
        "movie_df['duration']=movie_df['duration'].astype(str).astype(int)\n",
        "movie_df['duration']"
      ],
      "metadata": {
        "id": "eQ3hRYf1WJgl"
      },
      "execution_count": null,
      "outputs": []
    },
    {
      "cell_type": "code",
      "source": [
        "#plotting the distribution of movies duration\n",
        "plt.figure(figsize=(16,8))\n",
        "sns.kdeplot(data=movie_df['duration'], shade=True, color='Green')\n",
        "plt.title(\"Movie Duration distribution\",fontsize=15)"
      ],
      "metadata": {
        "id": "1QqGGydvWJdd"
      },
      "execution_count": null,
      "outputs": []
    },
    {
      "cell_type": "markdown",
      "source": [
        "* So, a good amount of movies on Netflix are among the duration of 75-130 mins."
      ],
      "metadata": {
        "id": "RU-U_5W7XPnh"
      }
    },
    {
      "cell_type": "code",
      "source": [
        "duration_year = movie_df.groupby(['release_year']).mean()\n",
        "duration_year = duration_year.sort_index()\n",
        "duration_year"
      ],
      "metadata": {
        "id": "DdX6UVSUYEg1"
      },
      "execution_count": null,
      "outputs": []
    },
    {
      "cell_type": "code",
      "source": [
        "# year wise movie duration trend analysis\n",
        "plt.figure(figsize=(15,6))\n",
        "sns.lineplot(x=duration_year.index, y=duration_year.duration.values, color= 'slateblue',linewidth=3)\n",
        "plt.box(on=None)\n",
        "plt.ylabel('Movie duration in minutes');\n",
        "plt.xlabel('Year of released');\n",
        "plt.title(\"Trends of Movie's Duration over the Years\", fontsize=15);"
      ],
      "metadata": {
        "id": "hf4MTeYMWJaF"
      },
      "execution_count": null,
      "outputs": []
    },
    {
      "cell_type": "code",
      "source": [
        "# TV show - Seasons \n",
        "# removing textual data from duration column and replacing with nothing\n",
        "tv_df['duration']=tv_df['duration'].str.replace(' Season','')\n",
        "tv_df['duration']=tv_df['duration'].str.replace('s','')\n",
        "tv_df['duration']=tv_df['duration'].astype(str).astype(int) # for converting string season numbers to integer\n",
        "tv_df['duration']"
      ],
      "metadata": {
        "id": "ZzSQA8ZIWJW2"
      },
      "execution_count": null,
      "outputs": []
    },
    {
      "cell_type": "code",
      "source": [
        "#Extract the columns from tv_df\n",
        "columns=['title','duration']\n",
        "tv_shows = tv_df[columns]"
      ],
      "metadata": {
        "id": "_jEAk-Xz1pe_"
      },
      "execution_count": null,
      "outputs": []
    },
    {
      "cell_type": "code",
      "source": [
        "#sort the dataframe by number of seasons\n",
        "tv_shows = tv_shows.sort_values(by='duration',ascending=False)\n",
        "#tv_shows = tv_shows.drop('index')\n",
        "top20 = tv_shows[0:20]\n",
        "top20"
      ],
      "metadata": {
        "id": "E2WT_Ivz1pbF"
      },
      "execution_count": null,
      "outputs": []
    },
    {
      "cell_type": "code",
      "source": [
        "# Plotting the above results \n",
        "\n",
        "plt.figure(figsize=(16,6))\n",
        "#top20.plot(kind='bar',x='title',y='duration', color='purple')\n",
        "plt.bar(top20.title, top20.duration, color='#003f5c',width=0.4)\n",
        "plt.xlabel('TV show')\n",
        "plt.xticks(rotation=90)\n",
        "plt.ylabel('No of Seasons')\n",
        "plt.title('Top 20 - TV shows with highest seasons')"
      ],
      "metadata": {
        "id": "idQDBZ8p1pW9"
      },
      "execution_count": null,
      "outputs": []
    },
    {
      "cell_type": "code",
      "source": [
        "# rechecking the results with filters \n",
        "df[df['title']== 'Grey\\'s Anatomy']"
      ],
      "metadata": {
        "id": "5bDg3LOvNp0h"
      },
      "execution_count": null,
      "outputs": []
    },
    {
      "cell_type": "markdown",
      "source": [
        "* \"Grey's Anatomy\" is the TV show with highest number of seasons.\n",
        "* \"NCIS\" and \"Supernatural\" are the TV shows with second highest seasons (15 seasons each)"
      ],
      "metadata": {
        "id": "XlOzxygXOJym"
      }
    },
    {
      "cell_type": "code",
      "source": [
        "tv_df.duration.value_counts()[:5]"
      ],
      "metadata": {
        "id": "EM7JD-TvPMqT"
      },
      "execution_count": null,
      "outputs": []
    },
    {
      "cell_type": "code",
      "source": [
        "# TV SHOWS AND THEIR SEASONS\n",
        "plt.figure(figsize=(16, 8))\n",
        "labels=['1 Season', '2 Season', '3 Season', '4 Seasons', '5 Seasons']\n",
        "_, _, texts = plt.pie(df.duration.value_counts()[:5], labels=labels, autopct='%1.2f%%', startangle=0, \n",
        "                      explode=(0.0, 0.05, 0.1, 0.15, 0.2), colors=['#003f5c', '#bc5090', '#ffa600', 'Green', 'Maroon'])\n",
        "plt.axis('equal')\n",
        "plt.title('Seasons Available on Netflix', fontsize=15, fontweight='bold');\n",
        "for text in texts:\n",
        "    text.set_color('white')"
      ],
      "metadata": {
        "id": "_hET_T5r1pPt"
      },
      "execution_count": null,
      "outputs": []
    },
    {
      "cell_type": "markdown",
      "source": [
        "* From the chart we can analyze, 65.87% TV Shows has only 1 Season,15.65% TV Shows has 2 seasons, 7.54% TV Shows has 3 seasons, 5.57% TV Shows has 4 seasons, 5.37% TV Shows as 5 seaons available."
      ],
      "metadata": {
        "id": "LU7ITdvPPCfw"
      }
    },
    {
      "cell_type": "code",
      "source": [
        "# text documents\n",
        "text = \" \".join(word for word in df['title'])\n",
        "\n",
        "# create the word cloud\n",
        "wordcloud = WordCloud(stopwords=STOPWORDS).generate(text)\n",
        "\n",
        "# plot the word cloud\n",
        "plt.imshow(wordcloud,  interpolation='bilinear')\n",
        "plt.axis(\"off\")\n",
        "plt.show()"
      ],
      "metadata": {
        "id": "2w91k0Y0pvhK"
      },
      "execution_count": null,
      "outputs": []
    },
    {
      "cell_type": "code",
      "source": [
        "# text documents\n",
        "text = \" \".join(word for word in df['description'])\n",
        "\n",
        "# create the word cloud\n",
        "wordcloud = WordCloud(stopwords=STOPWORDS).generate(text)\n",
        "\n",
        "# plot the word cloud\n",
        "plt.imshow(wordcloud,  interpolation='bilinear')\n",
        "plt.axis(\"off\")\n",
        "plt.show()"
      ],
      "metadata": {
        "id": "H5wu6C3Epppw"
      },
      "execution_count": null,
      "outputs": []
    },
    {
      "cell_type": "code",
      "source": [
        "filtered_directors = df[df.director != 'Unknown'].set_index('title').director.str.split(', ', expand=True).stack().reset_index(level=1, drop=True)\n",
        "\n",
        "plt.figure(figsize=(16,6))\n",
        "plt.title('Top 10 Director Based on The Number of Titles')\n",
        "sns.countplot(y = filtered_directors, order=filtered_directors.value_counts().index[:10], palette='Blues')\n",
        "plt.show()\n"
      ],
      "metadata": {
        "id": "c7YJ5ut9DfTE"
      },
      "execution_count": null,
      "outputs": []
    },
    {
      "cell_type": "markdown",
      "source": [],
      "metadata": {
        "id": "gYVmUNFbEFT-"
      }
    },
    {
      "cell_type": "code",
      "source": [
        "yearwise_trend = df.groupby(['added_year','type'])['type'].count().unstack()\n",
        "yearwise_trend"
      ],
      "metadata": {
        "id": "34e6zRCQFqPY"
      },
      "execution_count": null,
      "outputs": []
    },
    {
      "cell_type": "code",
      "source": [
        "# Plotting the above results\n",
        "\n",
        "plt.figure(figsize=(18,8))\n",
        "plt.title('Average release of different types of content yearwise', fontsize=15)\n",
        "sns.lineplot(data= yearwise_trend)\n",
        "plt.ylabel('Number of releases')\n",
        "plt.xlabel('year')\n",
        "plt.show()"
      ],
      "metadata": {
        "id": "b4IaXcZsHved"
      },
      "execution_count": null,
      "outputs": []
    },
    {
      "cell_type": "code",
      "source": [
        "yearwise_addition = df.groupby(['added_year','type'])['type'].count().unstack().rename(columns={'Movie':'movie','TV Show':'tv_show'})\n",
        "yearwise_addition"
      ],
      "metadata": {
        "id": "5sZoLOVW_NLi"
      },
      "execution_count": null,
      "outputs": []
    },
    {
      "cell_type": "code",
      "source": [
        "\n",
        "plt.figure(figsize=(16,8))\n",
        "\n",
        "# ax= df['added_year'].unique()\n",
        "# ay = df['added_year'].value_counts()\n",
        "plt.bar(yearwise_addition.index, yearwise_addition.movie, color='Olive')\n",
        "plt.bar(yearwise_addition.index, yearwise_addition.tv_show,bottom=yearwise_addition.movie,  color= 'Teal')\n",
        "plt.ylabel('No of content added')\n",
        "plt.xlabel(\"Added Year\")\n",
        "plt.title(\"Shows Added Year wise\",fontsize= 15)\n",
        "plt.legend(['Movies','Tv Shows'])\n",
        "plt.show()"
      ],
      "metadata": {
        "id": "KRaEUtP-QVLl"
      },
      "execution_count": null,
      "outputs": []
    },
    {
      "cell_type": "code",
      "source": [
        "\n",
        "#defing fig size and axis\n",
        "fig,ax = plt.subplots(1,2, figsize=(16,6))\n",
        "\n",
        "# top 10 director who directed TV show\n",
        "show = df[df['type']=='TV Show']['director'].value_counts()[:10].plot(kind='barh', ax=ax[0],color='lightseagreen')\n",
        "show.set_title('Top 10 director who directed TV Show', size=15)\n",
        "\n",
        "# top 10 director who directed movie\n",
        "movie = df[df['type']=='Movie']['director'].value_counts()[:10].plot(kind='barh', ax=ax[1],color='mediumpurple')\n",
        "movie.set_title('Top 10 director who directed Movie', size=15)\n",
        "\n",
        "plt.tight_layout()\n",
        "plt.show()\n",
        "     "
      ],
      "metadata": {
        "id": "zRpbPNs9kT3-"
      },
      "execution_count": null,
      "outputs": []
    },
    {
      "cell_type": "markdown",
      "source": [
        "* Alastair Fothergill has directed three TV shows, the most of any director.\n",
        "* Raul Campos and Jan Suter have together directed in 18 movies, higher than anyone yet.\n",
        "* This is followed by Marcus Roboy, Jay Karas, and Cathy Gracia-Molina"
      ],
      "metadata": {
        "id": "OgmDuDm4k8Gh"
      }
    },
    {
      "cell_type": "code",
      "source": [
        "#defing fig size and axis\n",
        "fig,ax = plt.subplots(1,2, figsize=(16,6))\n",
        "\n",
        "# top 10 TV shows actor \n",
        "TV_shows = df[df['type']=='TV Show']['cast'].str.split(', ', expand=True).stack().reset_index(level=1, drop=True).value_counts()[1:11].plot(kind='barh', ax=ax[0],color='darkkhaki')\n",
        "TV_shows.set_title('Top 10 actors who appeared in Tv shows', size=15)\n",
        "\n",
        "# top 10 Movie actor \n",
        "movies = df[df['type']=='Movie']['cast'].str.split(', ', expand=True).stack().reset_index(level=1, drop=True).value_counts()[1:11].plot(kind='barh', ax=ax[1],color='slateblue')\n",
        "movies.set_title('Top 10 actors who appeared in movie', size=15)\n",
        "\n",
        "plt.tight_layout()\n",
        "plt.show()\n",
        "     "
      ],
      "metadata": {
        "id": "ZpSqq2vTlMRv"
      },
      "execution_count": null,
      "outputs": []
    },
    {
      "cell_type": "markdown",
      "source": [
        "* Takahiro Sakurai, Yuki Kaji and Daisuke Ono played highest role in the TV shows.\n",
        "* Anupam Kher, Shahrukh Khan and Om Puri played highest number of role in the movies."
      ],
      "metadata": {
        "id": "EPb7Xpb6l7k0"
      }
    },
    {
      "cell_type": "code",
      "source": [
        "movie_df['country'].isnull().sum()"
      ],
      "metadata": {
        "id": "pYg93FHpjqcK"
      },
      "execution_count": null,
      "outputs": []
    },
    {
      "cell_type": "code",
      "source": [
        "movie_df['country']= movie_df['country'].fillna(movie_df['country'].mode())"
      ],
      "metadata": {
        "id": "E_QX34Yoj2Tg"
      },
      "execution_count": null,
      "outputs": []
    },
    {
      "cell_type": "code",
      "source": [
        "#defing fig size and axis\n",
        "fig,ax = plt.subplots(1,2, figsize=(16,6))\n",
        "\n",
        "# top 10 TV shows countries \n",
        "TV_shows = df[df['type']=='TV Show']['country'].str.split(', ', expand=True).stack().reset_index(level=1, drop=True).value_counts()[:10].plot(kind='barh', ax=ax[0],color='teal')\n",
        "TV_shows.set_title('Top 10 Countries with most Tv shows', size=15)\n",
        "\n",
        "# top 10 Movie countries \n",
        "movies = df[df['type']=='Movie']['country'].str.split(', ', expand=True).stack().reset_index(level=1, drop=True).value_counts()[:10].plot(kind='barh', ax=ax[1],color='darkseagreen')\n",
        "movies.set_title('Top 10 Countries with most Movies', size=15)\n",
        "\n",
        "plt.tight_layout()\n",
        "plt.show()"
      ],
      "metadata": {
        "id": "DnI_l9Iggvsu"
      },
      "execution_count": null,
      "outputs": []
    },
    {
      "cell_type": "markdown",
      "source": [
        "* The highest number of movies & TV shows were based out of the US, followed by India and UK."
      ],
      "metadata": {
        "id": "r57B_imLn4mC"
      }
    },
    {
      "cell_type": "markdown",
      "source": [
        "## ***6. Feature Engineering & Data Pre-processing***"
      ],
      "metadata": {
        "id": "yLjJCtPM0KBk"
      }
    },
    {
      "cell_type": "markdown",
      "source": [
        "### 1. Handling Missing Values"
      ],
      "metadata": {
        "id": "xiyOF9F70UgQ"
      }
    },
    {
      "cell_type": "code",
      "source": [
        "# Missing Data %\n",
        "round(df.isna().mean().sort_values(ascending=False)*100,2)"
      ],
      "metadata": {
        "id": "9oSNyPcAqN1U"
      },
      "execution_count": null,
      "outputs": []
    },
    {
      "cell_type": "markdown",
      "source": [
        "* The missing values in the director, cast, and country attributes can be replaced with 'Unknown'\n",
        "* Small amount of null value percentage is present in rating and date_added column and if we drop these nan values it will not affect that much while building the model."
      ],
      "metadata": {
        "id": "5dchiFLMqRcV"
      }
    },
    {
      "cell_type": "code",
      "source": [
        "# Handling Missing Values\n",
        "df[['director','cast','country']] = df[['director','cast','country']].fillna('Unknown')\n",
        "df.dropna(axis=0, inplace=True)"
      ],
      "metadata": {
        "id": "iRsAHk1K0fpS"
      },
      "execution_count": null,
      "outputs": []
    },
    {
      "cell_type": "code",
      "source": [
        "df.info()"
      ],
      "metadata": {
        "id": "ZRJB5n13qnYs"
      },
      "execution_count": null,
      "outputs": []
    },
    {
      "cell_type": "code",
      "source": [
        "df['added_year']= df['added_year'].astype(str)\n",
        "df['added_day_num']= df['added_day_num'].astype(str)"
      ],
      "metadata": {
        "id": "Nibm7xlf5pwM"
      },
      "execution_count": null,
      "outputs": []
    },
    {
      "cell_type": "markdown",
      "source": [
        "### 2. Handling Outliers"
      ],
      "metadata": {
        "id": "id1riN9m0vUs"
      }
    },
    {
      "cell_type": "code",
      "source": [
        "# Handling Outliers & Outlier treatments\n",
        "sns.boxplot(data=df)"
      ],
      "metadata": {
        "id": "M6w2CzZf04JK"
      },
      "execution_count": null,
      "outputs": []
    },
    {
      "cell_type": "markdown",
      "source": [
        "* As we need to create cluster/building model are present in textual foramat. So, there is no need to perform handling outlier.\n",
        "* Our box plot only showing distribution of 'release_year' column since other  columns were in object format."
      ],
      "metadata": {
        "id": "61SchiBf57bt"
      }
    },
    {
      "cell_type": "markdown",
      "source": [
        "### 4. Textual Data Preprocessing \n",
        "\n",
        "Modeling Approach:\n",
        "\n",
        "* Select the attributes based on which you want to cluster the shows\n",
        "Text preprocessing: Remove all stopwords and punctuation marks, convert all textual data to lowercase.\n",
        "* Stemming to generate a meaningful word out of corpus of words.\n",
        "* Tokenization of corpus and Word vectorization\n",
        "* Dimensionality reduction\n",
        "* Use different algorithms to cluster the movies, obtain the optimal number of clusters using different techniques.\n",
        "* Build optimal number of clusters and visualize the contents of each cluster using wordclouds."
      ],
      "metadata": {
        "id": "Iwf50b-R2tYG"
      }
    },
    {
      "cell_type": "markdown",
      "source": [
        "**We will cluster the movie/shows on Netflix based on the following attributes:**\n",
        "\n",
        "* Director\n",
        "* Cast\n",
        "* Country\n",
        "* Rating\n",
        "* Listed in (genres)\n",
        "* Description"
      ],
      "metadata": {
        "id": "AbLzOtIS_r9K"
      }
    },
    {
      "cell_type": "markdown",
      "source": [
        "#### 1. Expand Contraction"
      ],
      "metadata": {
        "id": "GMQiZwjn3iu7"
      }
    },
    {
      "cell_type": "code",
      "source": [
        "# Expand Contraction\n",
        "\n",
        "df1 = df.copy()\n",
        "\n",
        "\n",
        "# creating clustering_attributes column using all text column which one is used for model building purpose.\n",
        "df1['clustering_attributes'] = df1['description'] + df1['listed_in'] + df1['rating'] + df1['cast'] + df1['country'] + df1['director']"
      ],
      "metadata": {
        "id": "PTouz10C3oNN"
      },
      "execution_count": null,
      "outputs": []
    },
    {
      "cell_type": "markdown",
      "source": [
        "#### 2. Lower Casing"
      ],
      "metadata": {
        "id": "WVIkgGqN3qsr"
      }
    },
    {
      "cell_type": "code",
      "source": [
        "# Lower Casing\n",
        "def lower_case(text):\n",
        "  return str.lower(text)\n",
        "\n",
        "df1['clustering_attributes'] = df1['clustering_attributes'].apply(lower_case)\n",
        "df1['clustering_attributes']"
      ],
      "metadata": {
        "id": "88JnJ1jN3w7j"
      },
      "execution_count": null,
      "outputs": []
    },
    {
      "cell_type": "markdown",
      "source": [
        "#### 3. Removing Punctuations"
      ],
      "metadata": {
        "id": "XkPnILGE3zoT"
      }
    },
    {
      "cell_type": "code",
      "source": [
        "\n",
        "# function to remove punctuations\n",
        "\n",
        "def remove_punctuation(text):\n",
        "    '''a function for removing punctuation'''\n",
        "    # replacing the punctuations with no space, which deletes the punctuation marks.\n",
        "    translator = str.maketrans('', '', string.punctuation)\n",
        "    # return the text stripped of punctuation marks\n",
        "    return text.translate(translator)\n",
        "\n",
        "df1['clustering_attributes'] = df1['clustering_attributes'].apply(remove_punctuation)\n",
        "df1['clustering_attributes']"
      ],
      "metadata": {
        "id": "vqbBqNaA33c0"
      },
      "execution_count": null,
      "outputs": []
    },
    {
      "cell_type": "markdown",
      "source": [
        "#### 4. Removing URLs, Removing words and digits contain digits & White spaces"
      ],
      "metadata": {
        "id": "Hlsf0x5436Go"
      }
    },
    {
      "cell_type": "code",
      "source": [
        "# Remove URLs & Remove words and digits contain digits\n",
        "\n",
        "def remove_urls(text):\n",
        "    \" function to remove URLs and Trailing/leading spaces\"\n",
        "    text=text.strip()  #get rid of leading/trailing whitespace \n",
        "    text = re.sub(\"([^0-9A-Za-z \\t])|(\\w+:\\/\\/\\S+)\",' ',text) #removing all the punctuations, server/ web links\n",
        "    return text\n",
        "\n",
        "df1['clustering_attributes'] = df1['clustering_attributes'].apply(remove_urls)\n",
        "df1['clustering_attributes']"
      ],
      "metadata": {
        "id": "2sxKgKxu4Ip3"
      },
      "execution_count": null,
      "outputs": []
    },
    {
      "cell_type": "markdown",
      "source": [
        "#### 5. Removing Stopwords"
      ],
      "metadata": {
        "id": "mT9DMSJo4nBL"
      }
    },
    {
      "cell_type": "code",
      "source": [
        "# Remove Stopwords\n",
        "\n",
        "# download the stop words list if it is not already downloaded\n",
        "nltk.download('stopwords')\n",
        "\n",
        "# create a set of English stop words\n",
        "stop_words = stopwords.words('english')\n",
        "\n",
        "\n",
        "def remove_stopwords(text):\n",
        "    '''a function for removing the stopword and lowercase the each word'''\n",
        "    text = [word.lower() for word in text.split() if word.lower() not in stop_words]\n",
        "    # joining the list of words with space separator\n",
        "    return \" \".join(text)\n",
        "\n",
        "df1['clustering_attributes'] = df1['clustering_attributes'].apply(remove_stopwords)\n",
        "df1['clustering_attributes'][0]"
      ],
      "metadata": {
        "id": "T2LSJh154s8W"
      },
      "execution_count": null,
      "outputs": []
    },
    {
      "cell_type": "code",
      "source": [
        "# Rephrase Text"
      ],
      "metadata": {
        "id": "foqY80Qu48N2"
      },
      "execution_count": null,
      "outputs": []
    },
    {
      "cell_type": "markdown",
      "source": [
        "#### 7. Tokenization"
      ],
      "metadata": {
        "id": "OeJFEK0N496M"
      }
    },
    {
      "cell_type": "code",
      "source": [
        "# Tokenization"
      ],
      "metadata": {
        "id": "ijx1rUOS5CUU"
      },
      "execution_count": null,
      "outputs": []
    },
    {
      "cell_type": "markdown",
      "source": [
        "#### 8. Text Normalization"
      ],
      "metadata": {
        "id": "9ExmJH0g5HBk"
      }
    },
    {
      "cell_type": "code",
      "source": [
        "# Normalizing Text (i.e., Stemming, Lemmatization etc.)\n",
        "\n",
        "# create an object of stemming function\n",
        "stemmer = SnowballStemmer(\"english\")\n",
        "\n",
        "def stemming(text):    \n",
        "    '''a function which stems each word in the given text'''\n",
        "    text = [stemmer.stem(word) for word in text.split()]\n",
        "    return \" \".join(text) \n",
        "\n",
        "#performing stemming operation\n",
        "df1['clustering_attributes'] = df1['clustering_attributes'].apply(stemming)\n",
        "df1['clustering_attributes'][0]"
      ],
      "metadata": {
        "id": "AIJ1a-Zc5PY8"
      },
      "execution_count": null,
      "outputs": []
    },
    {
      "cell_type": "markdown",
      "source": [
        "##### Which text normalization technique have you used and why?"
      ],
      "metadata": {
        "id": "cJNqERVU536h"
      }
    },
    {
      "cell_type": "markdown",
      "source": [
        "Answer Here."
      ],
      "metadata": {
        "id": "Z9jKVxE06BC1"
      }
    },
    {
      "cell_type": "markdown",
      "source": [
        "#### 10. Text Vectorization"
      ],
      "metadata": {
        "id": "T0VqWOYE6DLQ"
      }
    },
    {
      "cell_type": "code",
      "source": [
        "# Vectorizing Text\n",
        "# # extract the tfid representation matrix of the text data\n",
        "tfid_vectorizer= TfidfVectorizer(stop_words='english', lowercase=False, max_features = 10000)  # max features = 10000 to prevent system from crashing\n",
        "tfid_matrix = tfid_vectorizer.fit_transform(df1['clustering_attributes'])\n",
        "\n",
        "# collect the tfid matrix in numpy array\n",
        "array = tfid_matrix.toarray()\n",
        "\n",
        "print(array)"
      ],
      "metadata": {
        "id": "yBRtdhth6JDE"
      },
      "execution_count": null,
      "outputs": []
    },
    {
      "cell_type": "markdown",
      "source": [
        "##### Which text vectorization technique have you used and why?"
      ],
      "metadata": {
        "id": "qBMux9mC6MCf"
      }
    },
    {
      "cell_type": "markdown",
      "source": [
        "Answer Here."
      ],
      "metadata": {
        "id": "su2EnbCh6UKQ"
      }
    },
    {
      "cell_type": "markdown",
      "source": [
        "### 4. Feature Manipulation & Selection"
      ],
      "metadata": {
        "id": "-oLEiFgy-5Pf"
      }
    },
    {
      "cell_type": "markdown",
      "source": [
        "### 7. Dimesionality Reduction"
      ],
      "metadata": {
        "id": "1UUpS68QDMuG"
      }
    },
    {
      "cell_type": "markdown",
      "source": [
        "##### Do you think that dimensionality reduction is needed? Explain Why?"
      ],
      "metadata": {
        "id": "kexQrXU-DjzY"
      }
    },
    {
      "cell_type": "markdown",
      "source": [
        "*Dimensionality reduction is the process of reducing the number of features or dimensions in a dataset while preserving as much information as possible. \n",
        "Since many features present in our data, we will do dimesionality reduction technique to find out the best features for explaning the maximum data possible.*"
      ],
      "metadata": {
        "id": "GGRlBsSGDtTQ"
      }
    },
    {
      "cell_type": "code",
      "source": [
        "# Dimensionality Reduction\n",
        "\n",
        "# using PCA to reduce dimensionality\n",
        "pca = PCA(random_state=0)\n",
        "pca.fit(array)"
      ],
      "metadata": {
        "id": "kQfvxBBHDvCa"
      },
      "execution_count": null,
      "outputs": []
    },
    {
      "cell_type": "code",
      "source": [
        "# Explained variance for different number of components\n",
        "plt.figure(figsize=(10,5))\n",
        "plt.plot(np.cumsum(pca.explained_variance_ratio_))\n",
        "plt.title('PCA - Cumulative explained variance vs number of components')\n",
        "plt.xlabel('number of components')\n",
        "plt.ylabel('cumulative explained variance')"
      ],
      "metadata": {
        "id": "Iy8uCifAu1gZ"
      },
      "execution_count": null,
      "outputs": []
    },
    {
      "cell_type": "markdown",
      "source": [
        "##### Which dimensionality reduction technique have you used and why? (If dimensionality reduction done on dataset.)"
      ],
      "metadata": {
        "id": "T5CmagL3EC8N"
      }
    },
    {
      "cell_type": "markdown",
      "source": [
        "Above, we have used Principal component analysis (PCA) dimension reduction technique for reducing the dimensionality in the data.\n",
        "\n",
        "* We find that 100% of the variance is explained by about ~7600 components.\n",
        "* Also, more than 80% of the variance is explained just by 4000 components.\n",
        "* Hence to simplify the model, and reduce dimensionality, we can take the top 4000 components, which will still be able to capture more than 80% of variance"
      ],
      "metadata": {
        "id": "ZKr75IDuEM7t"
      }
    },
    {
      "cell_type": "code",
      "source": [
        "# reducing the dimensions to 4000 using pca\n",
        "pca = PCA(n_components=4000,random_state=0)\n",
        "pca.fit(array)"
      ],
      "metadata": {
        "id": "oSXigbLywiAb"
      },
      "execution_count": null,
      "outputs": []
    },
    {
      "cell_type": "code",
      "source": [
        "# transformed features\n",
        "X = pca.transform(array)\n",
        "\n",
        "# shape of transformed vectors\n",
        "X.shape"
      ],
      "metadata": {
        "id": "C4gf4NZYwjUh"
      },
      "execution_count": null,
      "outputs": []
    },
    {
      "cell_type": "markdown",
      "source": [
        "## ***7. ML Model Implementation***"
      ],
      "metadata": {
        "id": "VfCC591jGiD4"
      }
    },
    {
      "cell_type": "markdown",
      "source": [
        "#**7.1. K-Means Clustering**\n",
        "K-means clustering is an unsupervised machine learning algorithm that is used to divide a dataset into a specified number of clusters. It is called \"unsupervised\" because the algorithm does not use any labeled examples to learn about the data."
      ],
      "metadata": {
        "id": "LAqY5_aE1_Vr"
      }
    },
    {
      "cell_type": "code",
      "source": [
        "\n",
        "# Elbow method to find the optimal value of k\n",
        "SSE=[]\n",
        "for i in range(1,15):\n",
        "  # Initialize the k-means model with the current value of i\n",
        "  kmeans = KMeans(n_clusters=i,init='k-means++',random_state=0)\n",
        "  # Fit the model to the data\n",
        "  kmeans.fit(X)\n",
        "  # Compute the sum of squared errors for the model\n",
        "  SSE.append(kmeans.inertia_)\n",
        "\n",
        "# Plot the value of SSE\n",
        "number_clusters = range(1,15)\n",
        "plt.figure(figsize=(10,5))\n",
        "plt.plot(number_clusters,SSE)\n",
        "plt.title('The Elbow Method - KMeans clustering')\n",
        "plt.xlabel('Number of clusters')\n",
        "plt.ylabel('Sum of squared errors')"
      ],
      "metadata": {
        "id": "bAq9ufSQ1wTU"
      },
      "execution_count": null,
      "outputs": []
    },
    {
      "cell_type": "code",
      "source": [
        "\n",
        "#Silhouette score method to find the optimal value of k\n",
        "\n",
        "# Initialize a list to store the silhouette score for each value of k\n",
        "silhouette_scr = []\n",
        "\n",
        "for k in range(2, 15):\n",
        "  # Initialize the k-means model with the current value of k\n",
        "  kmeans = KMeans(n_clusters=k, init='k-means++', random_state=0)\n",
        "  # Fit the model to the data\n",
        "  kmeans.fit(X)\n",
        "  # Predict the cluster labels for each point in the data\n",
        "  labels = kmeans.labels_\n",
        "  # silhouette score for the model\n",
        "  score = silhouette_score(X, labels)\n",
        "  silhouette_scr.append(score)\n",
        "  \n",
        "# Plot the Silhouette analysis\n",
        "plt.figure(figsize=(10,5))\n",
        "plt.plot(range(2,15), silhouette_scr)\n",
        "plt.xlabel('Number of clusters') \n",
        "plt.ylabel('Silhouette score')\n",
        "plt.title('Silhouette analysis For Optimal k - KMeans clustering')\n",
        "plt.show()"
      ],
      "metadata": {
        "id": "is-8viBN1v65"
      },
      "execution_count": null,
      "outputs": []
    },
    {
      "cell_type": "code",
      "source": [
        "# ML Model - 1 Implementation\n",
        "\n",
        "# Fit the Algorithm\n",
        "\n",
        "# Predict on the model"
      ],
      "metadata": {
        "id": "7ebyywQieS1U"
      },
      "execution_count": null,
      "outputs": []
    },
    {
      "cell_type": "markdown",
      "source": [
        "#### 1. Explain the ML Model used and it's performance using Evaluation metric Score Chart."
      ],
      "metadata": {
        "id": "ArJBuiUVfxKd"
      }
    },
    {
      "cell_type": "code",
      "source": [
        "# Visualizing evaluation Metric Score chart"
      ],
      "metadata": {
        "id": "rqD5ZohzfxKe"
      },
      "execution_count": null,
      "outputs": []
    },
    {
      "cell_type": "markdown",
      "source": [
        "#### 2. Cross- Validation & Hyperparameter Tuning"
      ],
      "metadata": {
        "id": "4qY1EAkEfxKe"
      }
    },
    {
      "cell_type": "code",
      "source": [
        "# ML Model - 1 Implementation with hyperparameter optimization techniques (i.e., GridSearch CV, RandomSearch CV, Bayesian Optimization etc.)\n",
        "\n",
        "# Fit the Algorithm\n",
        "\n",
        "# Predict on the model"
      ],
      "metadata": {
        "id": "Dy61ujd6fxKe"
      },
      "execution_count": null,
      "outputs": []
    },
    {
      "cell_type": "markdown",
      "source": [
        "##### Which hyperparameter optimization technique have you used and why?"
      ],
      "metadata": {
        "id": "PiV4Ypx8fxKe"
      }
    },
    {
      "cell_type": "markdown",
      "source": [
        "Answer Here."
      ],
      "metadata": {
        "id": "negyGRa7fxKf"
      }
    },
    {
      "cell_type": "markdown",
      "source": [
        "##### Have you seen any improvement? Note down the improvement with updates Evaluation metric Score Chart."
      ],
      "metadata": {
        "id": "TfvqoZmBfxKf"
      }
    },
    {
      "cell_type": "markdown",
      "source": [
        "Answer Here."
      ],
      "metadata": {
        "id": "OaLui8CcfxKf"
      }
    },
    {
      "cell_type": "markdown",
      "source": [
        "### ML Model - 2"
      ],
      "metadata": {
        "id": "dJ2tPlVmpsJ0"
      }
    },
    {
      "cell_type": "markdown",
      "source": [
        "#### 1. Explain the ML Model used and it's performance using Evaluation metric Score Chart."
      ],
      "metadata": {
        "id": "JWYfwnehpsJ1"
      }
    },
    {
      "cell_type": "code",
      "source": [
        "# Visualizing evaluation Metric Score chart"
      ],
      "metadata": {
        "id": "yEl-hgQWpsJ1"
      },
      "execution_count": null,
      "outputs": []
    },
    {
      "cell_type": "markdown",
      "source": [
        "#### 2. Cross- Validation & Hyperparameter Tuning"
      ],
      "metadata": {
        "id": "-jK_YjpMpsJ2"
      }
    },
    {
      "cell_type": "code",
      "source": [
        "# ML Model - 1 Implementation with hyperparameter optimization techniques (i.e., GridSearch CV, RandomSearch CV, Bayesian Optimization etc.)\n",
        "\n",
        "# Fit the Algorithm\n",
        "\n",
        "# Predict on the model"
      ],
      "metadata": {
        "id": "Dn0EOfS6psJ2"
      },
      "execution_count": null,
      "outputs": []
    },
    {
      "cell_type": "markdown",
      "source": [
        "##### Which hyperparameter optimization technique have you used and why?"
      ],
      "metadata": {
        "id": "HAih1iBOpsJ2"
      }
    },
    {
      "cell_type": "markdown",
      "source": [
        "Answer Here."
      ],
      "metadata": {
        "id": "9kBgjYcdpsJ2"
      }
    },
    {
      "cell_type": "markdown",
      "source": [
        "##### Have you seen any improvement? Note down the improvement with updates Evaluation metric Score Chart."
      ],
      "metadata": {
        "id": "zVGeBEFhpsJ2"
      }
    },
    {
      "cell_type": "markdown",
      "source": [
        "Answer Here."
      ],
      "metadata": {
        "id": "74yRdG6UpsJ3"
      }
    },
    {
      "cell_type": "markdown",
      "source": [
        "#### 3. Explain each evaluation metric's indication towards business and the business impact pf the ML model used."
      ],
      "metadata": {
        "id": "bmKjuQ-FpsJ3"
      }
    },
    {
      "cell_type": "markdown",
      "source": [
        "Answer Here."
      ],
      "metadata": {
        "id": "BDKtOrBQpsJ3"
      }
    },
    {
      "cell_type": "markdown",
      "source": [
        "### ML Model - 3"
      ],
      "metadata": {
        "id": "Fze-IPXLpx6K"
      }
    },
    {
      "cell_type": "code",
      "source": [
        "# ML Model - 3 Implementation\n",
        "\n",
        "# Fit the Algorithm\n",
        "\n",
        "# Predict on the model"
      ],
      "metadata": {
        "id": "FFrSXAtrpx6M"
      },
      "execution_count": null,
      "outputs": []
    },
    {
      "cell_type": "markdown",
      "source": [
        "#### 1. Explain the ML Model used and it's performance using Evaluation metric Score Chart."
      ],
      "metadata": {
        "id": "7AN1z2sKpx6M"
      }
    },
    {
      "cell_type": "code",
      "source": [
        "# Visualizing evaluation Metric Score chart"
      ],
      "metadata": {
        "id": "xIY4lxxGpx6M"
      },
      "execution_count": null,
      "outputs": []
    },
    {
      "cell_type": "markdown",
      "source": [
        "#### 2. Cross- Validation & Hyperparameter Tuning"
      ],
      "metadata": {
        "id": "9PIHJqyupx6M"
      }
    },
    {
      "cell_type": "code",
      "source": [
        "# ML Model - 3 Implementation with hyperparameter optimization techniques (i.e., GridSearch CV, RandomSearch CV, Bayesian Optimization etc.)\n",
        "\n",
        "# Fit the Algorithm\n",
        "\n",
        "# Predict on the model"
      ],
      "metadata": {
        "id": "eSVXuaSKpx6M"
      },
      "execution_count": null,
      "outputs": []
    },
    {
      "cell_type": "markdown",
      "source": [
        "##### Which hyperparameter optimization technique have you used and why?"
      ],
      "metadata": {
        "id": "_-qAgymDpx6N"
      }
    },
    {
      "cell_type": "markdown",
      "source": [
        "Answer Here."
      ],
      "metadata": {
        "id": "lQMffxkwpx6N"
      }
    },
    {
      "cell_type": "markdown",
      "source": [
        "##### Have you seen any improvement? Note down the improvement with updates Evaluation metric Score Chart."
      ],
      "metadata": {
        "id": "Z-hykwinpx6N"
      }
    },
    {
      "cell_type": "markdown",
      "source": [
        "Answer Here."
      ],
      "metadata": {
        "id": "MzVzZC6opx6N"
      }
    },
    {
      "cell_type": "markdown",
      "source": [
        "### 1. Which Evaluation metrics did you consider for a positive business impact and why?"
      ],
      "metadata": {
        "id": "h_CCil-SKHpo"
      }
    },
    {
      "cell_type": "markdown",
      "source": [
        "Answer Here."
      ],
      "metadata": {
        "id": "jHVz9hHDKFms"
      }
    },
    {
      "cell_type": "markdown",
      "source": [
        "### 2. Which ML model did you choose from the above created models as your final prediction model and why?"
      ],
      "metadata": {
        "id": "cBFFvTBNJzUa"
      }
    },
    {
      "cell_type": "markdown",
      "source": [
        "Answer Here."
      ],
      "metadata": {
        "id": "6ksF5Q1LKTVm"
      }
    },
    {
      "cell_type": "markdown",
      "source": [
        "### 3. Explain the model which you have used and the feature importance using any model explainability tool?"
      ],
      "metadata": {
        "id": "HvGl1hHyA_VK"
      }
    },
    {
      "cell_type": "markdown",
      "source": [
        "Answer Here."
      ],
      "metadata": {
        "id": "YnvVTiIxBL-C"
      }
    },
    {
      "cell_type": "markdown",
      "source": [
        "## ***8.*** ***Future Work (Optional)***"
      ],
      "metadata": {
        "id": "EyNgTHvd2WFk"
      }
    },
    {
      "cell_type": "markdown",
      "source": [
        "### 1. Save the best performing ml model in a pickle file or joblib file format for deployment process.\n"
      ],
      "metadata": {
        "id": "KH5McJBi2d8v"
      }
    },
    {
      "cell_type": "code",
      "source": [
        "# Save the File"
      ],
      "metadata": {
        "id": "bQIANRl32f4J"
      },
      "execution_count": null,
      "outputs": []
    },
    {
      "cell_type": "markdown",
      "source": [
        "### 2. Again Load the saved model file and try to predict unseen data for a sanity check.\n"
      ],
      "metadata": {
        "id": "iW_Lq9qf2h6X"
      }
    },
    {
      "cell_type": "code",
      "source": [
        "# Load the File and predict unseen data."
      ],
      "metadata": {
        "id": "oEXk9ydD2nVC"
      },
      "execution_count": null,
      "outputs": []
    },
    {
      "cell_type": "markdown",
      "source": [
        "### ***Congrats! Your model is successfully created and ready for deployment on a live server for a real user interaction !!!***"
      ],
      "metadata": {
        "id": "-Kee-DAl2viO"
      }
    },
    {
      "cell_type": "markdown",
      "source": [
        "# **Conclusion**"
      ],
      "metadata": {
        "id": "gCX9965dhzqZ"
      }
    },
    {
      "cell_type": "markdown",
      "source": [
        "Write the conclusion here."
      ],
      "metadata": {
        "id": "Fjb1IsQkh3yE"
      }
    },
    {
      "cell_type": "markdown",
      "source": [
        "### ***Hurrah! You have successfully completed your Machine Learning Capstone Project !!!***"
      ],
      "metadata": {
        "id": "gIfDvo9L0UH2"
      }
    }
  ]
}