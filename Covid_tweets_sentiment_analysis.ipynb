{
  "cells": [
    {
      "cell_type": "markdown",
      "metadata": {
        "id": "view-in-github",
        "colab_type": "text"
      },
      "source": [
        "<a href=\"https://colab.research.google.com/github/Nagasai122/Covid_sentiment_analysis/blob/main/Covid_tweets_sentiment_analysis.ipynb\" target=\"_parent\"><img src=\"https://colab.research.google.com/assets/colab-badge.svg\" alt=\"Open In Colab\"/></a>"
      ]
    },
    {
      "cell_type": "code",
      "execution_count": null,
      "metadata": {
        "colab": {
          "base_uri": "https://localhost:8080/"
        },
        "id": "ZXb-G3CSJ1ru",
        "outputId": "a7533bc8-d30e-43a9-f83a-c818e03b1418"
      },
      "outputs": [
        {
          "output_type": "stream",
          "name": "stderr",
          "text": [
            "[nltk_data] Downloading package punkt to /root/nltk_data...\n",
            "[nltk_data]   Unzipping tokenizers/punkt.zip.\n",
            "[nltk_data] Downloading package averaged_perceptron_tagger to\n",
            "[nltk_data]     /root/nltk_data...\n",
            "[nltk_data]   Unzipping taggers/averaged_perceptron_tagger.zip.\n",
            "[nltk_data] Downloading package wordnet to /root/nltk_data...\n",
            "[nltk_data] Downloading package stopwords to /root/nltk_data...\n",
            "[nltk_data]   Unzipping corpora/stopwords.zip.\n",
            "[nltk_data] Downloading package omw-1.4 to /root/nltk_data...\n"
          ]
        }
      ],
      "source": [
        "import pandas as pd\n",
        "import numpy as np\n",
        "\n",
        "import seaborn as sns\n",
        "import matplotlib.pyplot as plt\n",
        "\n",
        "#for text pre-processing\n",
        "import re, string\n",
        "import nltk\n",
        "from wordcloud import WordCloud, STOPWORDS\n",
        "from nltk.tokenize import word_tokenize\n",
        "from nltk.corpus import stopwords\n",
        "from nltk.stem import SnowballStemmer\n",
        "from nltk.corpus import wordnet\n",
        "from nltk.stem import WordNetLemmatizer\n",
        "\n",
        "nltk.download('punkt')\n",
        "nltk.download('averaged_perceptron_tagger')\n",
        "nltk.download('wordnet')\n",
        "nltk.download('stopwords')\n",
        "nltk.download('omw-1.4')\n",
        "\n",
        "#for model-building\n",
        "from sklearn.model_selection import train_test_split\n",
        "from sklearn.linear_model import LogisticRegression\n",
        "from sklearn.linear_model import SGDClassifier\n",
        "from sklearn.naive_bayes import MultinomialNB\n",
        "from sklearn.metrics import classification_report, f1_score, accuracy_score, confusion_matrix\n",
        "from sklearn.metrics import roc_curve, auc, roc_auc_score\n",
        "\n",
        "# bag of words\n",
        "from sklearn.feature_extraction.text import TfidfVectorizer\n",
        "from sklearn.feature_extraction.text import CountVectorizer\n",
        "\n",
        "#for word embedding\n",
        "import gensim\n",
        "from gensim.models import Word2Vec #Word2Vec is mostly used for huge datasets"
      ]
    },
    {
      "cell_type": "code",
      "execution_count": null,
      "metadata": {
        "id": "cOkLzHaeLEO3"
      },
      "outputs": [],
      "source": [
        "df = pd.read_csv('https://raw.githubusercontent.com/Nagasai122/Covid_sentiment_analysis/main/Coronavirus%20Tweets.csv',encoding = 'ISO-8859-1')"
      ]
    },
    {
      "cell_type": "code",
      "execution_count": null,
      "metadata": {
        "colab": {
          "base_uri": "https://localhost:8080/",
          "height": 206
        },
        "id": "Jt3sw6VbLfL5",
        "outputId": "9a5f4739-2885-45f0-ba15-d24ac439cd19"
      },
      "outputs": [
        {
          "output_type": "execute_result",
          "data": {
            "text/plain": [
              "   UserName  ScreenName   Location     TweetAt  \\\n",
              "0      3799       48751     London  16-03-2020   \n",
              "1      3800       48752         UK  16-03-2020   \n",
              "2      3801       48753  Vagabonds  16-03-2020   \n",
              "3      3802       48754        NaN  16-03-2020   \n",
              "4      3803       48755        NaN  16-03-2020   \n",
              "\n",
              "                                       OriginalTweet           Sentiment  \n",
              "0  @MeNyrbie @Phil_Gahan @Chrisitv https://t.co/i...             Neutral  \n",
              "1  advice Talk to your neighbours family to excha...            Positive  \n",
              "2  Coronavirus Australia: Woolworths to give elde...            Positive  \n",
              "3  My food stock is not the only one which is emp...            Positive  \n",
              "4  Me, ready to go at supermarket during the #COV...  Extremely Negative  "
            ],
            "text/html": [
              "\n",
              "  <div id=\"df-be8bd44a-d9b0-4e71-a9d0-b8899c6411ae\">\n",
              "    <div class=\"colab-df-container\">\n",
              "      <div>\n",
              "<style scoped>\n",
              "    .dataframe tbody tr th:only-of-type {\n",
              "        vertical-align: middle;\n",
              "    }\n",
              "\n",
              "    .dataframe tbody tr th {\n",
              "        vertical-align: top;\n",
              "    }\n",
              "\n",
              "    .dataframe thead th {\n",
              "        text-align: right;\n",
              "    }\n",
              "</style>\n",
              "<table border=\"1\" class=\"dataframe\">\n",
              "  <thead>\n",
              "    <tr style=\"text-align: right;\">\n",
              "      <th></th>\n",
              "      <th>UserName</th>\n",
              "      <th>ScreenName</th>\n",
              "      <th>Location</th>\n",
              "      <th>TweetAt</th>\n",
              "      <th>OriginalTweet</th>\n",
              "      <th>Sentiment</th>\n",
              "    </tr>\n",
              "  </thead>\n",
              "  <tbody>\n",
              "    <tr>\n",
              "      <th>0</th>\n",
              "      <td>3799</td>\n",
              "      <td>48751</td>\n",
              "      <td>London</td>\n",
              "      <td>16-03-2020</td>\n",
              "      <td>@MeNyrbie @Phil_Gahan @Chrisitv https://t.co/i...</td>\n",
              "      <td>Neutral</td>\n",
              "    </tr>\n",
              "    <tr>\n",
              "      <th>1</th>\n",
              "      <td>3800</td>\n",
              "      <td>48752</td>\n",
              "      <td>UK</td>\n",
              "      <td>16-03-2020</td>\n",
              "      <td>advice Talk to your neighbours family to excha...</td>\n",
              "      <td>Positive</td>\n",
              "    </tr>\n",
              "    <tr>\n",
              "      <th>2</th>\n",
              "      <td>3801</td>\n",
              "      <td>48753</td>\n",
              "      <td>Vagabonds</td>\n",
              "      <td>16-03-2020</td>\n",
              "      <td>Coronavirus Australia: Woolworths to give elde...</td>\n",
              "      <td>Positive</td>\n",
              "    </tr>\n",
              "    <tr>\n",
              "      <th>3</th>\n",
              "      <td>3802</td>\n",
              "      <td>48754</td>\n",
              "      <td>NaN</td>\n",
              "      <td>16-03-2020</td>\n",
              "      <td>My food stock is not the only one which is emp...</td>\n",
              "      <td>Positive</td>\n",
              "    </tr>\n",
              "    <tr>\n",
              "      <th>4</th>\n",
              "      <td>3803</td>\n",
              "      <td>48755</td>\n",
              "      <td>NaN</td>\n",
              "      <td>16-03-2020</td>\n",
              "      <td>Me, ready to go at supermarket during the #COV...</td>\n",
              "      <td>Extremely Negative</td>\n",
              "    </tr>\n",
              "  </tbody>\n",
              "</table>\n",
              "</div>\n",
              "      <button class=\"colab-df-convert\" onclick=\"convertToInteractive('df-be8bd44a-d9b0-4e71-a9d0-b8899c6411ae')\"\n",
              "              title=\"Convert this dataframe to an interactive table.\"\n",
              "              style=\"display:none;\">\n",
              "        \n",
              "  <svg xmlns=\"http://www.w3.org/2000/svg\" height=\"24px\"viewBox=\"0 0 24 24\"\n",
              "       width=\"24px\">\n",
              "    <path d=\"M0 0h24v24H0V0z\" fill=\"none\"/>\n",
              "    <path d=\"M18.56 5.44l.94 2.06.94-2.06 2.06-.94-2.06-.94-.94-2.06-.94 2.06-2.06.94zm-11 1L8.5 8.5l.94-2.06 2.06-.94-2.06-.94L8.5 2.5l-.94 2.06-2.06.94zm10 10l.94 2.06.94-2.06 2.06-.94-2.06-.94-.94-2.06-.94 2.06-2.06.94z\"/><path d=\"M17.41 7.96l-1.37-1.37c-.4-.4-.92-.59-1.43-.59-.52 0-1.04.2-1.43.59L10.3 9.45l-7.72 7.72c-.78.78-.78 2.05 0 2.83L4 21.41c.39.39.9.59 1.41.59.51 0 1.02-.2 1.41-.59l7.78-7.78 2.81-2.81c.8-.78.8-2.07 0-2.86zM5.41 20L4 18.59l7.72-7.72 1.47 1.35L5.41 20z\"/>\n",
              "  </svg>\n",
              "      </button>\n",
              "      \n",
              "  <style>\n",
              "    .colab-df-container {\n",
              "      display:flex;\n",
              "      flex-wrap:wrap;\n",
              "      gap: 12px;\n",
              "    }\n",
              "\n",
              "    .colab-df-convert {\n",
              "      background-color: #E8F0FE;\n",
              "      border: none;\n",
              "      border-radius: 50%;\n",
              "      cursor: pointer;\n",
              "      display: none;\n",
              "      fill: #1967D2;\n",
              "      height: 32px;\n",
              "      padding: 0 0 0 0;\n",
              "      width: 32px;\n",
              "    }\n",
              "\n",
              "    .colab-df-convert:hover {\n",
              "      background-color: #E2EBFA;\n",
              "      box-shadow: 0px 1px 2px rgba(60, 64, 67, 0.3), 0px 1px 3px 1px rgba(60, 64, 67, 0.15);\n",
              "      fill: #174EA6;\n",
              "    }\n",
              "\n",
              "    [theme=dark] .colab-df-convert {\n",
              "      background-color: #3B4455;\n",
              "      fill: #D2E3FC;\n",
              "    }\n",
              "\n",
              "    [theme=dark] .colab-df-convert:hover {\n",
              "      background-color: #434B5C;\n",
              "      box-shadow: 0px 1px 3px 1px rgba(0, 0, 0, 0.15);\n",
              "      filter: drop-shadow(0px 1px 2px rgba(0, 0, 0, 0.3));\n",
              "      fill: #FFFFFF;\n",
              "    }\n",
              "  </style>\n",
              "\n",
              "      <script>\n",
              "        const buttonEl =\n",
              "          document.querySelector('#df-be8bd44a-d9b0-4e71-a9d0-b8899c6411ae button.colab-df-convert');\n",
              "        buttonEl.style.display =\n",
              "          google.colab.kernel.accessAllowed ? 'block' : 'none';\n",
              "\n",
              "        async function convertToInteractive(key) {\n",
              "          const element = document.querySelector('#df-be8bd44a-d9b0-4e71-a9d0-b8899c6411ae');\n",
              "          const dataTable =\n",
              "            await google.colab.kernel.invokeFunction('convertToInteractive',\n",
              "                                                     [key], {});\n",
              "          if (!dataTable) return;\n",
              "\n",
              "          const docLinkHtml = 'Like what you see? Visit the ' +\n",
              "            '<a target=\"_blank\" href=https://colab.research.google.com/notebooks/data_table.ipynb>data table notebook</a>'\n",
              "            + ' to learn more about interactive tables.';\n",
              "          element.innerHTML = '';\n",
              "          dataTable['output_type'] = 'display_data';\n",
              "          await google.colab.output.renderOutput(dataTable, element);\n",
              "          const docLink = document.createElement('div');\n",
              "          docLink.innerHTML = docLinkHtml;\n",
              "          element.appendChild(docLink);\n",
              "        }\n",
              "      </script>\n",
              "    </div>\n",
              "  </div>\n",
              "  "
            ]
          },
          "metadata": {},
          "execution_count": 3
        }
      ],
      "source": [
        "df.head()"
      ]
    },
    {
      "cell_type": "code",
      "execution_count": null,
      "metadata": {
        "colab": {
          "base_uri": "https://localhost:8080/",
          "height": 206
        },
        "id": "hxucvcNFMFd3",
        "outputId": "92519003-1fc6-4fea-f031-fce6f9f6ac5e"
      },
      "outputs": [
        {
          "output_type": "execute_result",
          "data": {
            "text/plain": [
              "       UserName  ScreenName                      Location     TweetAt  \\\n",
              "41152     44951       89903  Wellington City, New Zealand  14-04-2020   \n",
              "41153     44952       89904                           NaN  14-04-2020   \n",
              "41154     44953       89905                           NaN  14-04-2020   \n",
              "41155     44954       89906                           NaN  14-04-2020   \n",
              "41156     44955       89907  i love you so much || he/him  14-04-2020   \n",
              "\n",
              "                                           OriginalTweet           Sentiment  \n",
              "41152  Airline pilots offering to stock supermarket s...             Neutral  \n",
              "41153  Response to complaint not provided citing COVI...  Extremely Negative  \n",
              "41154  You know itÂs getting tough when @KameronWild...            Positive  \n",
              "41155  Is it wrong that the smell of hand sanitizer i...             Neutral  \n",
              "41156  @TartiiCat Well new/used Rift S are going for ...            Negative  "
            ],
            "text/html": [
              "\n",
              "  <div id=\"df-ad77fd58-06bd-4918-956b-3769d0d3822a\">\n",
              "    <div class=\"colab-df-container\">\n",
              "      <div>\n",
              "<style scoped>\n",
              "    .dataframe tbody tr th:only-of-type {\n",
              "        vertical-align: middle;\n",
              "    }\n",
              "\n",
              "    .dataframe tbody tr th {\n",
              "        vertical-align: top;\n",
              "    }\n",
              "\n",
              "    .dataframe thead th {\n",
              "        text-align: right;\n",
              "    }\n",
              "</style>\n",
              "<table border=\"1\" class=\"dataframe\">\n",
              "  <thead>\n",
              "    <tr style=\"text-align: right;\">\n",
              "      <th></th>\n",
              "      <th>UserName</th>\n",
              "      <th>ScreenName</th>\n",
              "      <th>Location</th>\n",
              "      <th>TweetAt</th>\n",
              "      <th>OriginalTweet</th>\n",
              "      <th>Sentiment</th>\n",
              "    </tr>\n",
              "  </thead>\n",
              "  <tbody>\n",
              "    <tr>\n",
              "      <th>41152</th>\n",
              "      <td>44951</td>\n",
              "      <td>89903</td>\n",
              "      <td>Wellington City, New Zealand</td>\n",
              "      <td>14-04-2020</td>\n",
              "      <td>Airline pilots offering to stock supermarket s...</td>\n",
              "      <td>Neutral</td>\n",
              "    </tr>\n",
              "    <tr>\n",
              "      <th>41153</th>\n",
              "      <td>44952</td>\n",
              "      <td>89904</td>\n",
              "      <td>NaN</td>\n",
              "      <td>14-04-2020</td>\n",
              "      <td>Response to complaint not provided citing COVI...</td>\n",
              "      <td>Extremely Negative</td>\n",
              "    </tr>\n",
              "    <tr>\n",
              "      <th>41154</th>\n",
              "      <td>44953</td>\n",
              "      <td>89905</td>\n",
              "      <td>NaN</td>\n",
              "      <td>14-04-2020</td>\n",
              "      <td>You know itÂs getting tough when @KameronWild...</td>\n",
              "      <td>Positive</td>\n",
              "    </tr>\n",
              "    <tr>\n",
              "      <th>41155</th>\n",
              "      <td>44954</td>\n",
              "      <td>89906</td>\n",
              "      <td>NaN</td>\n",
              "      <td>14-04-2020</td>\n",
              "      <td>Is it wrong that the smell of hand sanitizer i...</td>\n",
              "      <td>Neutral</td>\n",
              "    </tr>\n",
              "    <tr>\n",
              "      <th>41156</th>\n",
              "      <td>44955</td>\n",
              "      <td>89907</td>\n",
              "      <td>i love you so much || he/him</td>\n",
              "      <td>14-04-2020</td>\n",
              "      <td>@TartiiCat Well new/used Rift S are going for ...</td>\n",
              "      <td>Negative</td>\n",
              "    </tr>\n",
              "  </tbody>\n",
              "</table>\n",
              "</div>\n",
              "      <button class=\"colab-df-convert\" onclick=\"convertToInteractive('df-ad77fd58-06bd-4918-956b-3769d0d3822a')\"\n",
              "              title=\"Convert this dataframe to an interactive table.\"\n",
              "              style=\"display:none;\">\n",
              "        \n",
              "  <svg xmlns=\"http://www.w3.org/2000/svg\" height=\"24px\"viewBox=\"0 0 24 24\"\n",
              "       width=\"24px\">\n",
              "    <path d=\"M0 0h24v24H0V0z\" fill=\"none\"/>\n",
              "    <path d=\"M18.56 5.44l.94 2.06.94-2.06 2.06-.94-2.06-.94-.94-2.06-.94 2.06-2.06.94zm-11 1L8.5 8.5l.94-2.06 2.06-.94-2.06-.94L8.5 2.5l-.94 2.06-2.06.94zm10 10l.94 2.06.94-2.06 2.06-.94-2.06-.94-.94-2.06-.94 2.06-2.06.94z\"/><path d=\"M17.41 7.96l-1.37-1.37c-.4-.4-.92-.59-1.43-.59-.52 0-1.04.2-1.43.59L10.3 9.45l-7.72 7.72c-.78.78-.78 2.05 0 2.83L4 21.41c.39.39.9.59 1.41.59.51 0 1.02-.2 1.41-.59l7.78-7.78 2.81-2.81c.8-.78.8-2.07 0-2.86zM5.41 20L4 18.59l7.72-7.72 1.47 1.35L5.41 20z\"/>\n",
              "  </svg>\n",
              "      </button>\n",
              "      \n",
              "  <style>\n",
              "    .colab-df-container {\n",
              "      display:flex;\n",
              "      flex-wrap:wrap;\n",
              "      gap: 12px;\n",
              "    }\n",
              "\n",
              "    .colab-df-convert {\n",
              "      background-color: #E8F0FE;\n",
              "      border: none;\n",
              "      border-radius: 50%;\n",
              "      cursor: pointer;\n",
              "      display: none;\n",
              "      fill: #1967D2;\n",
              "      height: 32px;\n",
              "      padding: 0 0 0 0;\n",
              "      width: 32px;\n",
              "    }\n",
              "\n",
              "    .colab-df-convert:hover {\n",
              "      background-color: #E2EBFA;\n",
              "      box-shadow: 0px 1px 2px rgba(60, 64, 67, 0.3), 0px 1px 3px 1px rgba(60, 64, 67, 0.15);\n",
              "      fill: #174EA6;\n",
              "    }\n",
              "\n",
              "    [theme=dark] .colab-df-convert {\n",
              "      background-color: #3B4455;\n",
              "      fill: #D2E3FC;\n",
              "    }\n",
              "\n",
              "    [theme=dark] .colab-df-convert:hover {\n",
              "      background-color: #434B5C;\n",
              "      box-shadow: 0px 1px 3px 1px rgba(0, 0, 0, 0.15);\n",
              "      filter: drop-shadow(0px 1px 2px rgba(0, 0, 0, 0.3));\n",
              "      fill: #FFFFFF;\n",
              "    }\n",
              "  </style>\n",
              "\n",
              "      <script>\n",
              "        const buttonEl =\n",
              "          document.querySelector('#df-ad77fd58-06bd-4918-956b-3769d0d3822a button.colab-df-convert');\n",
              "        buttonEl.style.display =\n",
              "          google.colab.kernel.accessAllowed ? 'block' : 'none';\n",
              "\n",
              "        async function convertToInteractive(key) {\n",
              "          const element = document.querySelector('#df-ad77fd58-06bd-4918-956b-3769d0d3822a');\n",
              "          const dataTable =\n",
              "            await google.colab.kernel.invokeFunction('convertToInteractive',\n",
              "                                                     [key], {});\n",
              "          if (!dataTable) return;\n",
              "\n",
              "          const docLinkHtml = 'Like what you see? Visit the ' +\n",
              "            '<a target=\"_blank\" href=https://colab.research.google.com/notebooks/data_table.ipynb>data table notebook</a>'\n",
              "            + ' to learn more about interactive tables.';\n",
              "          element.innerHTML = '';\n",
              "          dataTable['output_type'] = 'display_data';\n",
              "          await google.colab.output.renderOutput(dataTable, element);\n",
              "          const docLink = document.createElement('div');\n",
              "          docLink.innerHTML = docLinkHtml;\n",
              "          element.appendChild(docLink);\n",
              "        }\n",
              "      </script>\n",
              "    </div>\n",
              "  </div>\n",
              "  "
            ]
          },
          "metadata": {},
          "execution_count": 4
        }
      ],
      "source": [
        "df.tail()"
      ]
    },
    {
      "cell_type": "code",
      "execution_count": null,
      "metadata": {
        "colab": {
          "base_uri": "https://localhost:8080/"
        },
        "id": "orD35J2cMHQX",
        "outputId": "727fe183-a71e-4afc-91fe-a1666b4d157d"
      },
      "outputs": [
        {
          "output_type": "execute_result",
          "data": {
            "text/plain": [
              "(41157, 6)"
            ]
          },
          "metadata": {},
          "execution_count": 5
        }
      ],
      "source": [
        "df.shape"
      ]
    },
    {
      "cell_type": "code",
      "execution_count": null,
      "metadata": {
        "colab": {
          "base_uri": "https://localhost:8080/"
        },
        "id": "9QA0VdROMI23",
        "outputId": "12b3140c-241d-4781-bf97-b5a8206dea77"
      },
      "outputs": [
        {
          "output_type": "execute_result",
          "data": {
            "text/plain": [
              "Index(['UserName', 'ScreenName', 'Location', 'TweetAt', 'OriginalTweet',\n",
              "       'Sentiment'],\n",
              "      dtype='object')"
            ]
          },
          "metadata": {},
          "execution_count": 6
        }
      ],
      "source": [
        "df.columns"
      ]
    },
    {
      "cell_type": "code",
      "execution_count": null,
      "metadata": {
        "colab": {
          "base_uri": "https://localhost:8080/"
        },
        "id": "I_VCVJAnMK1R",
        "outputId": "169fc934-0b98-471a-b297-0f5cdca9557d"
      },
      "outputs": [
        {
          "output_type": "stream",
          "name": "stdout",
          "text": [
            "<class 'pandas.core.frame.DataFrame'>\n",
            "RangeIndex: 41157 entries, 0 to 41156\n",
            "Data columns (total 6 columns):\n",
            " #   Column         Non-Null Count  Dtype \n",
            "---  ------         --------------  ----- \n",
            " 0   UserName       41157 non-null  int64 \n",
            " 1   ScreenName     41157 non-null  int64 \n",
            " 2   Location       32567 non-null  object\n",
            " 3   TweetAt        41157 non-null  object\n",
            " 4   OriginalTweet  41157 non-null  object\n",
            " 5   Sentiment      41157 non-null  object\n",
            "dtypes: int64(2), object(4)\n",
            "memory usage: 1.9+ MB\n"
          ]
        }
      ],
      "source": [
        "df.info()"
      ]
    },
    {
      "cell_type": "code",
      "execution_count": null,
      "metadata": {
        "colab": {
          "base_uri": "https://localhost:8080/",
          "height": 300
        },
        "id": "um_8YnyDMwqo",
        "outputId": "2595d8c9-3515-4a99-a012-edca2d51eddb"
      },
      "outputs": [
        {
          "output_type": "execute_result",
          "data": {
            "text/plain": [
              "           UserName    ScreenName\n",
              "count  41157.000000  41157.000000\n",
              "mean   24377.000000  69329.000000\n",
              "std    11881.146851  11881.146851\n",
              "min     3799.000000  48751.000000\n",
              "25%    14088.000000  59040.000000\n",
              "50%    24377.000000  69329.000000\n",
              "75%    34666.000000  79618.000000\n",
              "max    44955.000000  89907.000000"
            ],
            "text/html": [
              "\n",
              "  <div id=\"df-f3a14af6-d40d-483c-8298-756d041c66a4\">\n",
              "    <div class=\"colab-df-container\">\n",
              "      <div>\n",
              "<style scoped>\n",
              "    .dataframe tbody tr th:only-of-type {\n",
              "        vertical-align: middle;\n",
              "    }\n",
              "\n",
              "    .dataframe tbody tr th {\n",
              "        vertical-align: top;\n",
              "    }\n",
              "\n",
              "    .dataframe thead th {\n",
              "        text-align: right;\n",
              "    }\n",
              "</style>\n",
              "<table border=\"1\" class=\"dataframe\">\n",
              "  <thead>\n",
              "    <tr style=\"text-align: right;\">\n",
              "      <th></th>\n",
              "      <th>UserName</th>\n",
              "      <th>ScreenName</th>\n",
              "    </tr>\n",
              "  </thead>\n",
              "  <tbody>\n",
              "    <tr>\n",
              "      <th>count</th>\n",
              "      <td>41157.000000</td>\n",
              "      <td>41157.000000</td>\n",
              "    </tr>\n",
              "    <tr>\n",
              "      <th>mean</th>\n",
              "      <td>24377.000000</td>\n",
              "      <td>69329.000000</td>\n",
              "    </tr>\n",
              "    <tr>\n",
              "      <th>std</th>\n",
              "      <td>11881.146851</td>\n",
              "      <td>11881.146851</td>\n",
              "    </tr>\n",
              "    <tr>\n",
              "      <th>min</th>\n",
              "      <td>3799.000000</td>\n",
              "      <td>48751.000000</td>\n",
              "    </tr>\n",
              "    <tr>\n",
              "      <th>25%</th>\n",
              "      <td>14088.000000</td>\n",
              "      <td>59040.000000</td>\n",
              "    </tr>\n",
              "    <tr>\n",
              "      <th>50%</th>\n",
              "      <td>24377.000000</td>\n",
              "      <td>69329.000000</td>\n",
              "    </tr>\n",
              "    <tr>\n",
              "      <th>75%</th>\n",
              "      <td>34666.000000</td>\n",
              "      <td>79618.000000</td>\n",
              "    </tr>\n",
              "    <tr>\n",
              "      <th>max</th>\n",
              "      <td>44955.000000</td>\n",
              "      <td>89907.000000</td>\n",
              "    </tr>\n",
              "  </tbody>\n",
              "</table>\n",
              "</div>\n",
              "      <button class=\"colab-df-convert\" onclick=\"convertToInteractive('df-f3a14af6-d40d-483c-8298-756d041c66a4')\"\n",
              "              title=\"Convert this dataframe to an interactive table.\"\n",
              "              style=\"display:none;\">\n",
              "        \n",
              "  <svg xmlns=\"http://www.w3.org/2000/svg\" height=\"24px\"viewBox=\"0 0 24 24\"\n",
              "       width=\"24px\">\n",
              "    <path d=\"M0 0h24v24H0V0z\" fill=\"none\"/>\n",
              "    <path d=\"M18.56 5.44l.94 2.06.94-2.06 2.06-.94-2.06-.94-.94-2.06-.94 2.06-2.06.94zm-11 1L8.5 8.5l.94-2.06 2.06-.94-2.06-.94L8.5 2.5l-.94 2.06-2.06.94zm10 10l.94 2.06.94-2.06 2.06-.94-2.06-.94-.94-2.06-.94 2.06-2.06.94z\"/><path d=\"M17.41 7.96l-1.37-1.37c-.4-.4-.92-.59-1.43-.59-.52 0-1.04.2-1.43.59L10.3 9.45l-7.72 7.72c-.78.78-.78 2.05 0 2.83L4 21.41c.39.39.9.59 1.41.59.51 0 1.02-.2 1.41-.59l7.78-7.78 2.81-2.81c.8-.78.8-2.07 0-2.86zM5.41 20L4 18.59l7.72-7.72 1.47 1.35L5.41 20z\"/>\n",
              "  </svg>\n",
              "      </button>\n",
              "      \n",
              "  <style>\n",
              "    .colab-df-container {\n",
              "      display:flex;\n",
              "      flex-wrap:wrap;\n",
              "      gap: 12px;\n",
              "    }\n",
              "\n",
              "    .colab-df-convert {\n",
              "      background-color: #E8F0FE;\n",
              "      border: none;\n",
              "      border-radius: 50%;\n",
              "      cursor: pointer;\n",
              "      display: none;\n",
              "      fill: #1967D2;\n",
              "      height: 32px;\n",
              "      padding: 0 0 0 0;\n",
              "      width: 32px;\n",
              "    }\n",
              "\n",
              "    .colab-df-convert:hover {\n",
              "      background-color: #E2EBFA;\n",
              "      box-shadow: 0px 1px 2px rgba(60, 64, 67, 0.3), 0px 1px 3px 1px rgba(60, 64, 67, 0.15);\n",
              "      fill: #174EA6;\n",
              "    }\n",
              "\n",
              "    [theme=dark] .colab-df-convert {\n",
              "      background-color: #3B4455;\n",
              "      fill: #D2E3FC;\n",
              "    }\n",
              "\n",
              "    [theme=dark] .colab-df-convert:hover {\n",
              "      background-color: #434B5C;\n",
              "      box-shadow: 0px 1px 3px 1px rgba(0, 0, 0, 0.15);\n",
              "      filter: drop-shadow(0px 1px 2px rgba(0, 0, 0, 0.3));\n",
              "      fill: #FFFFFF;\n",
              "    }\n",
              "  </style>\n",
              "\n",
              "      <script>\n",
              "        const buttonEl =\n",
              "          document.querySelector('#df-f3a14af6-d40d-483c-8298-756d041c66a4 button.colab-df-convert');\n",
              "        buttonEl.style.display =\n",
              "          google.colab.kernel.accessAllowed ? 'block' : 'none';\n",
              "\n",
              "        async function convertToInteractive(key) {\n",
              "          const element = document.querySelector('#df-f3a14af6-d40d-483c-8298-756d041c66a4');\n",
              "          const dataTable =\n",
              "            await google.colab.kernel.invokeFunction('convertToInteractive',\n",
              "                                                     [key], {});\n",
              "          if (!dataTable) return;\n",
              "\n",
              "          const docLinkHtml = 'Like what you see? Visit the ' +\n",
              "            '<a target=\"_blank\" href=https://colab.research.google.com/notebooks/data_table.ipynb>data table notebook</a>'\n",
              "            + ' to learn more about interactive tables.';\n",
              "          element.innerHTML = '';\n",
              "          dataTable['output_type'] = 'display_data';\n",
              "          await google.colab.output.renderOutput(dataTable, element);\n",
              "          const docLink = document.createElement('div');\n",
              "          docLink.innerHTML = docLinkHtml;\n",
              "          element.appendChild(docLink);\n",
              "        }\n",
              "      </script>\n",
              "    </div>\n",
              "  </div>\n",
              "  "
            ]
          },
          "metadata": {},
          "execution_count": 8
        }
      ],
      "source": [
        "df.describe()"
      ]
    },
    {
      "cell_type": "code",
      "execution_count": null,
      "metadata": {
        "colab": {
          "base_uri": "https://localhost:8080/",
          "height": 206
        },
        "id": "UAB5QsMJM0WU",
        "outputId": "4511549f-964c-4409-e5cb-296d1c51f265"
      },
      "outputs": [
        {
          "output_type": "execute_result",
          "data": {
            "text/plain": [
              "   UserName  ScreenName   Location     TweetAt  \\\n",
              "0      3799       48751     London  16-03-2020   \n",
              "1      3800       48752         UK  16-03-2020   \n",
              "2      3801       48753  Vagabonds  16-03-2020   \n",
              "3      3802       48754        NaN  16-03-2020   \n",
              "4      3803       48755        NaN  16-03-2020   \n",
              "\n",
              "                                       OriginalTweet           Sentiment  \n",
              "0  @MeNyrbie @Phil_Gahan @Chrisitv https://t.co/i...             Neutral  \n",
              "1  advice Talk to your neighbours family to excha...            Positive  \n",
              "2  Coronavirus Australia: Woolworths to give elde...            Positive  \n",
              "3  My food stock is not the only one which is emp...            Positive  \n",
              "4  Me, ready to go at supermarket during the #COV...  Extremely Negative  "
            ],
            "text/html": [
              "\n",
              "  <div id=\"df-dd0fb00e-a611-47a5-9a0f-3d7fd0a603bf\">\n",
              "    <div class=\"colab-df-container\">\n",
              "      <div>\n",
              "<style scoped>\n",
              "    .dataframe tbody tr th:only-of-type {\n",
              "        vertical-align: middle;\n",
              "    }\n",
              "\n",
              "    .dataframe tbody tr th {\n",
              "        vertical-align: top;\n",
              "    }\n",
              "\n",
              "    .dataframe thead th {\n",
              "        text-align: right;\n",
              "    }\n",
              "</style>\n",
              "<table border=\"1\" class=\"dataframe\">\n",
              "  <thead>\n",
              "    <tr style=\"text-align: right;\">\n",
              "      <th></th>\n",
              "      <th>UserName</th>\n",
              "      <th>ScreenName</th>\n",
              "      <th>Location</th>\n",
              "      <th>TweetAt</th>\n",
              "      <th>OriginalTweet</th>\n",
              "      <th>Sentiment</th>\n",
              "    </tr>\n",
              "  </thead>\n",
              "  <tbody>\n",
              "    <tr>\n",
              "      <th>0</th>\n",
              "      <td>3799</td>\n",
              "      <td>48751</td>\n",
              "      <td>London</td>\n",
              "      <td>16-03-2020</td>\n",
              "      <td>@MeNyrbie @Phil_Gahan @Chrisitv https://t.co/i...</td>\n",
              "      <td>Neutral</td>\n",
              "    </tr>\n",
              "    <tr>\n",
              "      <th>1</th>\n",
              "      <td>3800</td>\n",
              "      <td>48752</td>\n",
              "      <td>UK</td>\n",
              "      <td>16-03-2020</td>\n",
              "      <td>advice Talk to your neighbours family to excha...</td>\n",
              "      <td>Positive</td>\n",
              "    </tr>\n",
              "    <tr>\n",
              "      <th>2</th>\n",
              "      <td>3801</td>\n",
              "      <td>48753</td>\n",
              "      <td>Vagabonds</td>\n",
              "      <td>16-03-2020</td>\n",
              "      <td>Coronavirus Australia: Woolworths to give elde...</td>\n",
              "      <td>Positive</td>\n",
              "    </tr>\n",
              "    <tr>\n",
              "      <th>3</th>\n",
              "      <td>3802</td>\n",
              "      <td>48754</td>\n",
              "      <td>NaN</td>\n",
              "      <td>16-03-2020</td>\n",
              "      <td>My food stock is not the only one which is emp...</td>\n",
              "      <td>Positive</td>\n",
              "    </tr>\n",
              "    <tr>\n",
              "      <th>4</th>\n",
              "      <td>3803</td>\n",
              "      <td>48755</td>\n",
              "      <td>NaN</td>\n",
              "      <td>16-03-2020</td>\n",
              "      <td>Me, ready to go at supermarket during the #COV...</td>\n",
              "      <td>Extremely Negative</td>\n",
              "    </tr>\n",
              "  </tbody>\n",
              "</table>\n",
              "</div>\n",
              "      <button class=\"colab-df-convert\" onclick=\"convertToInteractive('df-dd0fb00e-a611-47a5-9a0f-3d7fd0a603bf')\"\n",
              "              title=\"Convert this dataframe to an interactive table.\"\n",
              "              style=\"display:none;\">\n",
              "        \n",
              "  <svg xmlns=\"http://www.w3.org/2000/svg\" height=\"24px\"viewBox=\"0 0 24 24\"\n",
              "       width=\"24px\">\n",
              "    <path d=\"M0 0h24v24H0V0z\" fill=\"none\"/>\n",
              "    <path d=\"M18.56 5.44l.94 2.06.94-2.06 2.06-.94-2.06-.94-.94-2.06-.94 2.06-2.06.94zm-11 1L8.5 8.5l.94-2.06 2.06-.94-2.06-.94L8.5 2.5l-.94 2.06-2.06.94zm10 10l.94 2.06.94-2.06 2.06-.94-2.06-.94-.94-2.06-.94 2.06-2.06.94z\"/><path d=\"M17.41 7.96l-1.37-1.37c-.4-.4-.92-.59-1.43-.59-.52 0-1.04.2-1.43.59L10.3 9.45l-7.72 7.72c-.78.78-.78 2.05 0 2.83L4 21.41c.39.39.9.59 1.41.59.51 0 1.02-.2 1.41-.59l7.78-7.78 2.81-2.81c.8-.78.8-2.07 0-2.86zM5.41 20L4 18.59l7.72-7.72 1.47 1.35L5.41 20z\"/>\n",
              "  </svg>\n",
              "      </button>\n",
              "      \n",
              "  <style>\n",
              "    .colab-df-container {\n",
              "      display:flex;\n",
              "      flex-wrap:wrap;\n",
              "      gap: 12px;\n",
              "    }\n",
              "\n",
              "    .colab-df-convert {\n",
              "      background-color: #E8F0FE;\n",
              "      border: none;\n",
              "      border-radius: 50%;\n",
              "      cursor: pointer;\n",
              "      display: none;\n",
              "      fill: #1967D2;\n",
              "      height: 32px;\n",
              "      padding: 0 0 0 0;\n",
              "      width: 32px;\n",
              "    }\n",
              "\n",
              "    .colab-df-convert:hover {\n",
              "      background-color: #E2EBFA;\n",
              "      box-shadow: 0px 1px 2px rgba(60, 64, 67, 0.3), 0px 1px 3px 1px rgba(60, 64, 67, 0.15);\n",
              "      fill: #174EA6;\n",
              "    }\n",
              "\n",
              "    [theme=dark] .colab-df-convert {\n",
              "      background-color: #3B4455;\n",
              "      fill: #D2E3FC;\n",
              "    }\n",
              "\n",
              "    [theme=dark] .colab-df-convert:hover {\n",
              "      background-color: #434B5C;\n",
              "      box-shadow: 0px 1px 3px 1px rgba(0, 0, 0, 0.15);\n",
              "      filter: drop-shadow(0px 1px 2px rgba(0, 0, 0, 0.3));\n",
              "      fill: #FFFFFF;\n",
              "    }\n",
              "  </style>\n",
              "\n",
              "      <script>\n",
              "        const buttonEl =\n",
              "          document.querySelector('#df-dd0fb00e-a611-47a5-9a0f-3d7fd0a603bf button.colab-df-convert');\n",
              "        buttonEl.style.display =\n",
              "          google.colab.kernel.accessAllowed ? 'block' : 'none';\n",
              "\n",
              "        async function convertToInteractive(key) {\n",
              "          const element = document.querySelector('#df-dd0fb00e-a611-47a5-9a0f-3d7fd0a603bf');\n",
              "          const dataTable =\n",
              "            await google.colab.kernel.invokeFunction('convertToInteractive',\n",
              "                                                     [key], {});\n",
              "          if (!dataTable) return;\n",
              "\n",
              "          const docLinkHtml = 'Like what you see? Visit the ' +\n",
              "            '<a target=\"_blank\" href=https://colab.research.google.com/notebooks/data_table.ipynb>data table notebook</a>'\n",
              "            + ' to learn more about interactive tables.';\n",
              "          element.innerHTML = '';\n",
              "          dataTable['output_type'] = 'display_data';\n",
              "          await google.colab.output.renderOutput(dataTable, element);\n",
              "          const docLink = document.createElement('div');\n",
              "          docLink.innerHTML = docLinkHtml;\n",
              "          element.appendChild(docLink);\n",
              "        }\n",
              "      </script>\n",
              "    </div>\n",
              "  </div>\n",
              "  "
            ]
          },
          "metadata": {},
          "execution_count": 9
        }
      ],
      "source": [
        "df.head()"
      ]
    },
    {
      "cell_type": "code",
      "execution_count": null,
      "metadata": {
        "id": "Kcnsfux9OG0j"
      },
      "outputs": [],
      "source": [
        "df['TweetAt']= pd.to_datetime(df['TweetAt'])"
      ]
    },
    {
      "cell_type": "code",
      "execution_count": null,
      "metadata": {
        "colab": {
          "base_uri": "https://localhost:8080/"
        },
        "id": "UcAGlEoSOREp",
        "outputId": "5bc4d7c9-d820-4d91-bddf-65c517276584"
      },
      "outputs": [
        {
          "output_type": "execute_result",
          "data": {
            "text/plain": [
              "(Timestamp('2020-01-04 00:00:00'), Timestamp('2020-12-04 00:00:00'))"
            ]
          },
          "metadata": {},
          "execution_count": 11
        }
      ],
      "source": [
        "df['TweetAt'].min(), df['TweetAt'].max()"
      ]
    },
    {
      "cell_type": "code",
      "execution_count": null,
      "metadata": {
        "colab": {
          "base_uri": "https://localhost:8080/"
        },
        "id": "NIWbvTB8OSsY",
        "outputId": "537b7276-cea5-4afa-9d43-535a6b5ddaa8"
      },
      "outputs": [
        {
          "output_type": "stream",
          "name": "stdout",
          "text": [
            "<class 'pandas.core.frame.DataFrame'>\n",
            "RangeIndex: 41157 entries, 0 to 41156\n",
            "Data columns (total 6 columns):\n",
            " #   Column         Non-Null Count  Dtype         \n",
            "---  ------         --------------  -----         \n",
            " 0   UserName       41157 non-null  int64         \n",
            " 1   ScreenName     41157 non-null  int64         \n",
            " 2   Location       32567 non-null  object        \n",
            " 3   TweetAt        41157 non-null  datetime64[ns]\n",
            " 4   OriginalTweet  41157 non-null  object        \n",
            " 5   Sentiment      41157 non-null  object        \n",
            "dtypes: datetime64[ns](1), int64(2), object(3)\n",
            "memory usage: 1.9+ MB\n"
          ]
        }
      ],
      "source": [
        "df.info()"
      ]
    },
    {
      "cell_type": "code",
      "execution_count": null,
      "metadata": {
        "id": "LhXrLp31Ok9o"
      },
      "outputs": [],
      "source": [
        "df['Location']= df['Location'].fillna('Unknown')"
      ]
    },
    {
      "cell_type": "code",
      "execution_count": null,
      "metadata": {
        "colab": {
          "base_uri": "https://localhost:8080/"
        },
        "id": "LV2w6Vx6Ou2D",
        "outputId": "e1ad6d20-b260-4379-ca54-e294bd0c1203"
      },
      "outputs": [
        {
          "output_type": "stream",
          "name": "stdout",
          "text": [
            "<class 'pandas.core.frame.DataFrame'>\n",
            "RangeIndex: 41157 entries, 0 to 41156\n",
            "Data columns (total 6 columns):\n",
            " #   Column         Non-Null Count  Dtype         \n",
            "---  ------         --------------  -----         \n",
            " 0   UserName       41157 non-null  int64         \n",
            " 1   ScreenName     41157 non-null  int64         \n",
            " 2   Location       41157 non-null  object        \n",
            " 3   TweetAt        41157 non-null  datetime64[ns]\n",
            " 4   OriginalTweet  41157 non-null  object        \n",
            " 5   Sentiment      41157 non-null  object        \n",
            "dtypes: datetime64[ns](1), int64(2), object(3)\n",
            "memory usage: 1.9+ MB\n"
          ]
        }
      ],
      "source": [
        "df.info()"
      ]
    },
    {
      "cell_type": "code",
      "execution_count": null,
      "metadata": {
        "colab": {
          "base_uri": "https://localhost:8080/"
        },
        "id": "DgTTowJVOw_n",
        "outputId": "a2a9a5fb-8d25-4b21-8012-3c493cd25523"
      },
      "outputs": [
        {
          "output_type": "execute_result",
          "data": {
            "text/plain": [
              "Positive              11422\n",
              "Negative               9917\n",
              "Neutral                7713\n",
              "Extremely Positive     6624\n",
              "Extremely Negative     5481\n",
              "Name: Sentiment, dtype: int64"
            ]
          },
          "metadata": {},
          "execution_count": 15
        }
      ],
      "source": [
        "df['Sentiment'].value_counts()"
      ]
    },
    {
      "cell_type": "code",
      "execution_count": null,
      "metadata": {
        "colab": {
          "base_uri": "https://localhost:8080/"
        },
        "id": "opq3W4zKO8Ic",
        "outputId": "31dd5d46-3ae5-4ea8-d7fb-a72aa3a436a9"
      },
      "outputs": [
        {
          "output_type": "execute_result",
          "data": {
            "text/plain": [
              "Unknown                          8593\n",
              "London                            540\n",
              "United States                     528\n",
              "London, England                   520\n",
              "New York, NY                      395\n",
              "                                 ... \n",
              "Uganda Kampala                      1\n",
              "Views don't reflect employers       1\n",
              "Charlotte, MI                       1\n",
              "East Midlands, UK                   1\n",
              "i love you so much || he/him        1\n",
              "Name: Location, Length: 12220, dtype: int64"
            ]
          },
          "metadata": {},
          "execution_count": 16
        }
      ],
      "source": [
        "df['Location'].value_counts()"
      ]
    },
    {
      "cell_type": "code",
      "execution_count": null,
      "metadata": {
        "colab": {
          "base_uri": "https://localhost:8080/",
          "height": 367
        },
        "id": "IuwZ_PdZPwws",
        "outputId": "132c120b-113f-4f08-f59e-477924e8ad72"
      },
      "outputs": [
        {
          "output_type": "execute_result",
          "data": {
            "text/plain": [
              "Text(0, 0.5, 'Tweets Count')"
            ]
          },
          "metadata": {},
          "execution_count": 17
        },
        {
          "output_type": "display_data",
          "data": {
            "text/plain": [
              "<Figure size 576x360 with 1 Axes>"
            ],
            "image/png": "[encoded data removed]"
          },
          "metadata": {
            "needs_background": "light"
          }
        }
      ],
      "source": [
        "plt.figure(figsize=(8,5))\n",
        "sns.countplot(x=df['Sentiment'])\n",
        "plt.title('Sentiment wise no.of Tweets')\n",
        "plt.xlabel('Sentiment')\n",
        "plt.ylabel('Tweets Count')"
      ]
    },
    {
      "cell_type": "code",
      "execution_count": null,
      "metadata": {
        "colab": {
          "base_uri": "https://localhost:8080/",
          "height": 297
        },
        "id": "oK7Ntb2ygdRF",
        "outputId": "f9da3287-6cc0-4e5e-88ba-1119ae2d9c63"
      },
      "outputs": [
        {
          "output_type": "display_data",
          "data": {
            "text/plain": [
              "<Figure size 432x288 with 1 Axes>"
            ],
            "image/png": "[encoded data removed]"
          },
          "metadata": {}
        }
      ],
      "source": [
        "# Show distribution of tweet sentiments\n",
        "sentiment_dist = df.Sentiment.value_counts()\n",
        "\n",
        "plt.pie(sentiment_dist, labels=sentiment_dist.index, explode= (0.1,0,0,0.1,0),\n",
        "        colors=['yellowgreen', 'gold', 'lightcoral'],\n",
        "        autopct='%1.1f%%', shadow=True, startangle=140)\n",
        "plt.title(\"Tweets\\' Sentiment Distribution \\n\", fontsize=16, color='Black')\n",
        "plt.axis('equal')\n",
        "plt.tight_layout()\n",
        "plt.show()"
      ]
    },
    {
      "cell_type": "code",
      "execution_count": null,
      "metadata": {
        "colab": {
          "base_uri": "https://localhost:8080/",
          "height": 206
        },
        "id": "i4ePIqdiRpqg",
        "outputId": "140b5245-3ac8-4c66-b35b-a4cce8b01ca1"
      },
      "outputs": [
        {
          "output_type": "execute_result",
          "data": {
            "text/plain": [
              "   UserName  ScreenName   Location    TweetAt  \\\n",
              "0      3799       48751     London 2020-03-16   \n",
              "1      3800       48752         UK 2020-03-16   \n",
              "2      3801       48753  Vagabonds 2020-03-16   \n",
              "3      3802       48754    Unknown 2020-03-16   \n",
              "4      3803       48755    Unknown 2020-03-16   \n",
              "\n",
              "                                       OriginalTweet           Sentiment  \n",
              "0  @MeNyrbie @Phil_Gahan @Chrisitv https://t.co/i...             Neutral  \n",
              "1  advice Talk to your neighbours family to excha...            Positive  \n",
              "2  Coronavirus Australia: Woolworths to give elde...            Positive  \n",
              "3  My food stock is not the only one which is emp...            Positive  \n",
              "4  Me, ready to go at supermarket during the #COV...  Extremely Negative  "
            ],
            "text/html": [
              "\n",
              "  <div id=\"df-8e5224a5-8c6a-410d-b4ad-40795796d29b\">\n",
              "    <div class=\"colab-df-container\">\n",
              "      <div>\n",
              "<style scoped>\n",
              "    .dataframe tbody tr th:only-of-type {\n",
              "        vertical-align: middle;\n",
              "    }\n",
              "\n",
              "    .dataframe tbody tr th {\n",
              "        vertical-align: top;\n",
              "    }\n",
              "\n",
              "    .dataframe thead th {\n",
              "        text-align: right;\n",
              "    }\n",
              "</style>\n",
              "<table border=\"1\" class=\"dataframe\">\n",
              "  <thead>\n",
              "    <tr style=\"text-align: right;\">\n",
              "      <th></th>\n",
              "      <th>UserName</th>\n",
              "      <th>ScreenName</th>\n",
              "      <th>Location</th>\n",
              "      <th>TweetAt</th>\n",
              "      <th>OriginalTweet</th>\n",
              "      <th>Sentiment</th>\n",
              "    </tr>\n",
              "  </thead>\n",
              "  <tbody>\n",
              "    <tr>\n",
              "      <th>0</th>\n",
              "      <td>3799</td>\n",
              "      <td>48751</td>\n",
              "      <td>London</td>\n",
              "      <td>2020-03-16</td>\n",
              "      <td>@MeNyrbie @Phil_Gahan @Chrisitv https://t.co/i...</td>\n",
              "      <td>Neutral</td>\n",
              "    </tr>\n",
              "    <tr>\n",
              "      <th>1</th>\n",
              "      <td>3800</td>\n",
              "      <td>48752</td>\n",
              "      <td>UK</td>\n",
              "      <td>2020-03-16</td>\n",
              "      <td>advice Talk to your neighbours family to excha...</td>\n",
              "      <td>Positive</td>\n",
              "    </tr>\n",
              "    <tr>\n",
              "      <th>2</th>\n",
              "      <td>3801</td>\n",
              "      <td>48753</td>\n",
              "      <td>Vagabonds</td>\n",
              "      <td>2020-03-16</td>\n",
              "      <td>Coronavirus Australia: Woolworths to give elde...</td>\n",
              "      <td>Positive</td>\n",
              "    </tr>\n",
              "    <tr>\n",
              "      <th>3</th>\n",
              "      <td>3802</td>\n",
              "      <td>48754</td>\n",
              "      <td>Unknown</td>\n",
              "      <td>2020-03-16</td>\n",
              "      <td>My food stock is not the only one which is emp...</td>\n",
              "      <td>Positive</td>\n",
              "    </tr>\n",
              "    <tr>\n",
              "      <th>4</th>\n",
              "      <td>3803</td>\n",
              "      <td>48755</td>\n",
              "      <td>Unknown</td>\n",
              "      <td>2020-03-16</td>\n",
              "      <td>Me, ready to go at supermarket during the #COV...</td>\n",
              "      <td>Extremely Negative</td>\n",
              "    </tr>\n",
              "  </tbody>\n",
              "</table>\n",
              "</div>\n",
              "      <button class=\"colab-df-convert\" onclick=\"convertToInteractive('df-8e5224a5-8c6a-410d-b4ad-40795796d29b')\"\n",
              "              title=\"Convert this dataframe to an interactive table.\"\n",
              "              style=\"display:none;\">\n",
              "        \n",
              "  <svg xmlns=\"http://www.w3.org/2000/svg\" height=\"24px\"viewBox=\"0 0 24 24\"\n",
              "       width=\"24px\">\n",
              "    <path d=\"M0 0h24v24H0V0z\" fill=\"none\"/>\n",
              "    <path d=\"M18.56 5.44l.94 2.06.94-2.06 2.06-.94-2.06-.94-.94-2.06-.94 2.06-2.06.94zm-11 1L8.5 8.5l.94-2.06 2.06-.94-2.06-.94L8.5 2.5l-.94 2.06-2.06.94zm10 10l.94 2.06.94-2.06 2.06-.94-2.06-.94-.94-2.06-.94 2.06-2.06.94z\"/><path d=\"M17.41 7.96l-1.37-1.37c-.4-.4-.92-.59-1.43-.59-.52 0-1.04.2-1.43.59L10.3 9.45l-7.72 7.72c-.78.78-.78 2.05 0 2.83L4 21.41c.39.39.9.59 1.41.59.51 0 1.02-.2 1.41-.59l7.78-7.78 2.81-2.81c.8-.78.8-2.07 0-2.86zM5.41 20L4 18.59l7.72-7.72 1.47 1.35L5.41 20z\"/>\n",
              "  </svg>\n",
              "      </button>\n",
              "      \n",
              "  <style>\n",
              "    .colab-df-container {\n",
              "      display:flex;\n",
              "      flex-wrap:wrap;\n",
              "      gap: 12px;\n",
              "    }\n",
              "\n",
              "    .colab-df-convert {\n",
              "      background-color: #E8F0FE;\n",
              "      border: none;\n",
              "      border-radius: 50%;\n",
              "      cursor: pointer;\n",
              "      display: none;\n",
              "      fill: #1967D2;\n",
              "      height: 32px;\n",
              "      padding: 0 0 0 0;\n",
              "      width: 32px;\n",
              "    }\n",
              "\n",
              "    .colab-df-convert:hover {\n",
              "      background-color: #E2EBFA;\n",
              "      box-shadow: 0px 1px 2px rgba(60, 64, 67, 0.3), 0px 1px 3px 1px rgba(60, 64, 67, 0.15);\n",
              "      fill: #174EA6;\n",
              "    }\n",
              "\n",
              "    [theme=dark] .colab-df-convert {\n",
              "      background-color: #3B4455;\n",
              "      fill: #D2E3FC;\n",
              "    }\n",
              "\n",
              "    [theme=dark] .colab-df-convert:hover {\n",
              "      background-color: #434B5C;\n",
              "      box-shadow: 0px 1px 3px 1px rgba(0, 0, 0, 0.15);\n",
              "      filter: drop-shadow(0px 1px 2px rgba(0, 0, 0, 0.3));\n",
              "      fill: #FFFFFF;\n",
              "    }\n",
              "  </style>\n",
              "\n",
              "      <script>\n",
              "        const buttonEl =\n",
              "          document.querySelector('#df-8e5224a5-8c6a-410d-b4ad-40795796d29b button.colab-df-convert');\n",
              "        buttonEl.style.display =\n",
              "          google.colab.kernel.accessAllowed ? 'block' : 'none';\n",
              "\n",
              "        async function convertToInteractive(key) {\n",
              "          const element = document.querySelector('#df-8e5224a5-8c6a-410d-b4ad-40795796d29b');\n",
              "          const dataTable =\n",
              "            await google.colab.kernel.invokeFunction('convertToInteractive',\n",
              "                                                     [key], {});\n",
              "          if (!dataTable) return;\n",
              "\n",
              "          const docLinkHtml = 'Like what you see? Visit the ' +\n",
              "            '<a target=\"_blank\" href=https://colab.research.google.com/notebooks/data_table.ipynb>data table notebook</a>'\n",
              "            + ' to learn more about interactive tables.';\n",
              "          element.innerHTML = '';\n",
              "          dataTable['output_type'] = 'display_data';\n",
              "          await google.colab.output.renderOutput(dataTable, element);\n",
              "          const docLink = document.createElement('div');\n",
              "          docLink.innerHTML = docLinkHtml;\n",
              "          element.appendChild(docLink);\n",
              "        }\n",
              "      </script>\n",
              "    </div>\n",
              "  </div>\n",
              "  "
            ]
          },
          "metadata": {},
          "execution_count": 19
        }
      ],
      "source": [
        "df.head()"
      ]
    },
    {
      "cell_type": "code",
      "execution_count": null,
      "metadata": {
        "id": "uqCqTCOCTMDq"
      },
      "outputs": [],
      "source": [
        "place_df = df['Location'].value_counts().head(25)"
      ]
    },
    {
      "cell_type": "code",
      "execution_count": null,
      "metadata": {
        "colab": {
          "base_uri": "https://localhost:8080/"
        },
        "id": "0lgC3PyZTwe7",
        "outputId": "54fb85f5-290e-44b3-870b-79a8f838718d"
      },
      "outputs": [
        {
          "output_type": "execute_result",
          "data": {
            "text/plain": [
              "Unknown                    8593\n",
              "London                      540\n",
              "United States               528\n",
              "London, England             520\n",
              "New York, NY                395\n",
              "Washington, DC              373\n",
              "United Kingdom              337\n",
              "Los Angeles, CA             281\n",
              "India                       268\n",
              "UK                          232\n",
              "Australia                   225\n",
              "USA                         223\n",
              "England, United Kingdom     191\n",
              "Canada                      191\n",
              "Toronto, Ontario            160\n",
              "Global                      159\n",
              "Chicago, IL                 155\n",
              "California, USA             153\n",
              "San Francisco, CA           152\n",
              "Boston, MA                  150\n",
              "New York, USA               140\n",
              "New Delhi, India            138\n",
              "New York                    126\n",
              "Atlanta, GA                 126\n",
              "Mumbai, India               109\n",
              "Name: Location, dtype: int64"
            ]
          },
          "metadata": {},
          "execution_count": 21
        }
      ],
      "source": [
        "place_df"
      ]
    },
    {
      "cell_type": "code",
      "execution_count": null,
      "metadata": {
        "id": "LR2xq9RRXvqD"
      },
      "outputs": [],
      "source": [
        "# Separating City and Country from location column\n",
        "\n",
        "df['Country']= df.Location.apply(lambda x: x.split(\",\")[-1].strip() if (\",\" in x) else x)\n",
        "df['City']= df.Location.apply(lambda x: x.split(',')[0].strip() if (','in x) else x)"
      ]
    },
    {
      "cell_type": "code",
      "execution_count": null,
      "metadata": {
        "colab": {
          "base_uri": "https://localhost:8080/"
        },
        "id": "w1cmwb9XYqzp",
        "outputId": "f3c57587-a1c5-498b-95da-5b474d766233"
      },
      "outputs": [
        {
          "output_type": "execute_result",
          "data": {
            "text/plain": [
              "Unknown           8593\n",
              "USA               1721\n",
              "England           1547\n",
              "CA                1084\n",
              "India              963\n",
              "NY                 710\n",
              "UK                 677\n",
              "London             676\n",
              "United Kingdom     653\n",
              "Canada             554\n",
              "United States      544\n",
              "Australia          484\n",
              "TX                 475\n",
              "DC                 413\n",
              "Ontario            349\n",
              "FL                 332\n",
              "Nigeria            283\n",
              "IL                 263\n",
              "South Africa       255\n",
              "MA                 253\n",
              "PA                 235\n",
              "GA                 194\n",
              "New York           172\n",
              "Ireland            172\n",
              "Scotland           170\n",
              "Texas              167\n",
              "New Zealand        163\n",
              "Global             160\n",
              "NC                 155\n",
              "NJ                 150\n",
              "Name: Country, dtype: int64"
            ]
          },
          "metadata": {},
          "execution_count": 23
        }
      ],
      "source": [
        "df['Country'].value_counts().head(30)"
      ]
    },
    {
      "cell_type": "code",
      "execution_count": null,
      "metadata": {
        "id": "i2uxxs_ZYsAF"
      },
      "outputs": [],
      "source": [
        "#Replacing 2 digit US states with USA\n",
        "\n",
        "df['Country']= df.Country.apply(lambda x: 'USA' if len(x.lower().strip())<3 and x!= 'uk' else x)"
      ]
    },
    {
      "cell_type": "code",
      "execution_count": null,
      "metadata": {
        "colab": {
          "base_uri": "https://localhost:8080/"
        },
        "id": "0wHVk-Q3aHh7",
        "outputId": "4b877235-99ed-4414-921b-e96d36cab5c4"
      },
      "outputs": [
        {
          "output_type": "execute_result",
          "data": {
            "text/plain": [
              "USA                9243\n",
              "Unknown            8593\n",
              "England            1547\n",
              "India               963\n",
              "London              676\n",
              "United Kingdom      653\n",
              "Canada              554\n",
              "United States       544\n",
              "Australia           484\n",
              "Ontario             349\n",
              "Nigeria             283\n",
              "South Africa        255\n",
              "Ireland             172\n",
              "New York            172\n",
              "Scotland            170\n",
              "Texas               167\n",
              "New Zealand         163\n",
              "Global              160\n",
              "Kenya               141\n",
              "Pakistan            138\n",
              "California          137\n",
              "Los Angeles         113\n",
              "Florida             105\n",
              "Worldwide           102\n",
              "Toronto              97\n",
              "Germany              97\n",
              "France               93\n",
              "Singapore            91\n",
              "New South Wales      90\n",
              "New York City        88\n",
              "Name: Country, dtype: int64"
            ]
          },
          "metadata": {},
          "execution_count": 25
        }
      ],
      "source": [
        "df['Country'].value_counts().head(30)"
      ]
    },
    {
      "cell_type": "code",
      "execution_count": null,
      "metadata": {
        "id": "QwxuoHwXaM4P"
      },
      "outputs": [],
      "source": [
        "df['Country']= df.Country.apply(lambda x: 'USA' if x.lower().strip() \\\n",
        "                                in ('united states,us,north carolina ,usa,new york,boston,washington dc,arizona,chicago,ottawa,alabama,michigan,new york city,colorado,houston,indiana,nyc,seattle,california,texas,oregon,los angeles,florida,d.c.,san francisco,new jersey,ohio,illinois') else x)\n",
        "df['Country']= df.Country.apply(lambda x: 'India' if x.lower().strip() in ('india,gujarat,mumbai,chennai, new delhi,bangalore,hyderabad') else x)\n",
        "df['Country']= df.Country.apply(lambda x: 'UK' if x.lower().strip() in ('united kingdom, london') else x)\n",
        "df['Country']= df.Country.apply(lambda x: 'Canada' if x.lower().strip() in ('ontario,toronto,victoria,british columbia,alberta') else x)\n",
        "df['Country']= df.Country.apply(lambda x: 'Australia' if x.lower().strip() in ('australia, new south wales,sydney,melbourne,queensland,south australia') else x)\n",
        "df['Country']= df.Country.apply(lambda x: 'UAE' if x.lower().strip() in ('dubai,united arab emirates,qatar') else x)\n",
        "df['Country']= df.Country.apply(lambda x: 'Unknown' if x.lower().strip() \\\n",
        "                                in ('????,??????,worldwide,global,planet earth,everywhere,under the goldy fish,middlesbrough,yo mama house') else x)\n",
        "df['Country']= df.Country.apply(lambda x: 'Germany' if x.lower().strip() in ('deutschland') else x)\n",
        "df['Country']= df.Country.apply(lambda x: 'South Africa' if x.lower().strip() in ('johannesburg') else x)\n",
        "df['Country']= df.Country.apply(lambda x: 'Nigeria' if x.lower().strip() in ('lagos') else x)"
      ]
    },
    {
      "cell_type": "code",
      "execution_count": null,
      "metadata": {
        "colab": {
          "base_uri": "https://localhost:8080/"
        },
        "id": "Fcydcdf6cDhl",
        "outputId": "eb9bd9da-20f3-4687-b688-d8f97cfa9386"
      },
      "outputs": [
        {
          "output_type": "execute_result",
          "data": {
            "text/plain": [
              "USA                             12552\n",
              "Unknown                          9225\n",
              "England                          1547\n",
              "UK                               1375\n",
              "Canada                           1256\n",
              "                                ...  \n",
              "In the hearts and minds             1\n",
              "A burgundy southern state           1\n",
              "Blighty                             1\n",
              "Taured                              1\n",
              "i love you so much || he/him        1\n",
              "Name: Country, Length: 7002, dtype: int64"
            ]
          },
          "metadata": {},
          "execution_count": 27
        }
      ],
      "source": [
        "df['Country'].value_counts()"
      ]
    },
    {
      "cell_type": "code",
      "execution_count": null,
      "metadata": {
        "colab": {
          "base_uri": "https://localhost:8080/"
        },
        "id": "X7eC0XcgcJML",
        "outputId": "cb9ec4dd-5e7c-4ed5-ee81-d6ec6d1aba6e"
      },
      "outputs": [
        {
          "output_type": "execute_result",
          "data": {
            "text/plain": [
              "Unknown                          8593\n",
              "London                           1251\n",
              "New York                          709\n",
              "United States                     530\n",
              "Washington                        504\n",
              "                                 ... \n",
              "Harrisburg PA for now               1\n",
              "Jammu &Kashmir UnionTerritory       1\n",
              "Reseda                              1\n",
              "Mid Yell                            1\n",
              "i love you so much || he/him        1\n",
              "Name: City, Length: 9725, dtype: int64"
            ]
          },
          "metadata": {},
          "execution_count": 28
        }
      ],
      "source": [
        "df['City'].value_counts()"
      ]
    },
    {
      "cell_type": "code",
      "execution_count": null,
      "metadata": {
        "id": "Ee2H_6ioo8y9"
      },
      "outputs": [],
      "source": [
        "# Removing countries from city column\n",
        "df[\"City\"] = df.City.apply(lambda x: 'Unknown' if x.lower() in \\\n",
        "                                   ['india', 'united states', 'united kingdom', 'uk', 'usa', 'us','canada','australia','uae','england','global'] \\\n",
        "                                   else x)"
      ]
    },
    {
      "cell_type": "code",
      "execution_count": null,
      "metadata": {
        "colab": {
          "base_uri": "https://localhost:8080/"
        },
        "id": "mNXV00W3ym8P",
        "outputId": "bb5bcb8b-30a5-47e5-e4f3-893b8f84dd9a"
      },
      "outputs": [
        {
          "output_type": "execute_result",
          "data": {
            "text/plain": [
              "Unknown                          11142\n",
              "London                            1251\n",
              "New York                           709\n",
              "Washington                         504\n",
              "Los Angeles                        414\n",
              "                                 ...  \n",
              "Harrisburg PA for now                1\n",
              "Jammu &Kashmir UnionTerritory        1\n",
              "Reseda                               1\n",
              "Mid Yell                             1\n",
              "i love you so much || he/him         1\n",
              "Name: City, Length: 9700, dtype: int64"
            ]
          },
          "metadata": {},
          "execution_count": 30
        }
      ],
      "source": [
        "df['City'].value_counts()"
      ]
    },
    {
      "cell_type": "code",
      "execution_count": null,
      "metadata": {
        "colab": {
          "base_uri": "https://localhost:8080/",
          "height": 423
        },
        "id": "3xIp4JLL3Nfh",
        "outputId": "58ec34b8-24a1-4cd0-a059-4952c35a1492"
      },
      "outputs": [
        {
          "output_type": "execute_result",
          "data": {
            "text/plain": [
              "       UserName  ScreenName                      Location    TweetAt  \\\n",
              "0          3799       48751                        London 2020-03-16   \n",
              "1          3800       48752                            UK 2020-03-16   \n",
              "2          3801       48753                     Vagabonds 2020-03-16   \n",
              "5          3804       48756     ÃT: 36.319708,-82.363649 2020-03-16   \n",
              "6          3805       48757          35.926541,-78.753267 2020-03-16   \n",
              "...         ...         ...                           ...        ...   \n",
              "41147     44946       89898                  Brooklyn, NY 2020-04-14   \n",
              "41149     44948       89900              Toronto, Ontario 2020-04-14   \n",
              "41150     44949       89901                          OHIO 2020-04-14   \n",
              "41152     44951       89903  Wellington City, New Zealand 2020-04-14   \n",
              "41156     44955       89907  i love you so much || he/him 2020-04-14   \n",
              "\n",
              "                                           OriginalTweet Sentiment  \\\n",
              "0      @MeNyrbie @Phil_Gahan @Chrisitv https://t.co/i...   Neutral   \n",
              "1      advice Talk to your neighbours family to excha...  Positive   \n",
              "2      Coronavirus Australia: Woolworths to give elde...  Positive   \n",
              "5      As news of the regionÂs first confirmed COVID...  Positive   \n",
              "6      Cashier at grocery store was sharing his insig...  Positive   \n",
              "...                                                  ...       ...   \n",
              "41147  YÂall really shitting that much more at home?...  Negative   \n",
              "41149  Still shocked by the number of #Toronto superm...  Negative   \n",
              "41150  I never that weÂd be in a situation &amp; wor...  Positive   \n",
              "41152  Airline pilots offering to stock supermarket s...   Neutral   \n",
              "41156  @TartiiCat Well new/used Rift S are going for ...  Negative   \n",
              "\n",
              "                            Country                          City  \n",
              "0                                UK                        London  \n",
              "1                               USA                       Unknown  \n",
              "2                         Vagabonds                     Vagabonds  \n",
              "5                        -82.363649                ÃT: 36.319708  \n",
              "6                        -78.753267                     35.926541  \n",
              "...                             ...                           ...  \n",
              "41147                           USA                      Brooklyn  \n",
              "41149                        Canada                       Toronto  \n",
              "41150                           USA                          OHIO  \n",
              "41152                   New Zealand               Wellington City  \n",
              "41156  i love you so much || he/him  i love you so much || he/him  \n",
              "\n",
              "[31932 rows x 8 columns]"
            ],
            "text/html": [
              "\n",
              "  <div id=\"df-be280854-4d3a-4d51-b568-39a1d917b113\">\n",
              "    <div class=\"colab-df-container\">\n",
              "      <div>\n",
              "<style scoped>\n",
              "    .dataframe tbody tr th:only-of-type {\n",
              "        vertical-align: middle;\n",
              "    }\n",
              "\n",
              "    .dataframe tbody tr th {\n",
              "        vertical-align: top;\n",
              "    }\n",
              "\n",
              "    .dataframe thead th {\n",
              "        text-align: right;\n",
              "    }\n",
              "</style>\n",
              "<table border=\"1\" class=\"dataframe\">\n",
              "  <thead>\n",
              "    <tr style=\"text-align: right;\">\n",
              "      <th></th>\n",
              "      <th>UserName</th>\n",
              "      <th>ScreenName</th>\n",
              "      <th>Location</th>\n",
              "      <th>TweetAt</th>\n",
              "      <th>OriginalTweet</th>\n",
              "      <th>Sentiment</th>\n",
              "      <th>Country</th>\n",
              "      <th>City</th>\n",
              "    </tr>\n",
              "  </thead>\n",
              "  <tbody>\n",
              "    <tr>\n",
              "      <th>0</th>\n",
              "      <td>3799</td>\n",
              "      <td>48751</td>\n",
              "      <td>London</td>\n",
              "      <td>2020-03-16</td>\n",
              "      <td>@MeNyrbie @Phil_Gahan @Chrisitv https://t.co/i...</td>\n",
              "      <td>Neutral</td>\n",
              "      <td>UK</td>\n",
              "      <td>London</td>\n",
              "    </tr>\n",
              "    <tr>\n",
              "      <th>1</th>\n",
              "      <td>3800</td>\n",
              "      <td>48752</td>\n",
              "      <td>UK</td>\n",
              "      <td>2020-03-16</td>\n",
              "      <td>advice Talk to your neighbours family to excha...</td>\n",
              "      <td>Positive</td>\n",
              "      <td>USA</td>\n",
              "      <td>Unknown</td>\n",
              "    </tr>\n",
              "    <tr>\n",
              "      <th>2</th>\n",
              "      <td>3801</td>\n",
              "      <td>48753</td>\n",
              "      <td>Vagabonds</td>\n",
              "      <td>2020-03-16</td>\n",
              "      <td>Coronavirus Australia: Woolworths to give elde...</td>\n",
              "      <td>Positive</td>\n",
              "      <td>Vagabonds</td>\n",
              "      <td>Vagabonds</td>\n",
              "    </tr>\n",
              "    <tr>\n",
              "      <th>5</th>\n",
              "      <td>3804</td>\n",
              "      <td>48756</td>\n",
              "      <td>ÃT: 36.319708,-82.363649</td>\n",
              "      <td>2020-03-16</td>\n",
              "      <td>As news of the regionÂs first confirmed COVID...</td>\n",
              "      <td>Positive</td>\n",
              "      <td>-82.363649</td>\n",
              "      <td>ÃT: 36.319708</td>\n",
              "    </tr>\n",
              "    <tr>\n",
              "      <th>6</th>\n",
              "      <td>3805</td>\n",
              "      <td>48757</td>\n",
              "      <td>35.926541,-78.753267</td>\n",
              "      <td>2020-03-16</td>\n",
              "      <td>Cashier at grocery store was sharing his insig...</td>\n",
              "      <td>Positive</td>\n",
              "      <td>-78.753267</td>\n",
              "      <td>35.926541</td>\n",
              "    </tr>\n",
              "    <tr>\n",
              "      <th>...</th>\n",
              "      <td>...</td>\n",
              "      <td>...</td>\n",
              "      <td>...</td>\n",
              "      <td>...</td>\n",
              "      <td>...</td>\n",
              "      <td>...</td>\n",
              "      <td>...</td>\n",
              "      <td>...</td>\n",
              "    </tr>\n",
              "    <tr>\n",
              "      <th>41147</th>\n",
              "      <td>44946</td>\n",
              "      <td>89898</td>\n",
              "      <td>Brooklyn, NY</td>\n",
              "      <td>2020-04-14</td>\n",
              "      <td>YÂall really shitting that much more at home?...</td>\n",
              "      <td>Negative</td>\n",
              "      <td>USA</td>\n",
              "      <td>Brooklyn</td>\n",
              "    </tr>\n",
              "    <tr>\n",
              "      <th>41149</th>\n",
              "      <td>44948</td>\n",
              "      <td>89900</td>\n",
              "      <td>Toronto, Ontario</td>\n",
              "      <td>2020-04-14</td>\n",
              "      <td>Still shocked by the number of #Toronto superm...</td>\n",
              "      <td>Negative</td>\n",
              "      <td>Canada</td>\n",
              "      <td>Toronto</td>\n",
              "    </tr>\n",
              "    <tr>\n",
              "      <th>41150</th>\n",
              "      <td>44949</td>\n",
              "      <td>89901</td>\n",
              "      <td>OHIO</td>\n",
              "      <td>2020-04-14</td>\n",
              "      <td>I never that weÂd be in a situation &amp;amp; wor...</td>\n",
              "      <td>Positive</td>\n",
              "      <td>USA</td>\n",
              "      <td>OHIO</td>\n",
              "    </tr>\n",
              "    <tr>\n",
              "      <th>41152</th>\n",
              "      <td>44951</td>\n",
              "      <td>89903</td>\n",
              "      <td>Wellington City, New Zealand</td>\n",
              "      <td>2020-04-14</td>\n",
              "      <td>Airline pilots offering to stock supermarket s...</td>\n",
              "      <td>Neutral</td>\n",
              "      <td>New Zealand</td>\n",
              "      <td>Wellington City</td>\n",
              "    </tr>\n",
              "    <tr>\n",
              "      <th>41156</th>\n",
              "      <td>44955</td>\n",
              "      <td>89907</td>\n",
              "      <td>i love you so much || he/him</td>\n",
              "      <td>2020-04-14</td>\n",
              "      <td>@TartiiCat Well new/used Rift S are going for ...</td>\n",
              "      <td>Negative</td>\n",
              "      <td>i love you so much || he/him</td>\n",
              "      <td>i love you so much || he/him</td>\n",
              "    </tr>\n",
              "  </tbody>\n",
              "</table>\n",
              "<p>31932 rows × 8 columns</p>\n",
              "</div>\n",
              "      <button class=\"colab-df-convert\" onclick=\"convertToInteractive('df-be280854-4d3a-4d51-b568-39a1d917b113')\"\n",
              "              title=\"Convert this dataframe to an interactive table.\"\n",
              "              style=\"display:none;\">\n",
              "        \n",
              "  <svg xmlns=\"http://www.w3.org/2000/svg\" height=\"24px\"viewBox=\"0 0 24 24\"\n",
              "       width=\"24px\">\n",
              "    <path d=\"M0 0h24v24H0V0z\" fill=\"none\"/>\n",
              "    <path d=\"M18.56 5.44l.94 2.06.94-2.06 2.06-.94-2.06-.94-.94-2.06-.94 2.06-2.06.94zm-11 1L8.5 8.5l.94-2.06 2.06-.94-2.06-.94L8.5 2.5l-.94 2.06-2.06.94zm10 10l.94 2.06.94-2.06 2.06-.94-2.06-.94-.94-2.06-.94 2.06-2.06.94z\"/><path d=\"M17.41 7.96l-1.37-1.37c-.4-.4-.92-.59-1.43-.59-.52 0-1.04.2-1.43.59L10.3 9.45l-7.72 7.72c-.78.78-.78 2.05 0 2.83L4 21.41c.39.39.9.59 1.41.59.51 0 1.02-.2 1.41-.59l7.78-7.78 2.81-2.81c.8-.78.8-2.07 0-2.86zM5.41 20L4 18.59l7.72-7.72 1.47 1.35L5.41 20z\"/>\n",
              "  </svg>\n",
              "      </button>\n",
              "      \n",
              "  <style>\n",
              "    .colab-df-container {\n",
              "      display:flex;\n",
              "      flex-wrap:wrap;\n",
              "      gap: 12px;\n",
              "    }\n",
              "\n",
              "    .colab-df-convert {\n",
              "      background-color: #E8F0FE;\n",
              "      border: none;\n",
              "      border-radius: 50%;\n",
              "      cursor: pointer;\n",
              "      display: none;\n",
              "      fill: #1967D2;\n",
              "      height: 32px;\n",
              "      padding: 0 0 0 0;\n",
              "      width: 32px;\n",
              "    }\n",
              "\n",
              "    .colab-df-convert:hover {\n",
              "      background-color: #E2EBFA;\n",
              "      box-shadow: 0px 1px 2px rgba(60, 64, 67, 0.3), 0px 1px 3px 1px rgba(60, 64, 67, 0.15);\n",
              "      fill: #174EA6;\n",
              "    }\n",
              "\n",
              "    [theme=dark] .colab-df-convert {\n",
              "      background-color: #3B4455;\n",
              "      fill: #D2E3FC;\n",
              "    }\n",
              "\n",
              "    [theme=dark] .colab-df-convert:hover {\n",
              "      background-color: #434B5C;\n",
              "      box-shadow: 0px 1px 3px 1px rgba(0, 0, 0, 0.15);\n",
              "      filter: drop-shadow(0px 1px 2px rgba(0, 0, 0, 0.3));\n",
              "      fill: #FFFFFF;\n",
              "    }\n",
              "  </style>\n",
              "\n",
              "      <script>\n",
              "        const buttonEl =\n",
              "          document.querySelector('#df-be280854-4d3a-4d51-b568-39a1d917b113 button.colab-df-convert');\n",
              "        buttonEl.style.display =\n",
              "          google.colab.kernel.accessAllowed ? 'block' : 'none';\n",
              "\n",
              "        async function convertToInteractive(key) {\n",
              "          const element = document.querySelector('#df-be280854-4d3a-4d51-b568-39a1d917b113');\n",
              "          const dataTable =\n",
              "            await google.colab.kernel.invokeFunction('convertToInteractive',\n",
              "                                                     [key], {});\n",
              "          if (!dataTable) return;\n",
              "\n",
              "          const docLinkHtml = 'Like what you see? Visit the ' +\n",
              "            '<a target=\"_blank\" href=https://colab.research.google.com/notebooks/data_table.ipynb>data table notebook</a>'\n",
              "            + ' to learn more about interactive tables.';\n",
              "          element.innerHTML = '';\n",
              "          dataTable['output_type'] = 'display_data';\n",
              "          await google.colab.output.renderOutput(dataTable, element);\n",
              "          const docLink = document.createElement('div');\n",
              "          docLink.innerHTML = docLinkHtml;\n",
              "          element.appendChild(docLink);\n",
              "        }\n",
              "      </script>\n",
              "    </div>\n",
              "  </div>\n",
              "  "
            ]
          },
          "metadata": {},
          "execution_count": 31
        }
      ],
      "source": [
        "df2 = df[df['Country']!= 'Unknown']\n",
        "df2"
      ]
    },
    {
      "cell_type": "code",
      "execution_count": null,
      "metadata": {
        "colab": {
          "base_uri": "https://localhost:8080/"
        },
        "id": "7m86amMq5qAM",
        "outputId": "a5799061-a81c-4e06-9ddd-7ecfe4059ae3"
      },
      "outputs": [
        {
          "output_type": "execute_result",
          "data": {
            "text/plain": [
              "USA                             12552\n",
              "England                          1547\n",
              "UK                               1375\n",
              "Canada                           1256\n",
              "Australia                         862\n",
              "                                ...  \n",
              "In the hearts and minds             1\n",
              "A burgundy southern state           1\n",
              "Blighty                             1\n",
              "Taured                              1\n",
              "i love you so much || he/him        1\n",
              "Name: Country, Length: 7001, dtype: int64"
            ]
          },
          "metadata": {},
          "execution_count": 32
        }
      ],
      "source": [
        "df2['Country'].value_counts()"
      ]
    },
    {
      "cell_type": "code",
      "execution_count": null,
      "metadata": {
        "id": "KkCpPbzL5wNc"
      },
      "outputs": [],
      "source": [
        "top100_countries = df2.Country.value_counts(sort=True, ascending=False)[0:25]\n",
        "top100_countries = pd.DataFrame(top100_countries)\n",
        "    \n",
        "top100_cities= df.City.value_counts(sort=True, ascending=False)[1:26]\n",
        "top100_cities = pd.DataFrame(top100_cities)"
      ]
    },
    {
      "cell_type": "code",
      "execution_count": null,
      "metadata": {
        "colab": {
          "base_uri": "https://localhost:8080/",
          "height": 430
        },
        "id": "8YVramFU6NDS",
        "outputId": "1ef3d95b-3789-4d75-8e78-c67d2eac3d88"
      },
      "outputs": [
        {
          "output_type": "display_data",
          "data": {
            "text/plain": [
              "<Figure size 1008x432 with 1 Axes>"
            ],
            "image/png": "[encoded data removed]"
          },
          "metadata": {
            "needs_background": "light"
          }
        }
      ],
      "source": [
        "plt.figure(figsize=(14,6))\n",
        "plt.bar(top100_countries.index,top100_countries.Country)\n",
        "plt.xticks(rotation=90)\n",
        "plt.show()"
      ]
    },
    {
      "cell_type": "code",
      "execution_count": null,
      "metadata": {
        "colab": {
          "base_uri": "https://localhost:8080/",
          "height": 433
        },
        "id": "ei-vk6aa6xIe",
        "outputId": "e9c008c0-f27b-4069-edd0-19a56c7b9534"
      },
      "outputs": [
        {
          "output_type": "display_data",
          "data": {
            "text/plain": [
              "<Figure size 1008x432 with 1 Axes>"
            ],
            "image/png": "[encoded data removed]"
          },
          "metadata": {
            "needs_background": "light"
          }
        }
      ],
      "source": [
        "plt.figure(figsize=(14,6))\n",
        "plt.bar(top100_cities.index,top100_cities.City)\n",
        "plt.xticks(rotation=90)\n",
        "plt.show()"
      ]
    },
    {
      "cell_type": "code",
      "execution_count": null,
      "metadata": {
        "colab": {
          "base_uri": "https://localhost:8080/",
          "height": 351
        },
        "id": "qQF_-JElUSns",
        "outputId": "22507fbe-506c-492c-a8e7-1620ae548718"
      },
      "outputs": [
        {
          "output_type": "display_data",
          "data": {
            "text/plain": [
              "<Figure size 1080x360 with 1 Axes>"
            ],
            "image/png": "[encoded data removed]"
          },
          "metadata": {
            "needs_background": "light"
          }
        }
      ],
      "source": [
        "daily_tweets = df.groupby(['TweetAt'])['OriginalTweet'].count()\n",
        "\n",
        "fig= plt.figure(figsize=(15,5))\n",
        "plt.plot(daily_tweets.index, daily_tweets.values)\n",
        "plt.title('Day wise tweets trend',fontsize=14)\n",
        "plt.xlabel('Date')\n",
        "plt.ylabel('num_of_tweets')\n",
        "plt.show()"
      ]
    },
    {
      "cell_type": "code",
      "execution_count": null,
      "metadata": {
        "colab": {
          "base_uri": "https://localhost:8080/",
          "height": 206
        },
        "id": "6M8k94l3WGuN",
        "outputId": "8b8c5e40-2993-4e5a-ba35-36b84028c6b6"
      },
      "outputs": [
        {
          "output_type": "execute_result",
          "data": {
            "text/plain": [
              "   UserName  ScreenName   Location    TweetAt  \\\n",
              "0      3799       48751     London 2020-03-16   \n",
              "1      3800       48752         UK 2020-03-16   \n",
              "2      3801       48753  Vagabonds 2020-03-16   \n",
              "3      3802       48754    Unknown 2020-03-16   \n",
              "4      3803       48755    Unknown 2020-03-16   \n",
              "\n",
              "                                       OriginalTweet           Sentiment  \\\n",
              "0  @MeNyrbie @Phil_Gahan @Chrisitv https://t.co/i...             Neutral   \n",
              "1  advice Talk to your neighbours family to excha...            Positive   \n",
              "2  Coronavirus Australia: Woolworths to give elde...            Positive   \n",
              "3  My food stock is not the only one which is emp...            Positive   \n",
              "4  Me, ready to go at supermarket during the #COV...  Extremely Negative   \n",
              "\n",
              "     Country       City  \n",
              "0         UK     London  \n",
              "1        USA    Unknown  \n",
              "2  Vagabonds  Vagabonds  \n",
              "3    Unknown    Unknown  \n",
              "4    Unknown    Unknown  "
            ],
            "text/html": [
              "\n",
              "  <div id=\"df-58734d52-ec31-4e6d-828d-6992dc8663e2\">\n",
              "    <div class=\"colab-df-container\">\n",
              "      <div>\n",
              "<style scoped>\n",
              "    .dataframe tbody tr th:only-of-type {\n",
              "        vertical-align: middle;\n",
              "    }\n",
              "\n",
              "    .dataframe tbody tr th {\n",
              "        vertical-align: top;\n",
              "    }\n",
              "\n",
              "    .dataframe thead th {\n",
              "        text-align: right;\n",
              "    }\n",
              "</style>\n",
              "<table border=\"1\" class=\"dataframe\">\n",
              "  <thead>\n",
              "    <tr style=\"text-align: right;\">\n",
              "      <th></th>\n",
              "      <th>UserName</th>\n",
              "      <th>ScreenName</th>\n",
              "      <th>Location</th>\n",
              "      <th>TweetAt</th>\n",
              "      <th>OriginalTweet</th>\n",
              "      <th>Sentiment</th>\n",
              "      <th>Country</th>\n",
              "      <th>City</th>\n",
              "    </tr>\n",
              "  </thead>\n",
              "  <tbody>\n",
              "    <tr>\n",
              "      <th>0</th>\n",
              "      <td>3799</td>\n",
              "      <td>48751</td>\n",
              "      <td>London</td>\n",
              "      <td>2020-03-16</td>\n",
              "      <td>@MeNyrbie @Phil_Gahan @Chrisitv https://t.co/i...</td>\n",
              "      <td>Neutral</td>\n",
              "      <td>UK</td>\n",
              "      <td>London</td>\n",
              "    </tr>\n",
              "    <tr>\n",
              "      <th>1</th>\n",
              "      <td>3800</td>\n",
              "      <td>48752</td>\n",
              "      <td>UK</td>\n",
              "      <td>2020-03-16</td>\n",
              "      <td>advice Talk to your neighbours family to excha...</td>\n",
              "      <td>Positive</td>\n",
              "      <td>USA</td>\n",
              "      <td>Unknown</td>\n",
              "    </tr>\n",
              "    <tr>\n",
              "      <th>2</th>\n",
              "      <td>3801</td>\n",
              "      <td>48753</td>\n",
              "      <td>Vagabonds</td>\n",
              "      <td>2020-03-16</td>\n",
              "      <td>Coronavirus Australia: Woolworths to give elde...</td>\n",
              "      <td>Positive</td>\n",
              "      <td>Vagabonds</td>\n",
              "      <td>Vagabonds</td>\n",
              "    </tr>\n",
              "    <tr>\n",
              "      <th>3</th>\n",
              "      <td>3802</td>\n",
              "      <td>48754</td>\n",
              "      <td>Unknown</td>\n",
              "      <td>2020-03-16</td>\n",
              "      <td>My food stock is not the only one which is emp...</td>\n",
              "      <td>Positive</td>\n",
              "      <td>Unknown</td>\n",
              "      <td>Unknown</td>\n",
              "    </tr>\n",
              "    <tr>\n",
              "      <th>4</th>\n",
              "      <td>3803</td>\n",
              "      <td>48755</td>\n",
              "      <td>Unknown</td>\n",
              "      <td>2020-03-16</td>\n",
              "      <td>Me, ready to go at supermarket during the #COV...</td>\n",
              "      <td>Extremely Negative</td>\n",
              "      <td>Unknown</td>\n",
              "      <td>Unknown</td>\n",
              "    </tr>\n",
              "  </tbody>\n",
              "</table>\n",
              "</div>\n",
              "      <button class=\"colab-df-convert\" onclick=\"convertToInteractive('df-58734d52-ec31-4e6d-828d-6992dc8663e2')\"\n",
              "              title=\"Convert this dataframe to an interactive table.\"\n",
              "              style=\"display:none;\">\n",
              "        \n",
              "  <svg xmlns=\"http://www.w3.org/2000/svg\" height=\"24px\"viewBox=\"0 0 24 24\"\n",
              "       width=\"24px\">\n",
              "    <path d=\"M0 0h24v24H0V0z\" fill=\"none\"/>\n",
              "    <path d=\"M18.56 5.44l.94 2.06.94-2.06 2.06-.94-2.06-.94-.94-2.06-.94 2.06-2.06.94zm-11 1L8.5 8.5l.94-2.06 2.06-.94-2.06-.94L8.5 2.5l-.94 2.06-2.06.94zm10 10l.94 2.06.94-2.06 2.06-.94-2.06-.94-.94-2.06-.94 2.06-2.06.94z\"/><path d=\"M17.41 7.96l-1.37-1.37c-.4-.4-.92-.59-1.43-.59-.52 0-1.04.2-1.43.59L10.3 9.45l-7.72 7.72c-.78.78-.78 2.05 0 2.83L4 21.41c.39.39.9.59 1.41.59.51 0 1.02-.2 1.41-.59l7.78-7.78 2.81-2.81c.8-.78.8-2.07 0-2.86zM5.41 20L4 18.59l7.72-7.72 1.47 1.35L5.41 20z\"/>\n",
              "  </svg>\n",
              "      </button>\n",
              "      \n",
              "  <style>\n",
              "    .colab-df-container {\n",
              "      display:flex;\n",
              "      flex-wrap:wrap;\n",
              "      gap: 12px;\n",
              "    }\n",
              "\n",
              "    .colab-df-convert {\n",
              "      background-color: #E8F0FE;\n",
              "      border: none;\n",
              "      border-radius: 50%;\n",
              "      cursor: pointer;\n",
              "      display: none;\n",
              "      fill: #1967D2;\n",
              "      height: 32px;\n",
              "      padding: 0 0 0 0;\n",
              "      width: 32px;\n",
              "    }\n",
              "\n",
              "    .colab-df-convert:hover {\n",
              "      background-color: #E2EBFA;\n",
              "      box-shadow: 0px 1px 2px rgba(60, 64, 67, 0.3), 0px 1px 3px 1px rgba(60, 64, 67, 0.15);\n",
              "      fill: #174EA6;\n",
              "    }\n",
              "\n",
              "    [theme=dark] .colab-df-convert {\n",
              "      background-color: #3B4455;\n",
              "      fill: #D2E3FC;\n",
              "    }\n",
              "\n",
              "    [theme=dark] .colab-df-convert:hover {\n",
              "      background-color: #434B5C;\n",
              "      box-shadow: 0px 1px 3px 1px rgba(0, 0, 0, 0.15);\n",
              "      filter: drop-shadow(0px 1px 2px rgba(0, 0, 0, 0.3));\n",
              "      fill: #FFFFFF;\n",
              "    }\n",
              "  </style>\n",
              "\n",
              "      <script>\n",
              "        const buttonEl =\n",
              "          document.querySelector('#df-58734d52-ec31-4e6d-828d-6992dc8663e2 button.colab-df-convert');\n",
              "        buttonEl.style.display =\n",
              "          google.colab.kernel.accessAllowed ? 'block' : 'none';\n",
              "\n",
              "        async function convertToInteractive(key) {\n",
              "          const element = document.querySelector('#df-58734d52-ec31-4e6d-828d-6992dc8663e2');\n",
              "          const dataTable =\n",
              "            await google.colab.kernel.invokeFunction('convertToInteractive',\n",
              "                                                     [key], {});\n",
              "          if (!dataTable) return;\n",
              "\n",
              "          const docLinkHtml = 'Like what you see? Visit the ' +\n",
              "            '<a target=\"_blank\" href=https://colab.research.google.com/notebooks/data_table.ipynb>data table notebook</a>'\n",
              "            + ' to learn more about interactive tables.';\n",
              "          element.innerHTML = '';\n",
              "          dataTable['output_type'] = 'display_data';\n",
              "          await google.colab.output.renderOutput(dataTable, element);\n",
              "          const docLink = document.createElement('div');\n",
              "          docLink.innerHTML = docLinkHtml;\n",
              "          element.appendChild(docLink);\n",
              "        }\n",
              "      </script>\n",
              "    </div>\n",
              "  </div>\n",
              "  "
            ]
          },
          "metadata": {},
          "execution_count": 37
        }
      ],
      "source": [
        "df.head()"
      ]
    },
    {
      "cell_type": "code",
      "execution_count": null,
      "metadata": {
        "id": "tMBakO4SWJI6"
      },
      "outputs": [],
      "source": [
        "df[\"Year\"] = df[\"TweetAt\"].dt.year\n",
        "df[\"month\"] = df[\"TweetAt\"].dt.month\n",
        "df[\"day\"] = df[\"TweetAt\"].dt.day\n",
        "df[\"dayname\"] = df[\"TweetAt\"].dt.day_name()"
      ]
    },
    {
      "cell_type": "code",
      "execution_count": null,
      "metadata": {
        "colab": {
          "base_uri": "https://localhost:8080/",
          "height": 206
        },
        "id": "iALEn8MlXSPJ",
        "outputId": "a5fae1b4-8105-4835-be25-545446b2683e"
      },
      "outputs": [
        {
          "output_type": "execute_result",
          "data": {
            "text/plain": [
              "   UserName  ScreenName   Location    TweetAt  \\\n",
              "0      3799       48751     London 2020-03-16   \n",
              "1      3800       48752         UK 2020-03-16   \n",
              "2      3801       48753  Vagabonds 2020-03-16   \n",
              "3      3802       48754    Unknown 2020-03-16   \n",
              "4      3803       48755    Unknown 2020-03-16   \n",
              "\n",
              "                                       OriginalTweet           Sentiment  \\\n",
              "0  @MeNyrbie @Phil_Gahan @Chrisitv https://t.co/i...             Neutral   \n",
              "1  advice Talk to your neighbours family to excha...            Positive   \n",
              "2  Coronavirus Australia: Woolworths to give elde...            Positive   \n",
              "3  My food stock is not the only one which is emp...            Positive   \n",
              "4  Me, ready to go at supermarket during the #COV...  Extremely Negative   \n",
              "\n",
              "     Country       City  Year  month  day dayname  \n",
              "0         UK     London  2020      3   16  Monday  \n",
              "1        USA    Unknown  2020      3   16  Monday  \n",
              "2  Vagabonds  Vagabonds  2020      3   16  Monday  \n",
              "3    Unknown    Unknown  2020      3   16  Monday  \n",
              "4    Unknown    Unknown  2020      3   16  Monday  "
            ],
            "text/html": [
              "\n",
              "  <div id=\"df-5a30f394-a035-4637-9a75-96b0d3b13503\">\n",
              "    <div class=\"colab-df-container\">\n",
              "      <div>\n",
              "<style scoped>\n",
              "    .dataframe tbody tr th:only-of-type {\n",
              "        vertical-align: middle;\n",
              "    }\n",
              "\n",
              "    .dataframe tbody tr th {\n",
              "        vertical-align: top;\n",
              "    }\n",
              "\n",
              "    .dataframe thead th {\n",
              "        text-align: right;\n",
              "    }\n",
              "</style>\n",
              "<table border=\"1\" class=\"dataframe\">\n",
              "  <thead>\n",
              "    <tr style=\"text-align: right;\">\n",
              "      <th></th>\n",
              "      <th>UserName</th>\n",
              "      <th>ScreenName</th>\n",
              "      <th>Location</th>\n",
              "      <th>TweetAt</th>\n",
              "      <th>OriginalTweet</th>\n",
              "      <th>Sentiment</th>\n",
              "      <th>Country</th>\n",
              "      <th>City</th>\n",
              "      <th>Year</th>\n",
              "      <th>month</th>\n",
              "      <th>day</th>\n",
              "      <th>dayname</th>\n",
              "    </tr>\n",
              "  </thead>\n",
              "  <tbody>\n",
              "    <tr>\n",
              "      <th>0</th>\n",
              "      <td>3799</td>\n",
              "      <td>48751</td>\n",
              "      <td>London</td>\n",
              "      <td>2020-03-16</td>\n",
              "      <td>@MeNyrbie @Phil_Gahan @Chrisitv https://t.co/i...</td>\n",
              "      <td>Neutral</td>\n",
              "      <td>UK</td>\n",
              "      <td>London</td>\n",
              "      <td>2020</td>\n",
              "      <td>3</td>\n",
              "      <td>16</td>\n",
              "      <td>Monday</td>\n",
              "    </tr>\n",
              "    <tr>\n",
              "      <th>1</th>\n",
              "      <td>3800</td>\n",
              "      <td>48752</td>\n",
              "      <td>UK</td>\n",
              "      <td>2020-03-16</td>\n",
              "      <td>advice Talk to your neighbours family to excha...</td>\n",
              "      <td>Positive</td>\n",
              "      <td>USA</td>\n",
              "      <td>Unknown</td>\n",
              "      <td>2020</td>\n",
              "      <td>3</td>\n",
              "      <td>16</td>\n",
              "      <td>Monday</td>\n",
              "    </tr>\n",
              "    <tr>\n",
              "      <th>2</th>\n",
              "      <td>3801</td>\n",
              "      <td>48753</td>\n",
              "      <td>Vagabonds</td>\n",
              "      <td>2020-03-16</td>\n",
              "      <td>Coronavirus Australia: Woolworths to give elde...</td>\n",
              "      <td>Positive</td>\n",
              "      <td>Vagabonds</td>\n",
              "      <td>Vagabonds</td>\n",
              "      <td>2020</td>\n",
              "      <td>3</td>\n",
              "      <td>16</td>\n",
              "      <td>Monday</td>\n",
              "    </tr>\n",
              "    <tr>\n",
              "      <th>3</th>\n",
              "      <td>3802</td>\n",
              "      <td>48754</td>\n",
              "      <td>Unknown</td>\n",
              "      <td>2020-03-16</td>\n",
              "      <td>My food stock is not the only one which is emp...</td>\n",
              "      <td>Positive</td>\n",
              "      <td>Unknown</td>\n",
              "      <td>Unknown</td>\n",
              "      <td>2020</td>\n",
              "      <td>3</td>\n",
              "      <td>16</td>\n",
              "      <td>Monday</td>\n",
              "    </tr>\n",
              "    <tr>\n",
              "      <th>4</th>\n",
              "      <td>3803</td>\n",
              "      <td>48755</td>\n",
              "      <td>Unknown</td>\n",
              "      <td>2020-03-16</td>\n",
              "      <td>Me, ready to go at supermarket during the #COV...</td>\n",
              "      <td>Extremely Negative</td>\n",
              "      <td>Unknown</td>\n",
              "      <td>Unknown</td>\n",
              "      <td>2020</td>\n",
              "      <td>3</td>\n",
              "      <td>16</td>\n",
              "      <td>Monday</td>\n",
              "    </tr>\n",
              "  </tbody>\n",
              "</table>\n",
              "</div>\n",
              "      <button class=\"colab-df-convert\" onclick=\"convertToInteractive('df-5a30f394-a035-4637-9a75-96b0d3b13503')\"\n",
              "              title=\"Convert this dataframe to an interactive table.\"\n",
              "              style=\"display:none;\">\n",
              "        \n",
              "  <svg xmlns=\"http://www.w3.org/2000/svg\" height=\"24px\"viewBox=\"0 0 24 24\"\n",
              "       width=\"24px\">\n",
              "    <path d=\"M0 0h24v24H0V0z\" fill=\"none\"/>\n",
              "    <path d=\"M18.56 5.44l.94 2.06.94-2.06 2.06-.94-2.06-.94-.94-2.06-.94 2.06-2.06.94zm-11 1L8.5 8.5l.94-2.06 2.06-.94-2.06-.94L8.5 2.5l-.94 2.06-2.06.94zm10 10l.94 2.06.94-2.06 2.06-.94-2.06-.94-.94-2.06-.94 2.06-2.06.94z\"/><path d=\"M17.41 7.96l-1.37-1.37c-.4-.4-.92-.59-1.43-.59-.52 0-1.04.2-1.43.59L10.3 9.45l-7.72 7.72c-.78.78-.78 2.05 0 2.83L4 21.41c.39.39.9.59 1.41.59.51 0 1.02-.2 1.41-.59l7.78-7.78 2.81-2.81c.8-.78.8-2.07 0-2.86zM5.41 20L4 18.59l7.72-7.72 1.47 1.35L5.41 20z\"/>\n",
              "  </svg>\n",
              "      </button>\n",
              "      \n",
              "  <style>\n",
              "    .colab-df-container {\n",
              "      display:flex;\n",
              "      flex-wrap:wrap;\n",
              "      gap: 12px;\n",
              "    }\n",
              "\n",
              "    .colab-df-convert {\n",
              "      background-color: #E8F0FE;\n",
              "      border: none;\n",
              "      border-radius: 50%;\n",
              "      cursor: pointer;\n",
              "      display: none;\n",
              "      fill: #1967D2;\n",
              "      height: 32px;\n",
              "      padding: 0 0 0 0;\n",
              "      width: 32px;\n",
              "    }\n",
              "\n",
              "    .colab-df-convert:hover {\n",
              "      background-color: #E2EBFA;\n",
              "      box-shadow: 0px 1px 2px rgba(60, 64, 67, 0.3), 0px 1px 3px 1px rgba(60, 64, 67, 0.15);\n",
              "      fill: #174EA6;\n",
              "    }\n",
              "\n",
              "    [theme=dark] .colab-df-convert {\n",
              "      background-color: #3B4455;\n",
              "      fill: #D2E3FC;\n",
              "    }\n",
              "\n",
              "    [theme=dark] .colab-df-convert:hover {\n",
              "      background-color: #434B5C;\n",
              "      box-shadow: 0px 1px 3px 1px rgba(0, 0, 0, 0.15);\n",
              "      filter: drop-shadow(0px 1px 2px rgba(0, 0, 0, 0.3));\n",
              "      fill: #FFFFFF;\n",
              "    }\n",
              "  </style>\n",
              "\n",
              "      <script>\n",
              "        const buttonEl =\n",
              "          document.querySelector('#df-5a30f394-a035-4637-9a75-96b0d3b13503 button.colab-df-convert');\n",
              "        buttonEl.style.display =\n",
              "          google.colab.kernel.accessAllowed ? 'block' : 'none';\n",
              "\n",
              "        async function convertToInteractive(key) {\n",
              "          const element = document.querySelector('#df-5a30f394-a035-4637-9a75-96b0d3b13503');\n",
              "          const dataTable =\n",
              "            await google.colab.kernel.invokeFunction('convertToInteractive',\n",
              "                                                     [key], {});\n",
              "          if (!dataTable) return;\n",
              "\n",
              "          const docLinkHtml = 'Like what you see? Visit the ' +\n",
              "            '<a target=\"_blank\" href=https://colab.research.google.com/notebooks/data_table.ipynb>data table notebook</a>'\n",
              "            + ' to learn more about interactive tables.';\n",
              "          element.innerHTML = '';\n",
              "          dataTable['output_type'] = 'display_data';\n",
              "          await google.colab.output.renderOutput(dataTable, element);\n",
              "          const docLink = document.createElement('div');\n",
              "          docLink.innerHTML = docLinkHtml;\n",
              "          element.appendChild(docLink);\n",
              "        }\n",
              "      </script>\n",
              "    </div>\n",
              "  </div>\n",
              "  "
            ]
          },
          "metadata": {},
          "execution_count": 39
        }
      ],
      "source": [
        "df.head()"
      ]
    },
    {
      "cell_type": "code",
      "execution_count": null,
      "metadata": {
        "colab": {
          "base_uri": "https://localhost:8080/",
          "height": 296
        },
        "id": "YWixBivmXUnB",
        "outputId": "5fd0e348-b03b-4f90-b900-aac16a8b1f4f"
      },
      "outputs": [
        {
          "output_type": "execute_result",
          "data": {
            "text/plain": [
              "<matplotlib.axes._subplots.AxesSubplot at 0x7fa5c2a43550>"
            ]
          },
          "metadata": {},
          "execution_count": 40
        },
        {
          "output_type": "display_data",
          "data": {
            "text/plain": [
              "<Figure size 432x288 with 1 Axes>"
            ],
            "image/png": "[encoded data removed]"
          },
          "metadata": {
            "needs_background": "light"
          }
        }
      ],
      "source": [
        "sns.countplot(x=df['month'])"
      ]
    },
    {
      "cell_type": "code",
      "execution_count": null,
      "metadata": {
        "colab": {
          "base_uri": "https://localhost:8080/",
          "height": 296
        },
        "id": "Sv5BRygRXhKZ",
        "outputId": "892e89b8-b6fa-4322-e881-7109126ad57a"
      },
      "outputs": [
        {
          "output_type": "execute_result",
          "data": {
            "text/plain": [
              "<matplotlib.axes._subplots.AxesSubplot at 0x7fa5c273b790>"
            ]
          },
          "metadata": {},
          "execution_count": 41
        },
        {
          "output_type": "display_data",
          "data": {
            "text/plain": [
              "<Figure size 432x288 with 1 Axes>"
            ],
            "image/png": "[encoded data removed]"
          },
          "metadata": {
            "needs_background": "light"
          }
        }
      ],
      "source": [
        "sns.countplot(x=df['day'])"
      ]
    },
    {
      "cell_type": "code",
      "execution_count": null,
      "metadata": {
        "colab": {
          "base_uri": "https://localhost:8080/",
          "height": 296
        },
        "id": "mgHGAqGnXluE",
        "outputId": "543b20c7-a339-42ed-b4e7-6d4e153cc405"
      },
      "outputs": [
        {
          "output_type": "execute_result",
          "data": {
            "text/plain": [
              "<matplotlib.axes._subplots.AxesSubplot at 0x7fa5c26dcfd0>"
            ]
          },
          "metadata": {},
          "execution_count": 42
        },
        {
          "output_type": "display_data",
          "data": {
            "text/plain": [
              "<Figure size 432x288 with 1 Axes>"
            ],
            "image/png": "[encoded data removed]"
          },
          "metadata": {
            "needs_background": "light"
          }
        }
      ],
      "source": [
        "sns.countplot(x=df['dayname'])"
      ]
    },
    {
      "cell_type": "code",
      "execution_count": null,
      "metadata": {
        "colab": {
          "base_uri": "https://localhost:8080/"
        },
        "id": "U3jqszr0YkQ5",
        "outputId": "10c1e9b4-727f-4b99-9ff8-75a31c84b711"
      },
      "outputs": [
        {
          "output_type": "execute_result",
          "data": {
            "text/plain": [
              "3799     1\n",
              "3958     1\n",
              "3838     1\n",
              "3808     1\n",
              "3801     1\n",
              "        ..\n",
              "44949    1\n",
              "44950    1\n",
              "44951    1\n",
              "44952    1\n",
              "44955    1\n",
              "Name: UserName, Length: 41157, dtype: int64"
            ]
          },
          "metadata": {},
          "execution_count": 43
        }
      ],
      "source": [
        "df['UserName'].value_counts().sort_values(ascending=False)"
      ]
    },
    {
      "cell_type": "code",
      "execution_count": null,
      "metadata": {
        "id": "OPUzOgYbYv-n"
      },
      "outputs": [],
      "source": [
        "df['UserName']= df['UserName'].astype(str)\n",
        "df['ScreenName']= df['ScreenName'].astype(str)"
      ]
    },
    {
      "cell_type": "code",
      "execution_count": null,
      "metadata": {
        "colab": {
          "base_uri": "https://localhost:8080/"
        },
        "id": "B4Re16SnZFzl",
        "outputId": "cbab9530-af3f-437b-efee-28d89b84001f"
      },
      "outputs": [
        {
          "output_type": "stream",
          "name": "stdout",
          "text": [
            "<class 'pandas.core.frame.DataFrame'>\n",
            "RangeIndex: 41157 entries, 0 to 41156\n",
            "Data columns (total 12 columns):\n",
            " #   Column         Non-Null Count  Dtype         \n",
            "---  ------         --------------  -----         \n",
            " 0   UserName       41157 non-null  object        \n",
            " 1   ScreenName     41157 non-null  object        \n",
            " 2   Location       41157 non-null  object        \n",
            " 3   TweetAt        41157 non-null  datetime64[ns]\n",
            " 4   OriginalTweet  41157 non-null  object        \n",
            " 5   Sentiment      41157 non-null  object        \n",
            " 6   Country        41157 non-null  object        \n",
            " 7   City           41157 non-null  object        \n",
            " 8   Year           41157 non-null  int64         \n",
            " 9   month          41157 non-null  int64         \n",
            " 10  day            41157 non-null  int64         \n",
            " 11  dayname        41157 non-null  object        \n",
            "dtypes: datetime64[ns](1), int64(3), object(8)\n",
            "memory usage: 3.8+ MB\n"
          ]
        }
      ],
      "source": [
        "df.info()"
      ]
    },
    {
      "cell_type": "code",
      "execution_count": null,
      "metadata": {
        "colab": {
          "base_uri": "https://localhost:8080/",
          "height": 35
        },
        "id": "0E6U73J0ZhQI",
        "outputId": "a66d8e8f-de31-4a96-f20e-1226d748a3b9"
      },
      "outputs": [
        {
          "output_type": "execute_result",
          "data": {
            "text/plain": [
              "'@MeNyrbie @Phil_Gahan @Chrisitv https://t.co/iFz9FAn2Pa and https://t.co/xX6ghGFzCC and https://t.co/I2NlzdxNo8'"
            ],
            "application/vnd.google.colaboratory.intrinsic+json": {
              "type": "string"
            }
          },
          "metadata": {},
          "execution_count": 46
        }
      ],
      "source": [
        "df['OriginalTweet'][0]"
      ]
    },
    {
      "cell_type": "code",
      "execution_count": null,
      "metadata": {
        "id": "kZZeFLGeMADx"
      },
      "outputs": [],
      "source": [
        "# Common text preprocessing\n",
        "#1. convert to lowercase and remove punctuations and characters and then strip\n",
        "def preprocess(text):\n",
        "    text = text.lower() #lowercase text\n",
        "    text=text.strip()  #get rid of leading/trailing whitespace \n",
        "    text = re.sub(\"([^0-9A-Za-z \\t])|(\\w+:\\/\\/\\S+)\",' ',text) #removing all the punctuations, server/ web links\n",
        "    return text\n",
        "\n",
        " \n",
        "#2. STOPWORD REMOVAL\n",
        "def stopword(string):\n",
        "    a= [i for i in string.split() if i not in stopwords.words('english')]\n",
        "    return ' '.join(a)\n",
        "\n",
        "\n",
        "#3. STEMMING\n",
        " \n",
        "# Initialize the stemmer\n",
        "snow = SnowballStemmer('english')\n",
        "def stemming(string):\n",
        "    a=[snow.stem(i) for i in word_tokenize(string) ]\n",
        "    return \" \".join(a)\n",
        "\n",
        "\n",
        "#4. LEMMATIZATION\n",
        "# Initialize the lemmatizer\n",
        "wl = WordNetLemmatizer()\n",
        " \n",
        "def get_wordnet_pos(tag):\n",
        "    if tag.startswith('J'):\n",
        "        return wordnet.ADJ\n",
        "    elif tag.startswith('V'):\n",
        "        return wordnet.VERB\n",
        "    elif tag.startswith('N'):\n",
        "        return wordnet.NOUN\n",
        "    elif tag.startswith('R'):\n",
        "        return wordnet.ADV\n",
        "    else:\n",
        "        return wordnet.NOUN\n",
        "\n",
        "#5. Tokenize the sentence\n",
        "def lemmatizer(string):\n",
        "    word_pos_tags = nltk.pos_tag(word_tokenize(string)) # Get position tags\n",
        "    a=[wl.lemmatize(tag[0], get_wordnet_pos(tag[1])) for idx, tag in enumerate(word_pos_tags)] # Map the position tag and lemmatize the word/token\n",
        "    return \" \".join(a)\n",
        "\n",
        "#FINAL PREPROCESSING\n",
        "def finalpreprocess(string):\n",
        "    return lemmatizer(stopword(preprocess(string)))\n"
      ]
    },
    {
      "cell_type": "code",
      "execution_count": null,
      "metadata": {
        "colab": {
          "base_uri": "https://localhost:8080/",
          "height": 336
        },
        "id": "6b1E2XE6NtBQ",
        "outputId": "a66ee1bf-e94e-4b18-cbe9-de990c03013a"
      },
      "outputs": [
        {
          "output_type": "execute_result",
          "data": {
            "text/plain": [
              "  UserName ScreenName   Location    TweetAt  \\\n",
              "0     3799      48751     London 2020-03-16   \n",
              "1     3800      48752         UK 2020-03-16   \n",
              "2     3801      48753  Vagabonds 2020-03-16   \n",
              "3     3802      48754    Unknown 2020-03-16   \n",
              "4     3803      48755    Unknown 2020-03-16   \n",
              "\n",
              "                                       OriginalTweet           Sentiment  \\\n",
              "0  @MeNyrbie @Phil_Gahan @Chrisitv https://t.co/i...             Neutral   \n",
              "1  advice Talk to your neighbours family to excha...            Positive   \n",
              "2  Coronavirus Australia: Woolworths to give elde...            Positive   \n",
              "3  My food stock is not the only one which is emp...            Positive   \n",
              "4  Me, ready to go at supermarket during the #COV...  Extremely Negative   \n",
              "\n",
              "     Country       City  Year  month  day dayname  \\\n",
              "0         UK     London  2020      3   16  Monday   \n",
              "1        USA    Unknown  2020      3   16  Monday   \n",
              "2  Vagabonds  Vagabonds  2020      3   16  Monday   \n",
              "3    Unknown    Unknown  2020      3   16  Monday   \n",
              "4    Unknown    Unknown  2020      3   16  Monday   \n",
              "\n",
              "                                          clean_text  \n",
              "0                       menyrbie phil gahan chrisitv  \n",
              "1  advice talk neighbour family exchange phone nu...  \n",
              "2  coronavirus australia woolworths give elderly ...  \n",
              "3  food stock one empty please panic enough food ...  \n",
              "4  ready go supermarket covid19 outbreak paranoid...  "
            ],
            "text/html": [
              "\n",
              "  <div id=\"df-c2744eef-6a7e-4688-bdce-62a64a3d2fdc\">\n",
              "    <div class=\"colab-df-container\">\n",
              "      <div>\n",
              "<style scoped>\n",
              "    .dataframe tbody tr th:only-of-type {\n",
              "        vertical-align: middle;\n",
              "    }\n",
              "\n",
              "    .dataframe tbody tr th {\n",
              "        vertical-align: top;\n",
              "    }\n",
              "\n",
              "    .dataframe thead th {\n",
              "        text-align: right;\n",
              "    }\n",
              "</style>\n",
              "<table border=\"1\" class=\"dataframe\">\n",
              "  <thead>\n",
              "    <tr style=\"text-align: right;\">\n",
              "      <th></th>\n",
              "      <th>UserName</th>\n",
              "      <th>ScreenName</th>\n",
              "      <th>Location</th>\n",
              "      <th>TweetAt</th>\n",
              "      <th>OriginalTweet</th>\n",
              "      <th>Sentiment</th>\n",
              "      <th>Country</th>\n",
              "      <th>City</th>\n",
              "      <th>Year</th>\n",
              "      <th>month</th>\n",
              "      <th>day</th>\n",
              "      <th>dayname</th>\n",
              "      <th>clean_text</th>\n",
              "    </tr>\n",
              "  </thead>\n",
              "  <tbody>\n",
              "    <tr>\n",
              "      <th>0</th>\n",
              "      <td>3799</td>\n",
              "      <td>48751</td>\n",
              "      <td>London</td>\n",
              "      <td>2020-03-16</td>\n",
              "      <td>@MeNyrbie @Phil_Gahan @Chrisitv https://t.co/i...</td>\n",
              "      <td>Neutral</td>\n",
              "      <td>UK</td>\n",
              "      <td>London</td>\n",
              "      <td>2020</td>\n",
              "      <td>3</td>\n",
              "      <td>16</td>\n",
              "      <td>Monday</td>\n",
              "      <td>menyrbie phil gahan chrisitv</td>\n",
              "    </tr>\n",
              "    <tr>\n",
              "      <th>1</th>\n",
              "      <td>3800</td>\n",
              "      <td>48752</td>\n",
              "      <td>UK</td>\n",
              "      <td>2020-03-16</td>\n",
              "      <td>advice Talk to your neighbours family to excha...</td>\n",
              "      <td>Positive</td>\n",
              "      <td>USA</td>\n",
              "      <td>Unknown</td>\n",
              "      <td>2020</td>\n",
              "      <td>3</td>\n",
              "      <td>16</td>\n",
              "      <td>Monday</td>\n",
              "      <td>advice talk neighbour family exchange phone nu...</td>\n",
              "    </tr>\n",
              "    <tr>\n",
              "      <th>2</th>\n",
              "      <td>3801</td>\n",
              "      <td>48753</td>\n",
              "      <td>Vagabonds</td>\n",
              "      <td>2020-03-16</td>\n",
              "      <td>Coronavirus Australia: Woolworths to give elde...</td>\n",
              "      <td>Positive</td>\n",
              "      <td>Vagabonds</td>\n",
              "      <td>Vagabonds</td>\n",
              "      <td>2020</td>\n",
              "      <td>3</td>\n",
              "      <td>16</td>\n",
              "      <td>Monday</td>\n",
              "      <td>coronavirus australia woolworths give elderly ...</td>\n",
              "    </tr>\n",
              "    <tr>\n",
              "      <th>3</th>\n",
              "      <td>3802</td>\n",
              "      <td>48754</td>\n",
              "      <td>Unknown</td>\n",
              "      <td>2020-03-16</td>\n",
              "      <td>My food stock is not the only one which is emp...</td>\n",
              "      <td>Positive</td>\n",
              "      <td>Unknown</td>\n",
              "      <td>Unknown</td>\n",
              "      <td>2020</td>\n",
              "      <td>3</td>\n",
              "      <td>16</td>\n",
              "      <td>Monday</td>\n",
              "      <td>food stock one empty please panic enough food ...</td>\n",
              "    </tr>\n",
              "    <tr>\n",
              "      <th>4</th>\n",
              "      <td>3803</td>\n",
              "      <td>48755</td>\n",
              "      <td>Unknown</td>\n",
              "      <td>2020-03-16</td>\n",
              "      <td>Me, ready to go at supermarket during the #COV...</td>\n",
              "      <td>Extremely Negative</td>\n",
              "      <td>Unknown</td>\n",
              "      <td>Unknown</td>\n",
              "      <td>2020</td>\n",
              "      <td>3</td>\n",
              "      <td>16</td>\n",
              "      <td>Monday</td>\n",
              "      <td>ready go supermarket covid19 outbreak paranoid...</td>\n",
              "    </tr>\n",
              "  </tbody>\n",
              "</table>\n",
              "</div>\n",
              "      <button class=\"colab-df-convert\" onclick=\"convertToInteractive('df-c2744eef-6a7e-4688-bdce-62a64a3d2fdc')\"\n",
              "              title=\"Convert this dataframe to an interactive table.\"\n",
              "              style=\"display:none;\">\n",
              "        \n",
              "  <svg xmlns=\"http://www.w3.org/2000/svg\" height=\"24px\"viewBox=\"0 0 24 24\"\n",
              "       width=\"24px\">\n",
              "    <path d=\"M0 0h24v24H0V0z\" fill=\"none\"/>\n",
              "    <path d=\"M18.56 5.44l.94 2.06.94-2.06 2.06-.94-2.06-.94-.94-2.06-.94 2.06-2.06.94zm-11 1L8.5 8.5l.94-2.06 2.06-.94-2.06-.94L8.5 2.5l-.94 2.06-2.06.94zm10 10l.94 2.06.94-2.06 2.06-.94-2.06-.94-.94-2.06-.94 2.06-2.06.94z\"/><path d=\"M17.41 7.96l-1.37-1.37c-.4-.4-.92-.59-1.43-.59-.52 0-1.04.2-1.43.59L10.3 9.45l-7.72 7.72c-.78.78-.78 2.05 0 2.83L4 21.41c.39.39.9.59 1.41.59.51 0 1.02-.2 1.41-.59l7.78-7.78 2.81-2.81c.8-.78.8-2.07 0-2.86zM5.41 20L4 18.59l7.72-7.72 1.47 1.35L5.41 20z\"/>\n",
              "  </svg>\n",
              "      </button>\n",
              "      \n",
              "  <style>\n",
              "    .colab-df-container {\n",
              "      display:flex;\n",
              "      flex-wrap:wrap;\n",
              "      gap: 12px;\n",
              "    }\n",
              "\n",
              "    .colab-df-convert {\n",
              "      background-color: #E8F0FE;\n",
              "      border: none;\n",
              "      border-radius: 50%;\n",
              "      cursor: pointer;\n",
              "      display: none;\n",
              "      fill: #1967D2;\n",
              "      height: 32px;\n",
              "      padding: 0 0 0 0;\n",
              "      width: 32px;\n",
              "    }\n",
              "\n",
              "    .colab-df-convert:hover {\n",
              "      background-color: #E2EBFA;\n",
              "      box-shadow: 0px 1px 2px rgba(60, 64, 67, 0.3), 0px 1px 3px 1px rgba(60, 64, 67, 0.15);\n",
              "      fill: #174EA6;\n",
              "    }\n",
              "\n",
              "    [theme=dark] .colab-df-convert {\n",
              "      background-color: #3B4455;\n",
              "      fill: #D2E3FC;\n",
              "    }\n",
              "\n",
              "    [theme=dark] .colab-df-convert:hover {\n",
              "      background-color: #434B5C;\n",
              "      box-shadow: 0px 1px 3px 1px rgba(0, 0, 0, 0.15);\n",
              "      filter: drop-shadow(0px 1px 2px rgba(0, 0, 0, 0.3));\n",
              "      fill: #FFFFFF;\n",
              "    }\n",
              "  </style>\n",
              "\n",
              "      <script>\n",
              "        const buttonEl =\n",
              "          document.querySelector('#df-c2744eef-6a7e-4688-bdce-62a64a3d2fdc button.colab-df-convert');\n",
              "        buttonEl.style.display =\n",
              "          google.colab.kernel.accessAllowed ? 'block' : 'none';\n",
              "\n",
              "        async function convertToInteractive(key) {\n",
              "          const element = document.querySelector('#df-c2744eef-6a7e-4688-bdce-62a64a3d2fdc');\n",
              "          const dataTable =\n",
              "            await google.colab.kernel.invokeFunction('convertToInteractive',\n",
              "                                                     [key], {});\n",
              "          if (!dataTable) return;\n",
              "\n",
              "          const docLinkHtml = 'Like what you see? Visit the ' +\n",
              "            '<a target=\"_blank\" href=https://colab.research.google.com/notebooks/data_table.ipynb>data table notebook</a>'\n",
              "            + ' to learn more about interactive tables.';\n",
              "          element.innerHTML = '';\n",
              "          dataTable['output_type'] = 'display_data';\n",
              "          await google.colab.output.renderOutput(dataTable, element);\n",
              "          const docLink = document.createElement('div');\n",
              "          docLink.innerHTML = docLinkHtml;\n",
              "          element.appendChild(docLink);\n",
              "        }\n",
              "      </script>\n",
              "    </div>\n",
              "  </div>\n",
              "  "
            ]
          },
          "metadata": {},
          "execution_count": 48
        }
      ],
      "source": [
        "df['clean_text'] = df['OriginalTweet'].apply(lambda x: finalpreprocess(x))\n",
        "# df=df.drop(columns=['word_count','char_count','unique_word_count'])\n",
        "df.head()"
      ]
    },
    {
      "cell_type": "code",
      "execution_count": null,
      "metadata": {
        "colab": {
          "base_uri": "https://localhost:8080/",
          "height": 35
        },
        "id": "dXXxPVJTamx-",
        "outputId": "dd0856d8-9928-4f91-9848-a1a770602771"
      },
      "outputs": [
        {
          "output_type": "execute_result",
          "data": {
            "text/plain": [
              "'menyrbie phil gahan chrisitv'"
            ],
            "application/vnd.google.colaboratory.intrinsic+json": {
              "type": "string"
            }
          },
          "metadata": {},
          "execution_count": 49
        }
      ],
      "source": [
        "df.iloc[0]['clean_text']"
      ]
    },
    {
      "cell_type": "code",
      "execution_count": null,
      "metadata": {
        "id": "QB9gN3X6cxmo"
      },
      "outputs": [],
      "source": [
        "def createWordCloud(input_type, text):\n",
        "    \"\"\"\n",
        "    Function to generate the wordcloud\n",
        "\n",
        "    \"\"\"\n",
        "    wordcloud = WordCloud(width = 1000, height = 600, \n",
        "                      background_color ='white',\n",
        "                      collocations = False,\n",
        "                      stopwords=stop_words\n",
        "                     ).generate(text)\n",
        "\n",
        "    plt.figure(figsize = (12, 12), facecolor = None)\n",
        "    plt.title(\"Most common \"+ input_type +\" in the tweets \\n\", fontsize=20, color='Black')\n",
        "    plt.imshow(wordcloud, interpolation='bilinear') \n",
        "    plt.axis(\"off\") \n",
        "    plt.tight_layout(pad = 0) \n",
        "    plt.show()"
      ]
    },
    {
      "cell_type": "code",
      "execution_count": null,
      "metadata": {
        "colab": {
          "base_uri": "https://localhost:8080/",
          "height": 592
        },
        "id": "GWXx4PjBbxlm",
        "outputId": "f92f0806-395b-4e97-9dc7-0fa947b6dd98"
      },
      "outputs": [
        {
          "output_type": "display_data",
          "data": {
            "text/plain": [
              "<Figure size 864x864 with 1 Axes>"
            ],
            "image/png": "[encoded data removed]"
          },
          "metadata": {
            "needs_background": "light"
          }
        }
      ],
      "source": [
        "text = '' \n",
        "stop_words = set(stopwords.words(\"english\"))\n",
        "for row in df['clean_text']:\n",
        "    # typecaste each row to string and split it to get tokens\n",
        "    tokens = str(row).split()\n",
        "    for i in range(len(tokens)): \n",
        "        tokens[i] = tokens[i].lower()\n",
        "    text += \" \".join(tokens)+\" \"\n",
        "\n",
        "createWordCloud(\"words\",text)"
      ]
    },
    {
      "cell_type": "code",
      "execution_count": null,
      "metadata": {
        "id": "ANGViSx7_WI6"
      },
      "outputs": [],
      "source": [
        "# Define helper functions\n",
        "def get_top_n_words(n_top_words, count_vectorizer, text_data):\n",
        "    '''\n",
        "    returns a tuple of the top n words in a sample and their \n",
        "    accompanying counts, given a CountVectorizer object and text sample\n",
        "    '''\n",
        "    vectorized_tweets = count_vectorizer.fit_transform(text_data.values)\n",
        "    vectorized_total = np.sum(vectorized_tweets, axis=0)\n",
        "    word_indices = np.flip(np.argsort(vectorized_total)[0,:], 1)\n",
        "    word_values = np.flip(np.sort(vectorized_total)[0,:],1)\n",
        "    \n",
        "    word_vectors = np.zeros((n_top_words, vectorized_tweets.shape[1]))\n",
        "    for i in range(n_top_words):\n",
        "        word_vectors[i,word_indices[0,i]] = 1\n",
        "\n",
        "    words = [word[0].encode('ascii').decode('utf-8') for \n",
        "             word in count_vectorizer.inverse_transform(word_vectors)]\n",
        "\n",
        "    return (words, word_values[0,:n_top_words].tolist()[0])"
      ]
    },
    {
      "cell_type": "code",
      "execution_count": null,
      "metadata": {
        "colab": {
          "base_uri": "https://localhost:8080/",
          "height": 566
        },
        "id": "KSWIh8xX_X1s",
        "outputId": "6b38a112-c8d1-48c2-b57b-4b2a343f3a90"
      },
      "outputs": [
        {
          "output_type": "display_data",
          "data": {
            "text/plain": [
              "<Figure size 1152x576 with 1 Axes>"
            ],
            "image/png": "[encoded data removed]"
          },
          "metadata": {
            "needs_background": "light"
          }
        }
      ],
      "source": [
        "count_vectorizer = CountVectorizer(stop_words='english')\n",
        "words, word_values = get_top_n_words(n_top_words=30,\n",
        "                                     count_vectorizer=count_vectorizer, \n",
        "                                     text_data=df.clean_text)\n",
        "\n",
        "fig, ax = plt.subplots(figsize=(16,8))\n",
        "ax.bar(range(len(words)), word_values)\n",
        "ax.set_xticks(range(len(words)))\n",
        "ax.set_xticklabels(words, rotation='vertical')\n",
        "ax.set_title('Top words in headlines dataset (excluding stop words)')\n",
        "ax.set_xlabel('Word')\n",
        "ax.set_ylabel('Number of occurences')\n",
        "plt.show()"
      ]
    },
    {
      "cell_type": "code",
      "execution_count": null,
      "metadata": {
        "id": "9ZLBSb4TO7Gx"
      },
      "outputs": [],
      "source": [
        "def modified_sentiment(x):\n",
        "  if x=='Positive' or x=='Extremely Positive':\n",
        "    return 1\n",
        "  elif x=='Neutral':\n",
        "    return 0\n",
        "  else:\n",
        "    return -1"
      ]
    },
    {
      "cell_type": "code",
      "execution_count": null,
      "metadata": {
        "id": "6E1y_U9MO8Sa"
      },
      "outputs": [],
      "source": [
        "df['target']= df['Sentiment'].apply(modified_sentiment)\n",
        "df.head()\n",
        "df.drop(columns=['Sentiment'],axis=1,inplace=True)"
      ]
    },
    {
      "cell_type": "code",
      "execution_count": null,
      "metadata": {
        "colab": {
          "base_uri": "https://localhost:8080/",
          "height": 336
        },
        "id": "OklgAGj0QYIa",
        "outputId": "66b04d4c-62bb-456a-d2fb-3ed8137aa612"
      },
      "outputs": [
        {
          "output_type": "execute_result",
          "data": {
            "text/plain": [
              "  UserName ScreenName   Location    TweetAt  \\\n",
              "0     3799      48751     London 2020-03-16   \n",
              "1     3800      48752         UK 2020-03-16   \n",
              "2     3801      48753  Vagabonds 2020-03-16   \n",
              "3     3802      48754    Unknown 2020-03-16   \n",
              "4     3803      48755    Unknown 2020-03-16   \n",
              "\n",
              "                                       OriginalTweet    Country       City  \\\n",
              "0  @MeNyrbie @Phil_Gahan @Chrisitv https://t.co/i...         UK     London   \n",
              "1  advice Talk to your neighbours family to excha...        USA    Unknown   \n",
              "2  Coronavirus Australia: Woolworths to give elde...  Vagabonds  Vagabonds   \n",
              "3  My food stock is not the only one which is emp...    Unknown    Unknown   \n",
              "4  Me, ready to go at supermarket during the #COV...    Unknown    Unknown   \n",
              "\n",
              "   Year  month  day dayname  \\\n",
              "0  2020      3   16  Monday   \n",
              "1  2020      3   16  Monday   \n",
              "2  2020      3   16  Monday   \n",
              "3  2020      3   16  Monday   \n",
              "4  2020      3   16  Monday   \n",
              "\n",
              "                                          clean_text  target  \n",
              "0                       menyrbie phil gahan chrisitv       0  \n",
              "1  advice talk neighbour family exchange phone nu...       1  \n",
              "2  coronavirus australia woolworths give elderly ...       1  \n",
              "3  food stock one empty please panic enough food ...       1  \n",
              "4  ready go supermarket covid19 outbreak paranoid...      -1  "
            ],
            "text/html": [
              "\n",
              "  <div id=\"df-835d4e84-e96c-4c4d-bb4a-6e7892a7411b\">\n",
              "    <div class=\"colab-df-container\">\n",
              "      <div>\n",
              "<style scoped>\n",
              "    .dataframe tbody tr th:only-of-type {\n",
              "        vertical-align: middle;\n",
              "    }\n",
              "\n",
              "    .dataframe tbody tr th {\n",
              "        vertical-align: top;\n",
              "    }\n",
              "\n",
              "    .dataframe thead th {\n",
              "        text-align: right;\n",
              "    }\n",
              "</style>\n",
              "<table border=\"1\" class=\"dataframe\">\n",
              "  <thead>\n",
              "    <tr style=\"text-align: right;\">\n",
              "      <th></th>\n",
              "      <th>UserName</th>\n",
              "      <th>ScreenName</th>\n",
              "      <th>Location</th>\n",
              "      <th>TweetAt</th>\n",
              "      <th>OriginalTweet</th>\n",
              "      <th>Country</th>\n",
              "      <th>City</th>\n",
              "      <th>Year</th>\n",
              "      <th>month</th>\n",
              "      <th>day</th>\n",
              "      <th>dayname</th>\n",
              "      <th>clean_text</th>\n",
              "      <th>target</th>\n",
              "    </tr>\n",
              "  </thead>\n",
              "  <tbody>\n",
              "    <tr>\n",
              "      <th>0</th>\n",
              "      <td>3799</td>\n",
              "      <td>48751</td>\n",
              "      <td>London</td>\n",
              "      <td>2020-03-16</td>\n",
              "      <td>@MeNyrbie @Phil_Gahan @Chrisitv https://t.co/i...</td>\n",
              "      <td>UK</td>\n",
              "      <td>London</td>\n",
              "      <td>2020</td>\n",
              "      <td>3</td>\n",
              "      <td>16</td>\n",
              "      <td>Monday</td>\n",
              "      <td>menyrbie phil gahan chrisitv</td>\n",
              "      <td>0</td>\n",
              "    </tr>\n",
              "    <tr>\n",
              "      <th>1</th>\n",
              "      <td>3800</td>\n",
              "      <td>48752</td>\n",
              "      <td>UK</td>\n",
              "      <td>2020-03-16</td>\n",
              "      <td>advice Talk to your neighbours family to excha...</td>\n",
              "      <td>USA</td>\n",
              "      <td>Unknown</td>\n",
              "      <td>2020</td>\n",
              "      <td>3</td>\n",
              "      <td>16</td>\n",
              "      <td>Monday</td>\n",
              "      <td>advice talk neighbour family exchange phone nu...</td>\n",
              "      <td>1</td>\n",
              "    </tr>\n",
              "    <tr>\n",
              "      <th>2</th>\n",
              "      <td>3801</td>\n",
              "      <td>48753</td>\n",
              "      <td>Vagabonds</td>\n",
              "      <td>2020-03-16</td>\n",
              "      <td>Coronavirus Australia: Woolworths to give elde...</td>\n",
              "      <td>Vagabonds</td>\n",
              "      <td>Vagabonds</td>\n",
              "      <td>2020</td>\n",
              "      <td>3</td>\n",
              "      <td>16</td>\n",
              "      <td>Monday</td>\n",
              "      <td>coronavirus australia woolworths give elderly ...</td>\n",
              "      <td>1</td>\n",
              "    </tr>\n",
              "    <tr>\n",
              "      <th>3</th>\n",
              "      <td>3802</td>\n",
              "      <td>48754</td>\n",
              "      <td>Unknown</td>\n",
              "      <td>2020-03-16</td>\n",
              "      <td>My food stock is not the only one which is emp...</td>\n",
              "      <td>Unknown</td>\n",
              "      <td>Unknown</td>\n",
              "      <td>2020</td>\n",
              "      <td>3</td>\n",
              "      <td>16</td>\n",
              "      <td>Monday</td>\n",
              "      <td>food stock one empty please panic enough food ...</td>\n",
              "      <td>1</td>\n",
              "    </tr>\n",
              "    <tr>\n",
              "      <th>4</th>\n",
              "      <td>3803</td>\n",
              "      <td>48755</td>\n",
              "      <td>Unknown</td>\n",
              "      <td>2020-03-16</td>\n",
              "      <td>Me, ready to go at supermarket during the #COV...</td>\n",
              "      <td>Unknown</td>\n",
              "      <td>Unknown</td>\n",
              "      <td>2020</td>\n",
              "      <td>3</td>\n",
              "      <td>16</td>\n",
              "      <td>Monday</td>\n",
              "      <td>ready go supermarket covid19 outbreak paranoid...</td>\n",
              "      <td>-1</td>\n",
              "    </tr>\n",
              "  </tbody>\n",
              "</table>\n",
              "</div>\n",
              "      <button class=\"colab-df-convert\" onclick=\"convertToInteractive('df-835d4e84-e96c-4c4d-bb4a-6e7892a7411b')\"\n",
              "              title=\"Convert this dataframe to an interactive table.\"\n",
              "              style=\"display:none;\">\n",
              "        \n",
              "  <svg xmlns=\"http://www.w3.org/2000/svg\" height=\"24px\"viewBox=\"0 0 24 24\"\n",
              "       width=\"24px\">\n",
              "    <path d=\"M0 0h24v24H0V0z\" fill=\"none\"/>\n",
              "    <path d=\"M18.56 5.44l.94 2.06.94-2.06 2.06-.94-2.06-.94-.94-2.06-.94 2.06-2.06.94zm-11 1L8.5 8.5l.94-2.06 2.06-.94-2.06-.94L8.5 2.5l-.94 2.06-2.06.94zm10 10l.94 2.06.94-2.06 2.06-.94-2.06-.94-.94-2.06-.94 2.06-2.06.94z\"/><path d=\"M17.41 7.96l-1.37-1.37c-.4-.4-.92-.59-1.43-.59-.52 0-1.04.2-1.43.59L10.3 9.45l-7.72 7.72c-.78.78-.78 2.05 0 2.83L4 21.41c.39.39.9.59 1.41.59.51 0 1.02-.2 1.41-.59l7.78-7.78 2.81-2.81c.8-.78.8-2.07 0-2.86zM5.41 20L4 18.59l7.72-7.72 1.47 1.35L5.41 20z\"/>\n",
              "  </svg>\n",
              "      </button>\n",
              "      \n",
              "  <style>\n",
              "    .colab-df-container {\n",
              "      display:flex;\n",
              "      flex-wrap:wrap;\n",
              "      gap: 12px;\n",
              "    }\n",
              "\n",
              "    .colab-df-convert {\n",
              "      background-color: #E8F0FE;\n",
              "      border: none;\n",
              "      border-radius: 50%;\n",
              "      cursor: pointer;\n",
              "      display: none;\n",
              "      fill: #1967D2;\n",
              "      height: 32px;\n",
              "      padding: 0 0 0 0;\n",
              "      width: 32px;\n",
              "    }\n",
              "\n",
              "    .colab-df-convert:hover {\n",
              "      background-color: #E2EBFA;\n",
              "      box-shadow: 0px 1px 2px rgba(60, 64, 67, 0.3), 0px 1px 3px 1px rgba(60, 64, 67, 0.15);\n",
              "      fill: #174EA6;\n",
              "    }\n",
              "\n",
              "    [theme=dark] .colab-df-convert {\n",
              "      background-color: #3B4455;\n",
              "      fill: #D2E3FC;\n",
              "    }\n",
              "\n",
              "    [theme=dark] .colab-df-convert:hover {\n",
              "      background-color: #434B5C;\n",
              "      box-shadow: 0px 1px 3px 1px rgba(0, 0, 0, 0.15);\n",
              "      filter: drop-shadow(0px 1px 2px rgba(0, 0, 0, 0.3));\n",
              "      fill: #FFFFFF;\n",
              "    }\n",
              "  </style>\n",
              "\n",
              "      <script>\n",
              "        const buttonEl =\n",
              "          document.querySelector('#df-835d4e84-e96c-4c4d-bb4a-6e7892a7411b button.colab-df-convert');\n",
              "        buttonEl.style.display =\n",
              "          google.colab.kernel.accessAllowed ? 'block' : 'none';\n",
              "\n",
              "        async function convertToInteractive(key) {\n",
              "          const element = document.querySelector('#df-835d4e84-e96c-4c4d-bb4a-6e7892a7411b');\n",
              "          const dataTable =\n",
              "            await google.colab.kernel.invokeFunction('convertToInteractive',\n",
              "                                                     [key], {});\n",
              "          if (!dataTable) return;\n",
              "\n",
              "          const docLinkHtml = 'Like what you see? Visit the ' +\n",
              "            '<a target=\"_blank\" href=https://colab.research.google.com/notebooks/data_table.ipynb>data table notebook</a>'\n",
              "            + ' to learn more about interactive tables.';\n",
              "          element.innerHTML = '';\n",
              "          dataTable['output_type'] = 'display_data';\n",
              "          await google.colab.output.renderOutput(dataTable, element);\n",
              "          const docLink = document.createElement('div');\n",
              "          docLink.innerHTML = docLinkHtml;\n",
              "          element.appendChild(docLink);\n",
              "        }\n",
              "      </script>\n",
              "    </div>\n",
              "  </div>\n",
              "  "
            ]
          },
          "metadata": {},
          "execution_count": 57
        }
      ],
      "source": [
        "df.head()"
      ]
    },
    {
      "cell_type": "code",
      "execution_count": null,
      "metadata": {
        "id": "zsG4MjrGUkXt"
      },
      "outputs": [],
      "source": [
        "#SPLITTING THE TRAINING DATASET INTO TRAINING AND VALIDATION\n",
        " \n",
        "\n",
        "X_train, X_val, y_train, y_val = train_test_split(df[\"clean_text\"],df[\"target\"],test_size=0.25,shuffle=True)\n",
        "\n",
        "X_train_tok= [nltk.word_tokenize(i) for i in X_train]  #for word2vec\n",
        "X_val_tok= [nltk.word_tokenize(i) for i in X_val]      #for word2vec"
      ]
    },
    {
      "cell_type": "code",
      "execution_count": null,
      "metadata": {
        "id": "cEy4Kn4ZUuVl"
      },
      "outputs": [],
      "source": [
        "#TF-IDF\n",
        "\n",
        "# Convert x_train to vector since model can only run on numbers and not words- Fit and transform\n",
        "\n",
        "tfidf_vectorizer = TfidfVectorizer(use_idf=True)\n",
        "X_train_vectors_tfidf = tfidf_vectorizer.fit_transform(X_train) #tfidf runs on non-tokenized sentences unlike word2vec\n",
        "\n",
        "# Only transform x_test (not fit and transform)\n",
        "\n",
        "X_val_vectors_tfidf = tfidf_vectorizer.transform(X_val) "
      ]
    },
    {
      "cell_type": "code",
      "execution_count": null,
      "metadata": {
        "colab": {
          "base_uri": "https://localhost:8080/"
        },
        "id": "-gOSqLIdU0Kq",
        "outputId": "e7f5e19e-7c8a-48ef-9c0a-47c812045cba"
      },
      "outputs": [
        {
          "name": "stdout",
          "output_type": "stream",
          "text": [
            "              precision    recall  f1-score   support\n",
            "\n",
            "          -1       0.81      0.81      0.81      3942\n",
            "           0       0.72      0.61      0.66      1842\n",
            "           1       0.81      0.86      0.83      4506\n",
            "\n",
            "    accuracy                           0.80     10290\n",
            "   macro avg       0.78      0.76      0.77     10290\n",
            "weighted avg       0.79      0.80      0.79     10290\n",
            "\n",
            "Confusion Matrix: [[3193  222  527]\n",
            " [ 324 1125  393]\n",
            " [ 411  223 3872]]\n"
          ]
        }
      ],
      "source": [
        "#FITTING THE CLASSIFICATION MODEL using Logistic Regression(tf-idf)\n",
        "\n",
        "lr_tfidf=LogisticRegression(solver = 'liblinear', C=10, penalty = 'l2')\n",
        "lr_tfidf.fit(X_train_vectors_tfidf, y_train)  #model\n",
        "\n",
        "#Predict y value for test dataset\n",
        "y_predict = lr_tfidf.predict(X_val_vectors_tfidf)\n",
        "y_prob = lr_tfidf.predict_proba(X_val_vectors_tfidf)[:,1]\n",
        " \n",
        "\n",
        "print(classification_report(y_val,y_predict))\n",
        "print('Confusion Matrix:',confusion_matrix(y_val, y_predict))"
      ]
    },
    {
      "cell_type": "code",
      "execution_count": null,
      "metadata": {
        "colab": {
          "base_uri": "https://localhost:8080/"
        },
        "id": "c4m7iytAU24i",
        "outputId": "706ef5ac-5d6a-48ce-e575-13372b8261d0"
      },
      "outputs": [
        {
          "name": "stdout",
          "output_type": "stream",
          "text": [
            "              precision    recall  f1-score   support\n",
            "\n",
            "          -1       0.75      0.63      0.69      3942\n",
            "           0       0.76      0.01      0.02      1842\n",
            "           1       0.59      0.91      0.71      4506\n",
            "\n",
            "    accuracy                           0.64     10290\n",
            "   macro avg       0.70      0.52      0.47     10290\n",
            "weighted avg       0.68      0.64      0.58     10290\n",
            "\n",
            "Confusion Matrix: [[2493    5 1444]\n",
            " [ 416   19 1407]\n",
            " [ 420    1 4085]]\n"
          ]
        }
      ],
      "source": [
        "#FITTING THE CLASSIFICATION MODEL using Naive Bayes(tf-idf)\n",
        "\n",
        "nb_tfidf = MultinomialNB()\n",
        "nb_tfidf.fit(X_train_vectors_tfidf, y_train)  #model\n",
        "\n",
        "#Predict y value for test dataset\n",
        "y_predict = nb_tfidf.predict(X_val_vectors_tfidf)\n",
        "y_prob = nb_tfidf.predict_proba(X_val_vectors_tfidf)[:,1]\n",
        " \n",
        "\n",
        "print(classification_report(y_val,y_predict))\n",
        "print('Confusion Matrix:',confusion_matrix(y_val, y_predict))"
      ]
    },
    {
      "cell_type": "code",
      "execution_count": null,
      "metadata": {
        "colab": {
          "background_save": true,
          "base_uri": "https://localhost:8080/"
        },
        "id": "mqQqOBo8VHix",
        "outputId": "a71254ff-dcbd-46b5-ff49-a47906ae7693"
      },
      "outputs": [
        {
          "name": "stdout",
          "output_type": "stream",
          "text": [
            "              precision    recall  f1-score   support\n",
            "\n",
            "          -1       0.78      0.80      0.79      3859\n",
            "           0       0.74      0.58      0.65      1886\n",
            "           1       0.79      0.85      0.82      4545\n",
            "\n",
            "    accuracy                           0.78     10290\n",
            "   macro avg       0.77      0.74      0.75     10290\n",
            "weighted avg       0.78      0.78      0.78     10290\n",
            "\n",
            "Confusion Matrix: [[3085  215  559]\n",
            " [ 334 1103  449]\n",
            " [ 520  179 3846]]\n"
          ]
        }
      ],
      "source": [
        "#FITTING THE CLASSIFICATION MODEL using Support vector classifier(tf-idf)\n",
        "\n",
        "from sklearn.svm import SVC #Support vector classifier\n",
        "svmc = SVC()\n",
        "svmc.fit(X_train_vectors_tfidf, y_train)\n",
        "\n",
        "\n",
        "#Predict y value for test dataset\n",
        "y_predict = svmc.predict(X_val_vectors_tfidf)\n",
        "# y_prob = svmc.predict_proba(X_val_vectors_tfidf)[:,1]\n",
        " \n",
        "\n",
        "print(classification_report(y_val,y_predict))\n",
        "print('Confusion Matrix:',confusion_matrix(y_val, y_predict))"
      ]
    },
    {
      "cell_type": "code",
      "execution_count": null,
      "metadata": {
        "colab": {
          "background_save": true,
          "base_uri": "https://localhost:8080/"
        },
        "id": "n8IcW0kwYDgY",
        "outputId": "d55d2bef-4751-40ea-8819-5b72daf442c4"
      },
      "outputs": [
        {
          "name": "stdout",
          "output_type": "stream",
          "text": [
            "              precision    recall  f1-score   support\n",
            "\n",
            "          -1       0.78      0.80      0.79      3859\n",
            "           0       0.74      0.58      0.65      1886\n",
            "           1       0.79      0.85      0.82      4545\n",
            "\n",
            "    accuracy                           0.78     10290\n",
            "   macro avg       0.77      0.74      0.75     10290\n",
            "weighted avg       0.78      0.78      0.78     10290\n",
            "\n",
            "Confusion Matrix: [[3085  215  559]\n",
            " [ 334 1103  449]\n",
            " [ 520  179 3846]]\n"
          ]
        }
      ],
      "source": [
        "#FITTING THE CLASSIFICATION MODEL using LGBM Classifier(tf-idf)\n",
        "\n",
        "import lightgbm as lgb\n",
        "lgbm= lgb.LGBMClassifier()\n",
        "lgbm.fit(X_train_vectors_tfidf, y_train)\n",
        "\n",
        "y_pred = lgbm.predict(X_val_vectors_tfidf)\n",
        "\n",
        "print(classification_report(y_val,y_predict))\n",
        "print('Confusion Matrix:',confusion_matrix(y_val, y_predict))"
      ]
    },
    {
      "cell_type": "code",
      "execution_count": null,
      "metadata": {
        "colab": {
          "background_save": true
        },
        "id": "qjXaKE_jZVmQ"
      },
      "outputs": [],
      "source": [
        "from sklearn.neighbors import KNeighborsClassifier\n",
        "\n",
        "#Setup arrays to store training and test accuracies\n",
        "neighbors = np.arange(1,9)\n",
        "train_accuracy =np.empty(len(neighbors))\n",
        "test_accuracy = np.empty(len(neighbors))\n",
        "\n",
        "for i,k in enumerate(neighbors):\n",
        "    # Setup a knn classifier with k neighbors\n",
        "    knn = KNeighborsClassifier(n_neighbors=k)\n",
        "    \n",
        "    # Fit the model\n",
        "    knn.fit(X_train_vectors_tfidf, y_train)\n",
        "    \n",
        "    # Compute accuracy on the training set\n",
        "    train_accuracy[i] = knn.score(X_train_vectors_tfidf, y_train)\n",
        "    \n",
        "    # Compute accuracy on the test set\n",
        "    test_accuracy[i] = knn.score(X_val_vectors_tfidf,y_val) "
      ]
    },
    {
      "cell_type": "code",
      "execution_count": null,
      "metadata": {
        "colab": {
          "background_save": true,
          "base_uri": "https://localhost:8080/",
          "height": 295
        },
        "id": "1-_x4Tohh_Yl",
        "outputId": "b3a0a568-40a5-42e1-8b59-8ec4948adad3"
      },
      "outputs": [
        {
          "data": {
            "image/png": "[encoded data removed]",
            "text/plain": [
              "<Figure size 432x288 with 1 Axes>"
            ]
          },
          "metadata": {},
          "output_type": "display_data"
        }
      ],
      "source": [
        "# Generate plot\n",
        "plt.title('k-NN Varying number of neighbors')\n",
        "plt.plot(neighbors, test_accuracy, label='Testing Accuracy')\n",
        "plt.plot(neighbors, train_accuracy, label='Training accuracy')\n",
        "plt.legend()\n",
        "plt.xlabel('Number of neighbors')\n",
        "plt.ylabel('Accuracy')\n",
        "plt.show()"
      ]
    },
    {
      "cell_type": "code",
      "execution_count": null,
      "metadata": {
        "colab": {
          "background_save": true,
          "base_uri": "https://localhost:8080/"
        },
        "id": "h_qnFf5TjeHj",
        "outputId": "e4e94ded-0021-47e0-b5c9-b37f49581c72"
      },
      "outputs": [
        {
          "name": "stdout",
          "output_type": "stream",
          "text": [
            "              precision    recall  f1-score   support\n",
            "\n",
            "          -1       0.78      0.80      0.79      3859\n",
            "           0       0.74      0.58      0.65      1886\n",
            "           1       0.79      0.85      0.82      4545\n",
            "\n",
            "    accuracy                           0.78     10290\n",
            "   macro avg       0.77      0.74      0.75     10290\n",
            "weighted avg       0.78      0.78      0.78     10290\n",
            "\n",
            "Confusion Matrix: [[3085  215  559]\n",
            " [ 334 1103  449]\n",
            " [ 520  179 3846]]\n"
          ]
        }
      ],
      "source": [
        "knn = KNeighborsClassifier(n_neighbors=8)\n",
        "knn.fit(X_train_vectors_tfidf, y_train)\n",
        "\n",
        "y_pred = knn.predict(X_val_vectors_tfidf)\n",
        "\n",
        "print(classification_report(y_val,y_predict))\n",
        "print('Confusion Matrix:',confusion_matrix(y_val, y_predict))\n"
      ]
    },
    {
      "cell_type": "code",
      "execution_count": null,
      "metadata": {
        "colab": {
          "base_uri": "https://localhost:8080/",
          "height": 423
        },
        "id": "rBz0BkWIkdeb",
        "outputId": "9772d401-322c-4150-dc9f-4efcb6136fc6"
      },
      "outputs": [
        {
          "output_type": "execute_result",
          "data": {
            "text/plain": [
              "       -1   0   1\n",
              "0       0   1   0\n",
              "1       0   0   1\n",
              "2       0   0   1\n",
              "3       0   0   1\n",
              "4       1   0   0\n",
              "...    ..  ..  ..\n",
              "41152   0   1   0\n",
              "41153   1   0   0\n",
              "41154   0   0   1\n",
              "41155   0   1   0\n",
              "41156   1   0   0\n",
              "\n",
              "[41157 rows x 3 columns]"
            ],
            "text/html": [
              "\n",
              "  <div id=\"df-aa82bd4f-9781-437e-9a88-3ef524e8675b\">\n",
              "    <div class=\"colab-df-container\">\n",
              "      <div>\n",
              "<style scoped>\n",
              "    .dataframe tbody tr th:only-of-type {\n",
              "        vertical-align: middle;\n",
              "    }\n",
              "\n",
              "    .dataframe tbody tr th {\n",
              "        vertical-align: top;\n",
              "    }\n",
              "\n",
              "    .dataframe thead th {\n",
              "        text-align: right;\n",
              "    }\n",
              "</style>\n",
              "<table border=\"1\" class=\"dataframe\">\n",
              "  <thead>\n",
              "    <tr style=\"text-align: right;\">\n",
              "      <th></th>\n",
              "      <th>-1</th>\n",
              "      <th>0</th>\n",
              "      <th>1</th>\n",
              "    </tr>\n",
              "  </thead>\n",
              "  <tbody>\n",
              "    <tr>\n",
              "      <th>0</th>\n",
              "      <td>0</td>\n",
              "      <td>1</td>\n",
              "      <td>0</td>\n",
              "    </tr>\n",
              "    <tr>\n",
              "      <th>1</th>\n",
              "      <td>0</td>\n",
              "      <td>0</td>\n",
              "      <td>1</td>\n",
              "    </tr>\n",
              "    <tr>\n",
              "      <th>2</th>\n",
              "      <td>0</td>\n",
              "      <td>0</td>\n",
              "      <td>1</td>\n",
              "    </tr>\n",
              "    <tr>\n",
              "      <th>3</th>\n",
              "      <td>0</td>\n",
              "      <td>0</td>\n",
              "      <td>1</td>\n",
              "    </tr>\n",
              "    <tr>\n",
              "      <th>4</th>\n",
              "      <td>1</td>\n",
              "      <td>0</td>\n",
              "      <td>0</td>\n",
              "    </tr>\n",
              "    <tr>\n",
              "      <th>...</th>\n",
              "      <td>...</td>\n",
              "      <td>...</td>\n",
              "      <td>...</td>\n",
              "    </tr>\n",
              "    <tr>\n",
              "      <th>41152</th>\n",
              "      <td>0</td>\n",
              "      <td>1</td>\n",
              "      <td>0</td>\n",
              "    </tr>\n",
              "    <tr>\n",
              "      <th>41153</th>\n",
              "      <td>1</td>\n",
              "      <td>0</td>\n",
              "      <td>0</td>\n",
              "    </tr>\n",
              "    <tr>\n",
              "      <th>41154</th>\n",
              "      <td>0</td>\n",
              "      <td>0</td>\n",
              "      <td>1</td>\n",
              "    </tr>\n",
              "    <tr>\n",
              "      <th>41155</th>\n",
              "      <td>0</td>\n",
              "      <td>1</td>\n",
              "      <td>0</td>\n",
              "    </tr>\n",
              "    <tr>\n",
              "      <th>41156</th>\n",
              "      <td>1</td>\n",
              "      <td>0</td>\n",
              "      <td>0</td>\n",
              "    </tr>\n",
              "  </tbody>\n",
              "</table>\n",
              "<p>41157 rows × 3 columns</p>\n",
              "</div>\n",
              "      <button class=\"colab-df-convert\" onclick=\"convertToInteractive('df-aa82bd4f-9781-437e-9a88-3ef524e8675b')\"\n",
              "              title=\"Convert this dataframe to an interactive table.\"\n",
              "              style=\"display:none;\">\n",
              "        \n",
              "  <svg xmlns=\"http://www.w3.org/2000/svg\" height=\"24px\"viewBox=\"0 0 24 24\"\n",
              "       width=\"24px\">\n",
              "    <path d=\"M0 0h24v24H0V0z\" fill=\"none\"/>\n",
              "    <path d=\"M18.56 5.44l.94 2.06.94-2.06 2.06-.94-2.06-.94-.94-2.06-.94 2.06-2.06.94zm-11 1L8.5 8.5l.94-2.06 2.06-.94-2.06-.94L8.5 2.5l-.94 2.06-2.06.94zm10 10l.94 2.06.94-2.06 2.06-.94-2.06-.94-.94-2.06-.94 2.06-2.06.94z\"/><path d=\"M17.41 7.96l-1.37-1.37c-.4-.4-.92-.59-1.43-.59-.52 0-1.04.2-1.43.59L10.3 9.45l-7.72 7.72c-.78.78-.78 2.05 0 2.83L4 21.41c.39.39.9.59 1.41.59.51 0 1.02-.2 1.41-.59l7.78-7.78 2.81-2.81c.8-.78.8-2.07 0-2.86zM5.41 20L4 18.59l7.72-7.72 1.47 1.35L5.41 20z\"/>\n",
              "  </svg>\n",
              "      </button>\n",
              "      \n",
              "  <style>\n",
              "    .colab-df-container {\n",
              "      display:flex;\n",
              "      flex-wrap:wrap;\n",
              "      gap: 12px;\n",
              "    }\n",
              "\n",
              "    .colab-df-convert {\n",
              "      background-color: #E8F0FE;\n",
              "      border: none;\n",
              "      border-radius: 50%;\n",
              "      cursor: pointer;\n",
              "      display: none;\n",
              "      fill: #1967D2;\n",
              "      height: 32px;\n",
              "      padding: 0 0 0 0;\n",
              "      width: 32px;\n",
              "    }\n",
              "\n",
              "    .colab-df-convert:hover {\n",
              "      background-color: #E2EBFA;\n",
              "      box-shadow: 0px 1px 2px rgba(60, 64, 67, 0.3), 0px 1px 3px 1px rgba(60, 64, 67, 0.15);\n",
              "      fill: #174EA6;\n",
              "    }\n",
              "\n",
              "    [theme=dark] .colab-df-convert {\n",
              "      background-color: #3B4455;\n",
              "      fill: #D2E3FC;\n",
              "    }\n",
              "\n",
              "    [theme=dark] .colab-df-convert:hover {\n",
              "      background-color: #434B5C;\n",
              "      box-shadow: 0px 1px 3px 1px rgba(0, 0, 0, 0.15);\n",
              "      filter: drop-shadow(0px 1px 2px rgba(0, 0, 0, 0.3));\n",
              "      fill: #FFFFFF;\n",
              "    }\n",
              "  </style>\n",
              "\n",
              "      <script>\n",
              "        const buttonEl =\n",
              "          document.querySelector('#df-aa82bd4f-9781-437e-9a88-3ef524e8675b button.colab-df-convert');\n",
              "        buttonEl.style.display =\n",
              "          google.colab.kernel.accessAllowed ? 'block' : 'none';\n",
              "\n",
              "        async function convertToInteractive(key) {\n",
              "          const element = document.querySelector('#df-aa82bd4f-9781-437e-9a88-3ef524e8675b');\n",
              "          const dataTable =\n",
              "            await google.colab.kernel.invokeFunction('convertToInteractive',\n",
              "                                                     [key], {});\n",
              "          if (!dataTable) return;\n",
              "\n",
              "          const docLinkHtml = 'Like what you see? Visit the ' +\n",
              "            '<a target=\"_blank\" href=https://colab.research.google.com/notebooks/data_table.ipynb>data table notebook</a>'\n",
              "            + ' to learn more about interactive tables.';\n",
              "          element.innerHTML = '';\n",
              "          dataTable['output_type'] = 'display_data';\n",
              "          await google.colab.output.renderOutput(dataTable, element);\n",
              "          const docLink = document.createElement('div');\n",
              "          docLink.innerHTML = docLinkHtml;\n",
              "          element.appendChild(docLink);\n",
              "        }\n",
              "      </script>\n",
              "    </div>\n",
              "  </div>\n",
              "  "
            ]
          },
          "metadata": {},
          "execution_count": 58
        }
      ],
      "source": [
        "label = df.target\n",
        "label= pd.get_dummies(label)\n",
        "label"
      ]
    },
    {
      "cell_type": "code",
      "execution_count": null,
      "metadata": {
        "colab": {
          "base_uri": "https://localhost:8080/"
        },
        "id": "mjT5pwHXlCX4",
        "outputId": "61a77d8d-beaa-42e1-fd8f-1e24dab2a3e6"
      },
      "outputs": [
        {
          "output_type": "execute_result",
          "data": {
            "text/plain": [
              "array(['menyrbie phil gahan chrisitv',\n",
              "       'advice talk neighbour family exchange phone number create contact list phone number neighbour school employer chemist gp set online shop account po adequate supply regular med order',\n",
              "       'coronavirus australia woolworths give elderly disable dedicate shopping hour amid covid 19 outbreak',\n",
              "       ...,\n",
              "       'know get tough kameronwilds ration toilet paper coronavirus toiletpaper kroger martinsville help u',\n",
              "       'wrong smell hand sanitizer start turn coronavirus covid19 coronavirus',\n",
              "       'tartiicat well new use rift go 700 00 amazon rn although normal market price usually 400 00 price really crazy right vr headset since hl alex announce bad covid 19 whethe'],\n",
              "      dtype=object)"
            ]
          },
          "metadata": {},
          "execution_count": 59
        }
      ],
      "source": [
        "tweet= df.clean_text.values\n",
        "tweet"
      ]
    },
    {
      "cell_type": "code",
      "execution_count": null,
      "metadata": {
        "id": "LO-B_oPllEyh"
      },
      "outputs": [],
      "source": [
        "from tensorflow.keras.preprocessing.text import Tokenizer\n",
        "\n",
        "tokenizer = Tokenizer()\n",
        "\n",
        "tokenizer.fit_on_texts(tweet)"
      ]
    },
    {
      "cell_type": "code",
      "execution_count": null,
      "metadata": {
        "id": "7YP1SHEvlKYY",
        "colab": {
          "base_uri": "https://localhost:8080/"
        },
        "outputId": "352c40a6-4944-498e-d7e1-c0f67089ddb5"
      },
      "outputs": [
        {
          "output_type": "execute_result",
          "data": {
            "text/plain": [
              "49663"
            ]
          },
          "metadata": {},
          "execution_count": 61
        }
      ],
      "source": [
        "vocab_size= len(tokenizer.word_index)+1\n",
        "vocab_size"
      ]
    },
    {
      "cell_type": "code",
      "source": [
        "maxlen = 200"
      ],
      "metadata": {
        "id": "F2BSJaPoUEqs"
      },
      "execution_count": null,
      "outputs": []
    },
    {
      "cell_type": "code",
      "execution_count": null,
      "metadata": {
        "id": "tvPWJHHblOwH"
      },
      "outputs": [],
      "source": [
        "encoded_docs = tokenizer.texts_to_sequences(tweet)"
      ]
    },
    {
      "cell_type": "code",
      "execution_count": null,
      "metadata": {
        "id": "PE4Hil6VlSp5"
      },
      "outputs": [],
      "source": [
        "from tensorflow.keras.preprocessing.sequence import pad_sequences\n",
        "\n",
        "padded_sequence = pad_sequences(encoded_docs, maxlen=200)"
      ]
    },
    {
      "cell_type": "code",
      "execution_count": null,
      "metadata": {
        "id": "hgW_-725nM3T"
      },
      "outputs": [],
      "source": [
        "from tensorflow.keras.models import Sequential\n",
        "from tensorflow.keras.layers import LSTM,Dense, Dropout,  SpatialDropout1D, MaxPool1D, Flatten, GlobalMaxPooling1D\n",
        "from tensorflow.keras.layers import Embedding"
      ]
    },
    {
      "cell_type": "code",
      "source": [
        "from google.colab import drive\n",
        "drive.mount('/content/drive')"
      ],
      "metadata": {
        "colab": {
          "base_uri": "https://localhost:8080/"
        },
        "id": "sOlAfZZvVeHA",
        "outputId": "1537d9ea-c249-4c9a-bf97-0cb73f8e85ae"
      },
      "execution_count": null,
      "outputs": [
        {
          "output_type": "stream",
          "name": "stdout",
          "text": [
            "Mounted at /content/drive\n"
          ]
        }
      ]
    },
    {
      "cell_type": "code",
      "source": [
        "from numpy import asarray\n",
        "from numpy import zeros\n",
        "\n",
        "\n",
        "embedding_dict = dict()\n",
        "glove_file = open('/content/drive/MyDrive/glove.6B.100d.txt',encoding='utf8')\n",
        "\n",
        "for w in glove_file:\n",
        "    records = w.split()\n",
        "    word = records[0]\n",
        "    #vector_dimensions = asarray(records[1:], dtype='float32')\n",
        "    #embedding_dict[word] = vector_dimensions\n",
        "    embedding_dict[word] = np.array(records[1:], dtype=np.float64)\n",
        "glove_file.close()"
      ],
      "metadata": {
        "id": "9nD2qzUVUTBP"
      },
      "execution_count": null,
      "outputs": []
    },
    {
      "cell_type": "code",
      "source": [
        "# Create Embedding Matrix having 200 columns \n",
        "# Containing 100-dimensional GloVe word embeddings for all words in our corpus.\n",
        "\n",
        "embedding_matrix = zeros((vocab_size, 100))\n",
        "for word, index in tokenizer.word_index.items():\n",
        "    embedding_vector = embedding_dict.get(word)\n",
        "    if embedding_vector is not None:\n",
        "        embedding_matrix[index] = embedding_vector"
      ],
      "metadata": {
        "id": "DhnyhpD0UXQC"
      },
      "execution_count": null,
      "outputs": []
    },
    {
      "cell_type": "code",
      "execution_count": null,
      "metadata": {
        "id": "bIUOIa4tnUGD"
      },
      "outputs": [],
      "source": [
        "#SPLITTING THE TRAINING DATASET INTO TRAINING AND VALIDATION\n",
        " \n",
        "\n",
        "X_TRAIN,X_TEST, Y_TRAIN, Y_TEST = train_test_split(padded_sequence,label,test_size=0.25,shuffle=True)\n"
      ]
    },
    {
      "cell_type": "code",
      "execution_count": null,
      "metadata": {
        "id": "uDdfyqf8CxYC"
      },
      "outputs": [],
      "source": [
        "from keras.backend import clear_session\n",
        "clear_session()"
      ]
    },
    {
      "cell_type": "code",
      "source": [
        "# Neural Network architecture\n",
        "\n",
        "snn_model = Sequential()\n",
        "embedding_layer = Embedding(vocab_size, 100, weights=[embedding_matrix], input_length=maxlen , trainable=True)\n",
        "snn_model.add(embedding_layer)\n",
        "snn_model.add(Flatten())\n",
        "snn_model.add(Dense(3, activation='softmax'))\n",
        "snn_model.compile(optimizer='adam', loss='binary_crossentropy', metrics=['acc'])\n",
        "print(snn_model.summary())"
      ],
      "metadata": {
        "colab": {
          "base_uri": "https://localhost:8080/"
        },
        "id": "dIBzk2k4V7VK",
        "outputId": "c03fd3e8-ac10-4010-b344-b2e003b0a5a1"
      },
      "execution_count": null,
      "outputs": [
        {
          "output_type": "stream",
          "name": "stdout",
          "text": [
            "Model: \"sequential\"\n",
            "_________________________________________________________________\n",
            " Layer (type)                Output Shape              Param #   \n",
            "=================================================================\n",
            " embedding (Embedding)       (None, 200, 100)          4966300   \n",
            "                                                                 \n",
            " flatten (Flatten)           (None, 20000)             0         \n",
            "                                                                 \n",
            " dense (Dense)               (None, 3)                 60003     \n",
            "                                                                 \n",
            "=================================================================\n",
            "Total params: 5,026,303\n",
            "Trainable params: 5,026,303\n",
            "Non-trainable params: 0\n",
            "_________________________________________________________________\n",
            "None\n"
          ]
        }
      ]
    },
    {
      "cell_type": "code",
      "source": [
        "# Model training\n",
        "\n",
        "snn_model_history = snn_model.fit(X_TRAIN,Y_TRAIN, batch_size=128, epochs=6, verbose=1, validation_split=0.2)"
      ],
      "metadata": {
        "colab": {
          "base_uri": "https://localhost:8080/"
        },
        "id": "Ut1c2O8nV7Rx",
        "outputId": "b782491f-a1ae-44d1-e93c-f75e83234af9"
      },
      "execution_count": null,
      "outputs": [
        {
          "output_type": "stream",
          "name": "stdout",
          "text": [
            "Epoch 1/6\n",
            "193/193 [==============================] - 16s 72ms/step - loss: 0.5251 - acc: 0.6029 - val_loss: 0.4773 - val_acc: 0.6582\n",
            "Epoch 2/6\n",
            "193/193 [==============================] - 15s 76ms/step - loss: 0.4076 - acc: 0.7386 - val_loss: 0.4281 - val_acc: 0.7132\n",
            "Epoch 3/6\n",
            "193/193 [==============================] - 16s 84ms/step - loss: 0.3219 - acc: 0.8195 - val_loss: 0.4015 - val_acc: 0.7410\n",
            "Epoch 4/6\n",
            "193/193 [==============================] - 16s 85ms/step - loss: 0.2548 - acc: 0.8751 - val_loss: 0.3915 - val_acc: 0.7527\n",
            "Epoch 5/6\n",
            "193/193 [==============================] - 14s 70ms/step - loss: 0.2020 - acc: 0.9140 - val_loss: 0.3912 - val_acc: 0.7600\n",
            "Epoch 6/6\n",
            "193/193 [==============================] - 14s 75ms/step - loss: 0.1594 - acc: 0.9408 - val_loss: 0.3985 - val_acc: 0.7572\n"
          ]
        }
      ]
    },
    {
      "cell_type": "code",
      "source": [
        "score = snn_model.evaluate(X_TEST,Y_TEST, verbose=1)"
      ],
      "metadata": {
        "colab": {
          "base_uri": "https://localhost:8080/"
        },
        "id": "1eDcLtpsV7Oh",
        "outputId": "896ed4a2-3aae-4c74-ba52-ae123a092ea6"
      },
      "execution_count": null,
      "outputs": [
        {
          "output_type": "stream",
          "name": "stdout",
          "text": [
            "322/322 [==============================] - 2s 5ms/step - loss: 0.3897 - acc: 0.7660\n"
          ]
        }
      ]
    },
    {
      "cell_type": "code",
      "source": [
        "from keras.layers import Conv1D"
      ],
      "metadata": {
        "id": "8ZIJVh9fV7LU"
      },
      "execution_count": null,
      "outputs": []
    },
    {
      "cell_type": "code",
      "source": [
        "# Neural Network architecture\n",
        "\n",
        "cnn_model = Sequential()\n",
        "\n",
        "embedding_layer = Embedding(vocab_size, 100, weights=[embedding_matrix], input_length=maxlen , trainable=True)\n",
        "cnn_model.add(embedding_layer)\n",
        "cnn_model.add(Conv1D(128, 5, activation='relu'))\n",
        "cnn_model.add(GlobalMaxPooling1D())\n",
        "cnn_model.add(Dense(3, activation='softmax'))\n",
        "cnn_model.compile(optimizer='adam', loss='binary_crossentropy', metrics=['acc'])\n",
        "print(cnn_model.summary())"
      ],
      "metadata": {
        "colab": {
          "base_uri": "https://localhost:8080/"
        },
        "id": "Ua_YvLBnV7IJ",
        "outputId": "cb6397ac-a68d-480c-bc7b-89a1fe93399e"
      },
      "execution_count": null,
      "outputs": [
        {
          "output_type": "stream",
          "name": "stdout",
          "text": [
            "Model: \"sequential_1\"\n",
            "_________________________________________________________________\n",
            " Layer (type)                Output Shape              Param #   \n",
            "=================================================================\n",
            " embedding_1 (Embedding)     (None, 200, 100)          4966300   \n",
            "                                                                 \n",
            " conv1d (Conv1D)             (None, 196, 128)          64128     \n",
            "                                                                 \n",
            " global_max_pooling1d (Globa  (None, 128)              0         \n",
            " lMaxPooling1D)                                                  \n",
            "                                                                 \n",
            " dense_1 (Dense)             (None, 3)                 387       \n",
            "                                                                 \n",
            "=================================================================\n",
            "Total params: 5,030,815\n",
            "Trainable params: 5,030,815\n",
            "Non-trainable params: 0\n",
            "_________________________________________________________________\n",
            "None\n"
          ]
        }
      ]
    },
    {
      "cell_type": "code",
      "source": [
        "cnn_model_history = cnn_model.fit(X_TRAIN,Y_TRAIN, batch_size=128, epochs=6, verbose=1, validation_split=0.2)"
      ],
      "metadata": {
        "colab": {
          "base_uri": "https://localhost:8080/"
        },
        "id": "YOb1PdiAV7FA",
        "outputId": "5f52f6ee-d68c-4507-fcb2-ba8b782feca6"
      },
      "execution_count": null,
      "outputs": [
        {
          "output_type": "stream",
          "name": "stdout",
          "text": [
            "Epoch 1/6\n",
            "193/193 [==============================] - 97s 495ms/step - loss: 0.4778 - acc: 0.6472 - val_loss: 0.4116 - val_acc: 0.7217\n",
            "Epoch 2/6\n",
            "193/193 [==============================] - 70s 366ms/step - loss: 0.3292 - acc: 0.8039 - val_loss: 0.3575 - val_acc: 0.7817\n",
            "Epoch 3/6\n",
            "193/193 [==============================] - 72s 372ms/step - loss: 0.2457 - acc: 0.8739 - val_loss: 0.3417 - val_acc: 0.8016\n",
            "Epoch 4/6\n",
            "193/193 [==============================] - 69s 360ms/step - loss: 0.1845 - acc: 0.9180 - val_loss: 0.3460 - val_acc: 0.8011\n",
            "Epoch 5/6\n",
            "193/193 [==============================] - 70s 364ms/step - loss: 0.1348 - acc: 0.9489 - val_loss: 0.3623 - val_acc: 0.8001\n",
            "Epoch 6/6\n",
            "193/193 [==============================] - 72s 374ms/step - loss: 0.0935 - acc: 0.9707 - val_loss: 0.3781 - val_acc: 0.7983\n"
          ]
        }
      ]
    },
    {
      "cell_type": "code",
      "source": [
        "score2 = cnn_model.evaluate(X_TEST,Y_TEST, verbose=1)"
      ],
      "metadata": {
        "colab": {
          "base_uri": "https://localhost:8080/"
        },
        "id": "zWW5Zjy4V7B8",
        "outputId": "cc27c07e-c223-44f0-ff51-6e28f8367dd9"
      },
      "execution_count": null,
      "outputs": [
        {
          "output_type": "stream",
          "name": "stdout",
          "text": [
            "322/322 [==============================] - 6s 18ms/step - loss: 0.3575 - acc: 0.8134\n"
          ]
        }
      ]
    },
    {
      "cell_type": "code",
      "source": [
        "lstm_model = Sequential()\n",
        "embedding_layer = Embedding(vocab_size, 100, weights=[embedding_matrix], input_length=maxlen , trainable=True)\n",
        "lstm_model.add(embedding_layer)\n",
        "lstm_model.add(SpatialDropout1D(0.25))\n",
        "lstm_model.add(LSTM(150))\n",
        "lstm_model.add(Dropout(0.2))\n",
        "lstm_model.add(Dense(3, activation='softmax'))\n",
        "lstm_model.compile(optimizer='adam', loss='binary_crossentropy', metrics=['acc'])\n",
        "print(lstm_model.summary())"
      ],
      "metadata": {
        "colab": {
          "base_uri": "https://localhost:8080/"
        },
        "id": "xjunA600V6-9",
        "outputId": "54f6ed27-45d8-4e13-8ec7-3fd0883c50ca"
      },
      "execution_count": null,
      "outputs": [
        {
          "output_type": "stream",
          "name": "stdout",
          "text": [
            "Model: \"sequential\"\n",
            "_________________________________________________________________\n",
            " Layer (type)                Output Shape              Param #   \n",
            "=================================================================\n",
            " embedding (Embedding)       (None, 200, 100)          4966300   \n",
            "                                                                 \n",
            " spatial_dropout1d (SpatialD  (None, 200, 100)         0         \n",
            " ropout1D)                                                       \n",
            "                                                                 \n",
            " lstm (LSTM)                 (None, 150)               150600    \n",
            "                                                                 \n",
            " dropout (Dropout)           (None, 150)               0         \n",
            "                                                                 \n",
            " dense (Dense)               (None, 3)                 453       \n",
            "                                                                 \n",
            "=================================================================\n",
            "Total params: 5,117,353\n",
            "Trainable params: 5,117,353\n",
            "Non-trainable params: 0\n",
            "_________________________________________________________________\n",
            "None\n"
          ]
        }
      ]
    },
    {
      "cell_type": "code",
      "source": [
        "lstm_model_history = lstm_model.fit(X_TRAIN,Y_TRAIN, batch_size=128, epochs=6, verbose=1, validation_split=0.2)"
      ],
      "metadata": {
        "colab": {
          "base_uri": "https://localhost:8080/"
        },
        "id": "0idIP28cV67p",
        "outputId": "cc5d5f93-dcbb-473c-c40f-685a4844cd91"
      },
      "execution_count": null,
      "outputs": [
        {
          "output_type": "stream",
          "name": "stdout",
          "text": [
            "Epoch 1/6\n",
            "193/193 [==============================] - 188s 955ms/step - loss: 0.5057 - acc: 0.6155 - val_loss: 0.4269 - val_acc: 0.7051\n",
            "Epoch 2/6\n",
            "193/193 [==============================] - 189s 981ms/step - loss: 0.3814 - acc: 0.7475 - val_loss: 0.3438 - val_acc: 0.7792\n",
            "Epoch 3/6\n",
            "193/193 [==============================] - 233s 1s/step - loss: 0.2975 - acc: 0.8187 - val_loss: 0.3131 - val_acc: 0.8102\n",
            "Epoch 4/6\n",
            "193/193 [==============================] - 210s 1s/step - loss: 0.2464 - acc: 0.8555 - val_loss: 0.2955 - val_acc: 0.8264\n",
            "Epoch 5/6\n",
            "193/193 [==============================] - 198s 1s/step - loss: 0.2123 - acc: 0.8795 - val_loss: 0.2989 - val_acc: 0.8207\n",
            "Epoch 6/6\n",
            "193/193 [==============================] - 183s 948ms/step - loss: 0.1802 - acc: 0.9023 - val_loss: 0.3108 - val_acc: 0.8262\n"
          ]
        }
      ]
    },
    {
      "cell_type": "code",
      "source": [
        "score2 = lstm_model.evaluate(X_TEST,Y_TEST, verbose=1)"
      ],
      "metadata": {
        "colab": {
          "base_uri": "https://localhost:8080/"
        },
        "id": "Sxz3Jx-WV629",
        "outputId": "e2b72eb8-13b8-40b2-940b-a5333b865595"
      },
      "execution_count": null,
      "outputs": [
        {
          "output_type": "stream",
          "name": "stdout",
          "text": [
            "322/322 [==============================] - 40s 125ms/step - loss: 0.3000 - acc: 0.8376\n"
          ]
        }
      ]
    },
    {
      "cell_type": "code",
      "source": [],
      "metadata": {
        "id": "etIQ9M1YXN3g"
      },
      "execution_count": null,
      "outputs": []
    },
    {
      "cell_type": "code",
      "source": [
        "from tensorflow.keras.layers import Bidirectional\n",
        "\n",
        "bilstm_model = Sequential()\n",
        "embedding_layer = Embedding(vocab_size, 100, weights=[embedding_matrix], input_length=maxlen , trainable=True)\n",
        "bilstm_model.add(embedding_layer)\n",
        "# bilstm_model.add(SpatialDropout1D(0.25))\n",
        "bilstm_model.add(Bidirectional(LSTM(128)))\n",
        "# bilstm_model.add(Dropout(0.2))\n",
        "bilstm_model.add(Dense(3, activation='softmax'))\n",
        "bilstm_model.compile(loss='binary_crossentropy',optimizer='adam', metrics=['accuracy'])\n",
        "print(bilstm_model.summary())"
      ],
      "metadata": {
        "colab": {
          "base_uri": "https://localhost:8080/",
          "height": 235
        },
        "id": "RnqNrbFvXN0V",
        "outputId": "eac6ded2-c3d2-4de9-a594-a96a38e02bfd"
      },
      "execution_count": null,
      "outputs": [
        {
          "output_type": "error",
          "ename": "NameError",
          "evalue": "ignored",
          "traceback": [
            "\u001b[0;31m---------------------------------------------------------------------------\u001b[0m",
            "\u001b[0;31mNameError\u001b[0m                                 Traceback (most recent call last)",
            "\u001b[0;32m<ipython-input-2-e338f0570ace>\u001b[0m in \u001b[0;36m<module>\u001b[0;34m\u001b[0m\n\u001b[1;32m      1\u001b[0m \u001b[0;32mfrom\u001b[0m \u001b[0mtensorflow\u001b[0m\u001b[0;34m.\u001b[0m\u001b[0mkeras\u001b[0m\u001b[0;34m.\u001b[0m\u001b[0mlayers\u001b[0m \u001b[0;32mimport\u001b[0m \u001b[0mBidirectional\u001b[0m\u001b[0;34m\u001b[0m\u001b[0;34m\u001b[0m\u001b[0m\n\u001b[1;32m      2\u001b[0m \u001b[0;34m\u001b[0m\u001b[0m\n\u001b[0;32m----> 3\u001b[0;31m \u001b[0mbilstm_model\u001b[0m \u001b[0;34m=\u001b[0m \u001b[0mSequential\u001b[0m\u001b[0;34m(\u001b[0m\u001b[0;34m)\u001b[0m\u001b[0;34m\u001b[0m\u001b[0;34m\u001b[0m\u001b[0m\n\u001b[0m\u001b[1;32m      4\u001b[0m \u001b[0membedding_layer\u001b[0m \u001b[0;34m=\u001b[0m \u001b[0mEmbedding\u001b[0m\u001b[0;34m(\u001b[0m\u001b[0mvocab_size\u001b[0m\u001b[0;34m,\u001b[0m \u001b[0;36m100\u001b[0m\u001b[0;34m,\u001b[0m \u001b[0mweights\u001b[0m\u001b[0;34m=\u001b[0m\u001b[0;34m[\u001b[0m\u001b[0membedding_matrix\u001b[0m\u001b[0;34m]\u001b[0m\u001b[0;34m,\u001b[0m \u001b[0minput_length\u001b[0m\u001b[0;34m=\u001b[0m\u001b[0mmaxlen\u001b[0m \u001b[0;34m,\u001b[0m \u001b[0mtrainable\u001b[0m\u001b[0;34m=\u001b[0m\u001b[0;32mTrue\u001b[0m\u001b[0;34m)\u001b[0m\u001b[0;34m\u001b[0m\u001b[0;34m\u001b[0m\u001b[0m\n\u001b[1;32m      5\u001b[0m \u001b[0mbilstm_model\u001b[0m\u001b[0;34m.\u001b[0m\u001b[0madd\u001b[0m\u001b[0;34m(\u001b[0m\u001b[0membedding_layer\u001b[0m\u001b[0;34m)\u001b[0m\u001b[0;34m\u001b[0m\u001b[0;34m\u001b[0m\u001b[0m\n",
            "\u001b[0;31mNameError\u001b[0m: name 'Sequential' is not defined"
          ]
        }
      ]
    },
    {
      "cell_type": "code",
      "source": [
        "bilstm_model_history = bilstm_model.fit(X_TRAIN,Y_TRAIN, batch_size=128, epochs=6, verbose=1, validation_split=0.2)"
      ],
      "metadata": {
        "colab": {
          "base_uri": "https://localhost:8080/",
          "height": 166
        },
        "id": "4EwvMt5xXNxU",
        "outputId": "c32c5b21-d164-4d5d-ac4d-37269f83bbd5"
      },
      "execution_count": null,
      "outputs": [
        {
          "output_type": "error",
          "ename": "NameError",
          "evalue": "ignored",
          "traceback": [
            "\u001b[0;31m---------------------------------------------------------------------------\u001b[0m",
            "\u001b[0;31mNameError\u001b[0m                                 Traceback (most recent call last)",
            "\u001b[0;32m<ipython-input-1-5ddac1db1509>\u001b[0m in \u001b[0;36m<module>\u001b[0;34m\u001b[0m\n\u001b[0;32m----> 1\u001b[0;31m \u001b[0mbilstm_model_history\u001b[0m \u001b[0;34m=\u001b[0m \u001b[0mbilstm_model\u001b[0m\u001b[0;34m.\u001b[0m\u001b[0mfit\u001b[0m\u001b[0;34m(\u001b[0m\u001b[0mX_TRAIN\u001b[0m\u001b[0;34m,\u001b[0m\u001b[0mY_TRAIN\u001b[0m\u001b[0;34m,\u001b[0m \u001b[0mbatch_size\u001b[0m\u001b[0;34m=\u001b[0m\u001b[0;36m128\u001b[0m\u001b[0;34m,\u001b[0m \u001b[0mepochs\u001b[0m\u001b[0;34m=\u001b[0m\u001b[0;36m6\u001b[0m\u001b[0;34m,\u001b[0m \u001b[0mverbose\u001b[0m\u001b[0;34m=\u001b[0m\u001b[0;36m1\u001b[0m\u001b[0;34m,\u001b[0m \u001b[0mvalidation_split\u001b[0m\u001b[0;34m=\u001b[0m\u001b[0;36m0.2\u001b[0m\u001b[0;34m)\u001b[0m\u001b[0;34m\u001b[0m\u001b[0;34m\u001b[0m\u001b[0m\n\u001b[0m",
            "\u001b[0;31mNameError\u001b[0m: name 'bilstm_model' is not defined"
          ]
        }
      ]
    },
    {
      "cell_type": "code",
      "source": [],
      "metadata": {
        "id": "FbJvlHPGXNt4"
      },
      "execution_count": null,
      "outputs": []
    },
    {
      "cell_type": "code",
      "execution_count": null,
      "metadata": {
        "colab": {
          "base_uri": "https://localhost:8080/"
        },
        "id": "3rr6sYHZnWiX",
        "outputId": "db97349e-1075-45c4-a363-90c31aad1ac3"
      },
      "outputs": [
        {
          "output_type": "stream",
          "name": "stdout",
          "text": [
            "Model: \"sequential\"\n",
            "_________________________________________________________________\n",
            " Layer (type)                Output Shape              Param #   \n",
            "=================================================================\n",
            " embedding (Embedding)       (None, 200, 32)           160000    \n",
            "                                                                 \n",
            " spatial_dropout1d (SpatialD  (None, 200, 32)          0         \n",
            " ropout1D)                                                       \n",
            "                                                                 \n",
            " lstm (LSTM)                 (None, 100)               53200     \n",
            "                                                                 \n",
            " dropout (Dropout)           (None, 100)               0         \n",
            "                                                                 \n",
            " dense (Dense)               (None, 3)                 303       \n",
            "                                                                 \n",
            "=================================================================\n",
            "Total params: 213,503\n",
            "Trainable params: 213,503\n",
            "Non-trainable params: 0\n",
            "_________________________________________________________________\n"
          ]
        }
      ],
      "source": [
        "embedding_vector_length = 32\n",
        "model = Sequential()\n",
        "model.add(Embedding(vocab_size, embedding_vector_length, input_length=200))\n",
        "model.add(SpatialDropout1D(0.25))\n",
        "model.add(LSTM(100, dropout=0.3, recurrent_dropout=0.3))\n",
        "model.add(Dropout(0.2))\n",
        "model.add(Dense(3, activation='softmax'))\n",
        "model.compile(loss='binary_crossentropy',optimizer='adam', metrics=['accuracy'])\n",
        "model.summary()"
      ]
    },
    {
      "cell_type": "code",
      "execution_count": null,
      "metadata": {
        "colab": {
          "base_uri": "https://localhost:8080/"
        },
        "id": "2sz--q5XnYkb",
        "outputId": "6c3eab88-6eb3-4f22-bee3-feedbc80e26c"
      },
      "outputs": [
        {
          "output_type": "stream",
          "name": "stdout",
          "text": [
            "Epoch 1/5\n",
            "483/483 [==============================] - 258s 525ms/step - loss: 0.4983 - accuracy: 0.6047 - val_loss: 0.3643 - val_accuracy: 0.7568\n",
            "Epoch 2/5\n",
            "483/483 [==============================] - 270s 559ms/step - loss: 0.3186 - accuracy: 0.8089 - val_loss: 0.3199 - val_accuracy: 0.8118\n",
            "Epoch 3/5\n",
            "483/483 [==============================] - 267s 552ms/step - loss: 0.2686 - accuracy: 0.8466 - val_loss: 0.3011 - val_accuracy: 0.8242\n",
            "Epoch 4/5\n",
            "483/483 [==============================] - 257s 532ms/step - loss: 0.2478 - accuracy: 0.8627 - val_loss: 0.2958 - val_accuracy: 0.8327\n",
            "Epoch 5/5\n",
            "483/483 [==============================] - 257s 533ms/step - loss: 0.2432 - accuracy: 0.8661 - val_loss: 0.3030 - val_accuracy: 0.8304\n"
          ]
        }
      ],
      "source": [
        "history = model.fit(X_TRAIN,Y_TRAIN,validation_data=(X_TEST, Y_TEST), epochs=5, batch_size=64)"
      ]
    },
    {
      "cell_type": "code",
      "execution_count": null,
      "metadata": {
        "colab": {
          "base_uri": "https://localhost:8080/"
        },
        "id": "tl26mv0Lnerp",
        "outputId": "c4156771-3cc5-4e38-dd01-398343ed1cf5"
      },
      "outputs": [
        {
          "output_type": "stream",
          "name": "stdout",
          "text": [
            "322/322 [==============================] - 19s 59ms/step - loss: 0.3030 - accuracy: 0.8304\n"
          ]
        },
        {
          "output_type": "execute_result",
          "data": {
            "text/plain": [
              "[0.3030049204826355, 0.8304178714752197]"
            ]
          },
          "metadata": {},
          "execution_count": 70
        }
      ],
      "source": [
        "model.evaluate(X_TEST,Y_TEST)"
      ]
    },
    {
      "cell_type": "code",
      "execution_count": null,
      "metadata": {
        "colab": {
          "base_uri": "https://localhost:8080/",
          "height": 265
        },
        "id": "nZxM0m29uBPe",
        "outputId": "001375fb-2fdf-4efd-be94-6bfb912ca27f"
      },
      "outputs": [
        {
          "output_type": "display_data",
          "data": {
            "text/plain": [
              "<Figure size 432x288 with 1 Axes>"
            ],
            "image/png": "[encoded data removed]"
          },
          "metadata": {
            "needs_background": "light"
          }
        }
      ],
      "source": [
        "plt.plot(history.history['accuracy'], label='acc')\n",
        "plt.plot(history.history['val_accuracy'], label='val_acc')\n",
        "plt.legend()\n",
        "plt.show()"
      ]
    },
    {
      "cell_type": "code",
      "execution_count": null,
      "metadata": {
        "colab": {
          "base_uri": "https://localhost:8080/",
          "height": 265
        },
        "id": "4Axb41HzuD7Z",
        "outputId": "e76295c7-9d4a-4773-ae98-d6d84841d085"
      },
      "outputs": [
        {
          "output_type": "display_data",
          "data": {
            "text/plain": [
              "<Figure size 432x288 with 1 Axes>"
            ],
            "image/png": "[encoded data removed]"
          },
          "metadata": {
            "needs_background": "light"
          }
        }
      ],
      "source": [
        "plt.plot(history.history['loss'], label='loss')\n",
        "plt.plot(history.history['val_loss'], label='val_loss')\n",
        "\n",
        "plt.legend()\n",
        "plt.show()"
      ]
    },
    {
      "cell_type": "code",
      "execution_count": null,
      "metadata": {
        "colab": {
          "base_uri": "https://localhost:8080/"
        },
        "id": "qW4yz1_UuGMn",
        "outputId": "f307bbba-1581-4cdf-a844-9a5adffe62cb"
      },
      "outputs": [
        {
          "output_type": "stream",
          "name": "stdout",
          "text": [
            "Model: \"sequential_1\"\n",
            "_________________________________________________________________\n",
            " Layer (type)                Output Shape              Param #   \n",
            "=================================================================\n",
            " embedding_1 (Embedding)     (None, 200, 32)           160000    \n",
            "                                                                 \n",
            " spatial_dropout1d_1 (Spatia  (None, 200, 32)          0         \n",
            " lDropout1D)                                                     \n",
            "                                                                 \n",
            " bidirectional (Bidirectiona  (None, 200)              106400    \n",
            " l)                                                              \n",
            "                                                                 \n",
            " dropout_1 (Dropout)         (None, 200)               0         \n",
            "                                                                 \n",
            " dense_1 (Dense)             (None, 3)                 603       \n",
            "                                                                 \n",
            "=================================================================\n",
            "Total params: 267,003\n",
            "Trainable params: 267,003\n",
            "Non-trainable params: 0\n",
            "_________________________________________________________________\n"
          ]
        }
      ],
      "source": [
        "from tensorflow.keras.layers import Bidirectional\n",
        "\n",
        "embedding_vector_length = 32\n",
        "model1 = Sequential()\n",
        "model1.add(Embedding(vocab_size, embedding_vector_length, input_length=200))\n",
        "model1.add(SpatialDropout1D(0.25))\n",
        "model1.add(Bidirectional(LSTM(100, dropout=0.3, recurrent_dropout=0.3)))\n",
        "model1.add(Dropout(0.2))\n",
        "model1.add(Dense(3, activation='softmax'))\n",
        "model1.compile(loss='binary_crossentropy',optimizer='adam', metrics=['accuracy'])\n",
        "model1.summary()"
      ]
    },
    {
      "cell_type": "code",
      "execution_count": null,
      "metadata": {
        "colab": {
          "base_uri": "https://localhost:8080/"
        },
        "id": "aHvxK5XfuS9O",
        "outputId": "c9b7ea7e-01a4-4bf8-af80-4da4a84acd54"
      },
      "outputs": [
        {
          "output_type": "stream",
          "name": "stdout",
          "text": [
            "Epoch 1/5\n",
            "483/483 [==============================] - 510s 1s/step - loss: 0.4889 - accuracy: 0.6212 - val_loss: 0.3634 - val_accuracy: 0.7692\n",
            "Epoch 2/5\n",
            "483/483 [==============================] - 487s 1s/step - loss: 0.3189 - accuracy: 0.8075 - val_loss: 0.3597 - val_accuracy: 0.7804\n",
            "Epoch 3/5\n",
            "483/483 [==============================] - 500s 1s/step - loss: 0.2713 - accuracy: 0.8470 - val_loss: 0.2983 - val_accuracy: 0.8267\n",
            "Epoch 4/5\n",
            "483/483 [==============================] - 512s 1s/step - loss: 0.2493 - accuracy: 0.8609 - val_loss: 0.3026 - val_accuracy: 0.8290\n",
            "Epoch 5/5\n",
            "483/483 [==============================] - 499s 1s/step - loss: 0.2366 - accuracy: 0.8690 - val_loss: 0.3004 - val_accuracy: 0.8300\n"
          ]
        }
      ],
      "source": [
        "history1 = model1.fit(X_TRAIN,Y_TRAIN,validation_data=(X_TEST, Y_TEST), epochs=5, batch_size=64)"
      ]
    },
    {
      "cell_type": "code",
      "execution_count": null,
      "metadata": {
        "colab": {
          "base_uri": "https://localhost:8080/"
        },
        "id": "2iX6pcq_uXHa",
        "outputId": "f7f1bb70-2119-453f-cfb9-7639f912ecee"
      },
      "outputs": [
        {
          "output_type": "stream",
          "name": "stdout",
          "text": [
            "322/322 [==============================] - 32s 100ms/step - loss: 0.3004 - accuracy: 0.8300\n"
          ]
        },
        {
          "output_type": "execute_result",
          "data": {
            "text/plain": [
              "[0.30037447810173035, 0.8300291299819946]"
            ]
          },
          "metadata": {},
          "execution_count": 75
        }
      ],
      "source": [
        "model1.evaluate(X_TEST,Y_TEST)"
      ]
    },
    {
      "cell_type": "code",
      "execution_count": null,
      "metadata": {
        "colab": {
          "base_uri": "https://localhost:8080/",
          "height": 265
        },
        "id": "z62vEILnuZhK",
        "outputId": "2c567888-3e5e-4cac-8b71-37159f0400d6"
      },
      "outputs": [
        {
          "output_type": "display_data",
          "data": {
            "text/plain": [
              "<Figure size 432x288 with 1 Axes>"
            ],
            "image/png": "[encoded data removed]"
          },
          "metadata": {
            "needs_background": "light"
          }
        }
      ],
      "source": [
        "plt.plot(history1.history['accuracy'], label='acc')\n",
        "plt.plot(history1.history['val_accuracy'], label='val_acc')\n",
        "plt.legend()\n",
        "plt.show()"
      ]
    },
    {
      "cell_type": "code",
      "execution_count": null,
      "metadata": {
        "colab": {
          "base_uri": "https://localhost:8080/",
          "height": 268
        },
        "id": "1dT_jNgGubiq",
        "outputId": "e6212c4b-67ae-46c7-b97d-266abb99de07"
      },
      "outputs": [
        {
          "output_type": "display_data",
          "data": {
            "text/plain": [
              "<Figure size 432x288 with 1 Axes>"
            ],
            "image/png": "[encoded data removed]"
          },
          "metadata": {
            "needs_background": "light"
          }
        }
      ],
      "source": [
        "plt.plot(history1.history['loss'], label='loss')\n",
        "plt.plot(history1.history['val_loss'], label='val_loss')\n",
        "\n",
        "plt.legend()\n",
        "plt.show()"
      ]
    },
    {
      "cell_type": "code",
      "execution_count": null,
      "metadata": {
        "colab": {
          "base_uri": "https://localhost:8080/"
        },
        "id": "qG9UQhIlud0s",
        "outputId": "0fe9d104-9d6d-4127-efd3-59ec1a8d16bf"
      },
      "outputs": [
        {
          "output_type": "stream",
          "name": "stdout",
          "text": [
            "Model: \"sequential\"\n",
            "_________________________________________________________________\n",
            " Layer (type)                Output Shape              Param #   \n",
            "=================================================================\n",
            " embedding (Embedding)       (None, 200, 32)           160000    \n",
            "                                                                 \n",
            " max_pooling1d (MaxPooling1D  (None, 200, 32)          0         \n",
            " )                                                               \n",
            "                                                                 \n",
            " lstm (LSTM)                 (None, 100)               53200     \n",
            "                                                                 \n",
            " dropout (Dropout)           (None, 100)               0         \n",
            "                                                                 \n",
            " dense (Dense)               (None, 3)                 303       \n",
            "                                                                 \n",
            "=================================================================\n",
            "Total params: 213,503\n",
            "Trainable params: 213,503\n",
            "Non-trainable params: 0\n",
            "_________________________________________________________________\n"
          ]
        }
      ],
      "source": [
        "\n",
        "embedding_vector_length = 32\n",
        "model2 = Sequential()\n",
        "model2.add(Embedding(vocab_size, embedding_vector_length, input_length=200))\n",
        "model2.add(MaxPool1D(1))\n",
        "model2.add(LSTM(100, dropout=0.5, recurrent_dropout=0.5))\n",
        "model2.add(Dropout(0.2))\n",
        "model2.add(Dense(3, activation='softmax'))\n",
        "model2.compile(loss='binary_crossentropy',optimizer='adam', metrics=['accuracy'])\n",
        "model2.summary()"
      ]
    },
    {
      "cell_type": "code",
      "source": [
        "history2 = model2.fit(X_TRAIN,Y_TRAIN,validation_split=0.2, epochs=5, batch_size=64)"
      ],
      "metadata": {
        "colab": {
          "base_uri": "https://localhost:8080/"
        },
        "id": "tLcL60uJO2mD",
        "outputId": "c03f221b-95fa-4127-b8e0-c9e9ec260959"
      },
      "execution_count": null,
      "outputs": [
        {
          "output_type": "stream",
          "name": "stdout",
          "text": [
            "Epoch 1/5\n",
            "386/386 [==============================] - 208s 529ms/step - loss: 0.5149 - accuracy: 0.5874 - val_loss: 0.3899 - val_accuracy: 0.7373\n",
            "Epoch 2/5\n",
            "386/386 [==============================] - 200s 519ms/step - loss: 0.3304 - accuracy: 0.7980 - val_loss: 0.3317 - val_accuracy: 0.7940\n",
            "Epoch 3/5\n",
            "386/386 [==============================] - 201s 520ms/step - loss: 0.2747 - accuracy: 0.8438 - val_loss: 0.3253 - val_accuracy: 0.8026\n",
            "Epoch 4/5\n",
            "386/386 [==============================] - 201s 520ms/step - loss: 0.2476 - accuracy: 0.8613 - val_loss: 0.3161 - val_accuracy: 0.8162\n",
            "Epoch 5/5\n",
            "386/386 [==============================] - 199s 516ms/step - loss: 0.2380 - accuracy: 0.8658 - val_loss: 0.3182 - val_accuracy: 0.8167\n"
          ]
        }
      ]
    },
    {
      "cell_type": "code",
      "source": [
        "model2.evaluate(X_TEST,Y_TEST)"
      ],
      "metadata": {
        "colab": {
          "base_uri": "https://localhost:8080/"
        },
        "id": "6ypGgXfLO-Si",
        "outputId": "da0b4e2d-4ef6-49c2-95d0-f384766eb96f"
      },
      "execution_count": null,
      "outputs": [
        {
          "output_type": "stream",
          "name": "stdout",
          "text": [
            "322/322 [==============================] - 19s 60ms/step - loss: 0.3144 - accuracy: 0.8195\n"
          ]
        },
        {
          "output_type": "execute_result",
          "data": {
            "text/plain": [
              "[0.31442707777023315, 0.8195335268974304]"
            ]
          },
          "metadata": {},
          "execution_count": 85
        }
      ]
    },
    {
      "cell_type": "code",
      "source": [],
      "metadata": {
        "id": "QO6MZ8htUMsp"
      },
      "execution_count": null,
      "outputs": []
    }
  ],
  "metadata": {
    "colab": {
      "provenance": [],
      "include_colab_link": true
    },
    "kernelspec": {
      "display_name": "Python 3",
      "name": "python3"
    },
    "language_info": {
      "name": "python"
    }
  },
  "nbformat": 4,
  "nbformat_minor": 0
}